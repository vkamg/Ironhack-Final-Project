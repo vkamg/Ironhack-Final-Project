{
 "cells": [
  {
   "cell_type": "code",
   "execution_count": 1,
   "metadata": {},
   "outputs": [],
   "source": [
    "import pandas as pd\n",
    "import Levenshtein\n",
    "import itertools\n",
    "from fuzzywuzzy import fuzz, process\n",
    "import ast\n",
    "import webbrowser"
   ]
  },
  {
   "cell_type": "code",
   "execution_count": 2,
   "metadata": {},
   "outputs": [
    {
     "data": {
      "text/html": [
       "<div>\n",
       "<style scoped>\n",
       "    .dataframe tbody tr th:only-of-type {\n",
       "        vertical-align: middle;\n",
       "    }\n",
       "\n",
       "    .dataframe tbody tr th {\n",
       "        vertical-align: top;\n",
       "    }\n",
       "\n",
       "    .dataframe thead th {\n",
       "        text-align: right;\n",
       "    }\n",
       "</style>\n",
       "<table border=\"1\" class=\"dataframe\">\n",
       "  <thead>\n",
       "    <tr style=\"text-align: right;\">\n",
       "      <th></th>\n",
       "      <th>recipe_name</th>\n",
       "      <th>recipe_url</th>\n",
       "      <th>ingredients_list</th>\n",
       "      <th>ingredient</th>\n",
       "      <th>variable</th>\n",
       "      <th>num_ingredients</th>\n",
       "      <th>category</th>\n",
       "      <th>main_category</th>\n",
       "      <th>tipo_plato</th>\n",
       "      <th>time_preparation(min)</th>\n",
       "      <th>calories(kcal)</th>\n",
       "      <th>gluten_free</th>\n",
       "      <th>egg_free</th>\n",
       "      <th>sucrose_fructose_free</th>\n",
       "      <th>low_sodium</th>\n",
       "      <th>lactose_free</th>\n",
       "    </tr>\n",
       "  </thead>\n",
       "  <tbody>\n",
       "    <tr>\n",
       "      <th>0</th>\n",
       "      <td>Ensalada niçoise</td>\n",
       "      <td>https://www.lecturas.com/recetas/ensalada-nico...</td>\n",
       "      <td>['patatas pequeñas rojas', 'huevos', 'judías v...</td>\n",
       "      <td>patatas pequeñas rojas</td>\n",
       "      <td>0</td>\n",
       "      <td>12</td>\n",
       "      <td>ensaladas</td>\n",
       "      <td>principal</td>\n",
       "      <td>['Primeros platos y entrantes']</td>\n",
       "      <td>60.0</td>\n",
       "      <td>252.0</td>\n",
       "      <td>0</td>\n",
       "      <td>0</td>\n",
       "      <td>0</td>\n",
       "      <td>0</td>\n",
       "      <td>0</td>\n",
       "    </tr>\n",
       "    <tr>\n",
       "      <th>1</th>\n",
       "      <td>Ensalada del périgord</td>\n",
       "      <td>https://www.lecturas.com/recetas/ensalada-peri...</td>\n",
       "      <td>['foie micuit', 'beicon gruesas', 'champiñones...</td>\n",
       "      <td>foie micuit</td>\n",
       "      <td>0</td>\n",
       "      <td>9</td>\n",
       "      <td>ensaladas</td>\n",
       "      <td>principal</td>\n",
       "      <td>['Primeros platos y entrantes']</td>\n",
       "      <td>25.0</td>\n",
       "      <td>386.0</td>\n",
       "      <td>0</td>\n",
       "      <td>0</td>\n",
       "      <td>0</td>\n",
       "      <td>0</td>\n",
       "      <td>0</td>\n",
       "    </tr>\n",
       "    <tr>\n",
       "      <th>2</th>\n",
       "      <td>Xató con salsa romesco</td>\n",
       "      <td>https://www.lecturas.com/recetas/xato-salsa-ro...</td>\n",
       "      <td>['bacalao desalado', 'cebolleta', 'escarolas',...</td>\n",
       "      <td>bacalao desalado</td>\n",
       "      <td>0</td>\n",
       "      <td>16</td>\n",
       "      <td>ensaladas</td>\n",
       "      <td>principal</td>\n",
       "      <td>['Primeros platos y entrantes']</td>\n",
       "      <td>35.0</td>\n",
       "      <td>NaN</td>\n",
       "      <td>0</td>\n",
       "      <td>0</td>\n",
       "      <td>0</td>\n",
       "      <td>0</td>\n",
       "      <td>0</td>\n",
       "    </tr>\n",
       "    <tr>\n",
       "      <th>3</th>\n",
       "      <td>Ensalada de ceviche de langostinos y cebolla</td>\n",
       "      <td>https://www.lecturas.com/recetas/ensalada-cevi...</td>\n",
       "      <td>['langostinos', 'pimienta', 'limas', 'tomates'...</td>\n",
       "      <td>langostinos</td>\n",
       "      <td>0</td>\n",
       "      <td>12</td>\n",
       "      <td>ensaladas</td>\n",
       "      <td>principal</td>\n",
       "      <td>['Primeros platos y entrantes']</td>\n",
       "      <td>25.0</td>\n",
       "      <td>176.0</td>\n",
       "      <td>0</td>\n",
       "      <td>0</td>\n",
       "      <td>0</td>\n",
       "      <td>0</td>\n",
       "      <td>0</td>\n",
       "    </tr>\n",
       "    <tr>\n",
       "      <th>4</th>\n",
       "      <td>Ensalada de pollo, remolacha y manzana</td>\n",
       "      <td>https://www.lecturas.com/recetas/ensalada-poll...</td>\n",
       "      <td>['pechugas de pollo', 'manzanas ácida', 'col l...</td>\n",
       "      <td>pechugas de pollo</td>\n",
       "      <td>0</td>\n",
       "      <td>16</td>\n",
       "      <td>ensaladas</td>\n",
       "      <td>principal</td>\n",
       "      <td>['Primeros platos y entrantes']</td>\n",
       "      <td>40.0</td>\n",
       "      <td>203.0</td>\n",
       "      <td>0</td>\n",
       "      <td>0</td>\n",
       "      <td>0</td>\n",
       "      <td>0</td>\n",
       "      <td>0</td>\n",
       "    </tr>\n",
       "  </tbody>\n",
       "</table>\n",
       "</div>"
      ],
      "text/plain": [
       "                                    recipe_name  \\\n",
       "0                              Ensalada niçoise   \n",
       "1                         Ensalada del périgord   \n",
       "2                        Xató con salsa romesco   \n",
       "3  Ensalada de ceviche de langostinos y cebolla   \n",
       "4        Ensalada de pollo, remolacha y manzana   \n",
       "\n",
       "                                          recipe_url  \\\n",
       "0  https://www.lecturas.com/recetas/ensalada-nico...   \n",
       "1  https://www.lecturas.com/recetas/ensalada-peri...   \n",
       "2  https://www.lecturas.com/recetas/xato-salsa-ro...   \n",
       "3  https://www.lecturas.com/recetas/ensalada-cevi...   \n",
       "4  https://www.lecturas.com/recetas/ensalada-poll...   \n",
       "\n",
       "                                    ingredients_list              ingredient  \\\n",
       "0  ['patatas pequeñas rojas', 'huevos', 'judías v...  patatas pequeñas rojas   \n",
       "1  ['foie micuit', 'beicon gruesas', 'champiñones...             foie micuit   \n",
       "2  ['bacalao desalado', 'cebolleta', 'escarolas',...        bacalao desalado   \n",
       "3  ['langostinos', 'pimienta', 'limas', 'tomates'...             langostinos   \n",
       "4  ['pechugas de pollo', 'manzanas ácida', 'col l...       pechugas de pollo   \n",
       "\n",
       "   variable  num_ingredients   category main_category  \\\n",
       "0         0               12  ensaladas     principal   \n",
       "1         0                9  ensaladas     principal   \n",
       "2         0               16  ensaladas     principal   \n",
       "3         0               12  ensaladas     principal   \n",
       "4         0               16  ensaladas     principal   \n",
       "\n",
       "                        tipo_plato  time_preparation(min)  calories(kcal)  \\\n",
       "0  ['Primeros platos y entrantes']                   60.0           252.0   \n",
       "1  ['Primeros platos y entrantes']                   25.0           386.0   \n",
       "2  ['Primeros platos y entrantes']                   35.0             NaN   \n",
       "3  ['Primeros platos y entrantes']                   25.0           176.0   \n",
       "4  ['Primeros platos y entrantes']                   40.0           203.0   \n",
       "\n",
       "   gluten_free  egg_free  sucrose_fructose_free  low_sodium  lactose_free  \n",
       "0            0         0                      0           0             0  \n",
       "1            0         0                      0           0             0  \n",
       "2            0         0                      0           0             0  \n",
       "3            0         0                      0           0             0  \n",
       "4            0         0                      0           0             0  "
      ]
     },
     "execution_count": 2,
     "metadata": {},
     "output_type": "execute_result"
    }
   ],
   "source": [
    "recipe_df = pd.read_csv('../data/processed/ingredients_df.csv')\n",
    "\n",
    "pd.set_option('max_columns', None)\n",
    "\n",
    "recipe_df.head()"
   ]
  },
  {
   "cell_type": "code",
   "execution_count": 3,
   "metadata": {},
   "outputs": [],
   "source": [
    "input_list = ['huevos', 'pechiga de pollo', 'lentejas', 'pimiento', 'arroz', 'leche', 'mantequilla',\n",
    "              'harina', 'sal', 'azúcar', 'aceite', 'zanahorias', 'queso', 'bacon', 'lechuga', 'calabacín',\n",
    "              'patatas', 'pollo']"
   ]
  },
  {
   "cell_type": "code",
   "execution_count": 4,
   "metadata": {},
   "outputs": [],
   "source": [
    "def fuzzy_columns(column, input_string):\n",
    "    ratio = fuzz.ratio(column, input_string)\n",
    "    return ratio"
   ]
  },
  {
   "cell_type": "code",
   "execution_count": 5,
   "metadata": {},
   "outputs": [],
   "source": [
    "for ingred in input_list:\n",
    "    recipe_df[ingred] = recipe_df.apply(lambda x: fuzzy_columns(x[\"ingredient\"], ingred), axis=1)"
   ]
  },
  {
   "cell_type": "code",
   "execution_count": 6,
   "metadata": {},
   "outputs": [
    {
     "data": {
      "text/html": [
       "<div>\n",
       "<style scoped>\n",
       "    .dataframe tbody tr th:only-of-type {\n",
       "        vertical-align: middle;\n",
       "    }\n",
       "\n",
       "    .dataframe tbody tr th {\n",
       "        vertical-align: top;\n",
       "    }\n",
       "\n",
       "    .dataframe thead th {\n",
       "        text-align: right;\n",
       "    }\n",
       "</style>\n",
       "<table border=\"1\" class=\"dataframe\">\n",
       "  <thead>\n",
       "    <tr style=\"text-align: right;\">\n",
       "      <th></th>\n",
       "      <th>recipe_name</th>\n",
       "      <th>recipe_url</th>\n",
       "      <th>ingredients_list</th>\n",
       "      <th>ingredient</th>\n",
       "      <th>variable</th>\n",
       "      <th>num_ingredients</th>\n",
       "      <th>category</th>\n",
       "      <th>main_category</th>\n",
       "      <th>tipo_plato</th>\n",
       "      <th>time_preparation(min)</th>\n",
       "      <th>calories(kcal)</th>\n",
       "      <th>gluten_free</th>\n",
       "      <th>egg_free</th>\n",
       "      <th>sucrose_fructose_free</th>\n",
       "      <th>low_sodium</th>\n",
       "      <th>lactose_free</th>\n",
       "      <th>huevos</th>\n",
       "      <th>pechiga de pollo</th>\n",
       "      <th>lentejas</th>\n",
       "      <th>pimiento</th>\n",
       "      <th>arroz</th>\n",
       "      <th>leche</th>\n",
       "      <th>mantequilla</th>\n",
       "      <th>harina</th>\n",
       "      <th>sal</th>\n",
       "      <th>azúcar</th>\n",
       "      <th>aceite</th>\n",
       "      <th>zanahorias</th>\n",
       "      <th>queso</th>\n",
       "      <th>bacon</th>\n",
       "      <th>lechuga</th>\n",
       "      <th>calabacín</th>\n",
       "      <th>patatas</th>\n",
       "      <th>pollo</th>\n",
       "    </tr>\n",
       "  </thead>\n",
       "  <tbody>\n",
       "    <tr>\n",
       "      <th>0</th>\n",
       "      <td>Ensalada niçoise</td>\n",
       "      <td>https://www.lecturas.com/recetas/ensalada-nico...</td>\n",
       "      <td>['patatas pequeñas rojas', 'huevos', 'judías v...</td>\n",
       "      <td>patatas pequeñas rojas</td>\n",
       "      <td>0</td>\n",
       "      <td>12</td>\n",
       "      <td>ensaladas</td>\n",
       "      <td>principal</td>\n",
       "      <td>['Primeros platos y entrantes']</td>\n",
       "      <td>60.0</td>\n",
       "      <td>252.0</td>\n",
       "      <td>0</td>\n",
       "      <td>0</td>\n",
       "      <td>0</td>\n",
       "      <td>0</td>\n",
       "      <td>0</td>\n",
       "      <td>29</td>\n",
       "      <td>32</td>\n",
       "      <td>33</td>\n",
       "      <td>20</td>\n",
       "      <td>22</td>\n",
       "      <td>15</td>\n",
       "      <td>36</td>\n",
       "      <td>21</td>\n",
       "      <td>16</td>\n",
       "      <td>21</td>\n",
       "      <td>21</td>\n",
       "      <td>31</td>\n",
       "      <td>37</td>\n",
       "      <td>15</td>\n",
       "      <td>21</td>\n",
       "      <td>19</td>\n",
       "      <td>48</td>\n",
       "      <td>15</td>\n",
       "    </tr>\n",
       "    <tr>\n",
       "      <th>1</th>\n",
       "      <td>Ensalada del périgord</td>\n",
       "      <td>https://www.lecturas.com/recetas/ensalada-peri...</td>\n",
       "      <td>['foie micuit', 'beicon gruesas', 'champiñones...</td>\n",
       "      <td>foie micuit</td>\n",
       "      <td>0</td>\n",
       "      <td>9</td>\n",
       "      <td>ensaladas</td>\n",
       "      <td>principal</td>\n",
       "      <td>['Primeros platos y entrantes']</td>\n",
       "      <td>25.0</td>\n",
       "      <td>386.0</td>\n",
       "      <td>0</td>\n",
       "      <td>0</td>\n",
       "      <td>0</td>\n",
       "      <td>0</td>\n",
       "      <td>0</td>\n",
       "      <td>12</td>\n",
       "      <td>22</td>\n",
       "      <td>21</td>\n",
       "      <td>42</td>\n",
       "      <td>12</td>\n",
       "      <td>25</td>\n",
       "      <td>27</td>\n",
       "      <td>12</td>\n",
       "      <td>0</td>\n",
       "      <td>12</td>\n",
       "      <td>35</td>\n",
       "      <td>19</td>\n",
       "      <td>12</td>\n",
       "      <td>12</td>\n",
       "      <td>33</td>\n",
       "      <td>10</td>\n",
       "      <td>11</td>\n",
       "      <td>12</td>\n",
       "    </tr>\n",
       "    <tr>\n",
       "      <th>2</th>\n",
       "      <td>Xató con salsa romesco</td>\n",
       "      <td>https://www.lecturas.com/recetas/xato-salsa-ro...</td>\n",
       "      <td>['bacalao desalado', 'cebolleta', 'escarolas',...</td>\n",
       "      <td>bacalao desalado</td>\n",
       "      <td>0</td>\n",
       "      <td>16</td>\n",
       "      <td>ensaladas</td>\n",
       "      <td>principal</td>\n",
       "      <td>['Primeros platos y entrantes']</td>\n",
       "      <td>35.0</td>\n",
       "      <td>NaN</td>\n",
       "      <td>0</td>\n",
       "      <td>0</td>\n",
       "      <td>0</td>\n",
       "      <td>0</td>\n",
       "      <td>0</td>\n",
       "      <td>18</td>\n",
       "      <td>44</td>\n",
       "      <td>25</td>\n",
       "      <td>17</td>\n",
       "      <td>19</td>\n",
       "      <td>19</td>\n",
       "      <td>30</td>\n",
       "      <td>18</td>\n",
       "      <td>32</td>\n",
       "      <td>27</td>\n",
       "      <td>27</td>\n",
       "      <td>31</td>\n",
       "      <td>29</td>\n",
       "      <td>38</td>\n",
       "      <td>26</td>\n",
       "      <td>40</td>\n",
       "      <td>35</td>\n",
       "      <td>29</td>\n",
       "    </tr>\n",
       "    <tr>\n",
       "      <th>3</th>\n",
       "      <td>Ensalada de ceviche de langostinos y cebolla</td>\n",
       "      <td>https://www.lecturas.com/recetas/ensalada-cevi...</td>\n",
       "      <td>['langostinos', 'pimienta', 'limas', 'tomates'...</td>\n",
       "      <td>langostinos</td>\n",
       "      <td>0</td>\n",
       "      <td>12</td>\n",
       "      <td>ensaladas</td>\n",
       "      <td>principal</td>\n",
       "      <td>['Primeros platos y entrantes']</td>\n",
       "      <td>25.0</td>\n",
       "      <td>176.0</td>\n",
       "      <td>0</td>\n",
       "      <td>0</td>\n",
       "      <td>0</td>\n",
       "      <td>0</td>\n",
       "      <td>0</td>\n",
       "      <td>24</td>\n",
       "      <td>22</td>\n",
       "      <td>42</td>\n",
       "      <td>32</td>\n",
       "      <td>25</td>\n",
       "      <td>12</td>\n",
       "      <td>36</td>\n",
       "      <td>35</td>\n",
       "      <td>14</td>\n",
       "      <td>12</td>\n",
       "      <td>24</td>\n",
       "      <td>48</td>\n",
       "      <td>25</td>\n",
       "      <td>38</td>\n",
       "      <td>22</td>\n",
       "      <td>30</td>\n",
       "      <td>33</td>\n",
       "      <td>25</td>\n",
       "    </tr>\n",
       "    <tr>\n",
       "      <th>4</th>\n",
       "      <td>Ensalada de pollo, remolacha y manzana</td>\n",
       "      <td>https://www.lecturas.com/recetas/ensalada-poll...</td>\n",
       "      <td>['pechugas de pollo', 'manzanas ácida', 'col l...</td>\n",
       "      <td>pechugas de pollo</td>\n",
       "      <td>0</td>\n",
       "      <td>16</td>\n",
       "      <td>ensaladas</td>\n",
       "      <td>principal</td>\n",
       "      <td>['Primeros platos y entrantes']</td>\n",
       "      <td>40.0</td>\n",
       "      <td>203.0</td>\n",
       "      <td>0</td>\n",
       "      <td>0</td>\n",
       "      <td>0</td>\n",
       "      <td>0</td>\n",
       "      <td>0</td>\n",
       "      <td>35</td>\n",
       "      <td>91</td>\n",
       "      <td>24</td>\n",
       "      <td>24</td>\n",
       "      <td>18</td>\n",
       "      <td>36</td>\n",
       "      <td>29</td>\n",
       "      <td>17</td>\n",
       "      <td>20</td>\n",
       "      <td>17</td>\n",
       "      <td>17</td>\n",
       "      <td>22</td>\n",
       "      <td>27</td>\n",
       "      <td>18</td>\n",
       "      <td>50</td>\n",
       "      <td>23</td>\n",
       "      <td>25</td>\n",
       "      <td>45</td>\n",
       "    </tr>\n",
       "    <tr>\n",
       "      <th>...</th>\n",
       "      <td>...</td>\n",
       "      <td>...</td>\n",
       "      <td>...</td>\n",
       "      <td>...</td>\n",
       "      <td>...</td>\n",
       "      <td>...</td>\n",
       "      <td>...</td>\n",
       "      <td>...</td>\n",
       "      <td>...</td>\n",
       "      <td>...</td>\n",
       "      <td>...</td>\n",
       "      <td>...</td>\n",
       "      <td>...</td>\n",
       "      <td>...</td>\n",
       "      <td>...</td>\n",
       "      <td>...</td>\n",
       "      <td>...</td>\n",
       "      <td>...</td>\n",
       "      <td>...</td>\n",
       "      <td>...</td>\n",
       "      <td>...</td>\n",
       "      <td>...</td>\n",
       "      <td>...</td>\n",
       "      <td>...</td>\n",
       "      <td>...</td>\n",
       "      <td>...</td>\n",
       "      <td>...</td>\n",
       "      <td>...</td>\n",
       "      <td>...</td>\n",
       "      <td>...</td>\n",
       "      <td>...</td>\n",
       "      <td>...</td>\n",
       "      <td>...</td>\n",
       "      <td>...</td>\n",
       "    </tr>\n",
       "    <tr>\n",
       "      <th>57309</th>\n",
       "      <td>Pastel de tres colores y tres sabores</td>\n",
       "      <td>https://www.lecturas.com/recetas/pastel-tres-c...</td>\n",
       "      <td>['mantequilla', 'azúcar', 'huevo', 'aroma de v...</td>\n",
       "      <td>azúcar</td>\n",
       "      <td>30</td>\n",
       "      <td>33</td>\n",
       "      <td>postres y dulces</td>\n",
       "      <td>postre</td>\n",
       "      <td>['Postres']</td>\n",
       "      <td>240.0</td>\n",
       "      <td>NaN</td>\n",
       "      <td>0</td>\n",
       "      <td>0</td>\n",
       "      <td>0</td>\n",
       "      <td>0</td>\n",
       "      <td>0</td>\n",
       "      <td>0</td>\n",
       "      <td>18</td>\n",
       "      <td>14</td>\n",
       "      <td>0</td>\n",
       "      <td>36</td>\n",
       "      <td>18</td>\n",
       "      <td>24</td>\n",
       "      <td>33</td>\n",
       "      <td>22</td>\n",
       "      <td>100</td>\n",
       "      <td>33</td>\n",
       "      <td>38</td>\n",
       "      <td>0</td>\n",
       "      <td>36</td>\n",
       "      <td>31</td>\n",
       "      <td>27</td>\n",
       "      <td>31</td>\n",
       "      <td>0</td>\n",
       "    </tr>\n",
       "    <tr>\n",
       "      <th>57310</th>\n",
       "      <td>Tarta de cubos de chocolate con toffee</td>\n",
       "      <td>https://www.lecturas.com/recetas/tarta-cubos-c...</td>\n",
       "      <td>['mantequilla', 'azúcar', 'huevo', 'harina', '...</td>\n",
       "      <td>chocolate negro fondant</td>\n",
       "      <td>31</td>\n",
       "      <td>33</td>\n",
       "      <td>postres y dulces</td>\n",
       "      <td>postre</td>\n",
       "      <td>['Postres']</td>\n",
       "      <td>360.0</td>\n",
       "      <td>NaN</td>\n",
       "      <td>0</td>\n",
       "      <td>0</td>\n",
       "      <td>0</td>\n",
       "      <td>0</td>\n",
       "      <td>0</td>\n",
       "      <td>21</td>\n",
       "      <td>36</td>\n",
       "      <td>32</td>\n",
       "      <td>19</td>\n",
       "      <td>21</td>\n",
       "      <td>21</td>\n",
       "      <td>24</td>\n",
       "      <td>34</td>\n",
       "      <td>8</td>\n",
       "      <td>21</td>\n",
       "      <td>21</td>\n",
       "      <td>24</td>\n",
       "      <td>14</td>\n",
       "      <td>21</td>\n",
       "      <td>27</td>\n",
       "      <td>31</td>\n",
       "      <td>27</td>\n",
       "      <td>21</td>\n",
       "    </tr>\n",
       "    <tr>\n",
       "      <th>57311</th>\n",
       "      <td>Pastel de tres colores y tres sabores</td>\n",
       "      <td>https://www.lecturas.com/recetas/pastel-tres-c...</td>\n",
       "      <td>['mantequilla', 'azúcar', 'huevo', 'aroma de v...</td>\n",
       "      <td>chocolate negro fondant</td>\n",
       "      <td>31</td>\n",
       "      <td>33</td>\n",
       "      <td>postres y dulces</td>\n",
       "      <td>postre</td>\n",
       "      <td>['Postres']</td>\n",
       "      <td>240.0</td>\n",
       "      <td>NaN</td>\n",
       "      <td>0</td>\n",
       "      <td>0</td>\n",
       "      <td>0</td>\n",
       "      <td>0</td>\n",
       "      <td>0</td>\n",
       "      <td>21</td>\n",
       "      <td>36</td>\n",
       "      <td>32</td>\n",
       "      <td>19</td>\n",
       "      <td>21</td>\n",
       "      <td>21</td>\n",
       "      <td>24</td>\n",
       "      <td>34</td>\n",
       "      <td>8</td>\n",
       "      <td>21</td>\n",
       "      <td>21</td>\n",
       "      <td>24</td>\n",
       "      <td>14</td>\n",
       "      <td>21</td>\n",
       "      <td>27</td>\n",
       "      <td>31</td>\n",
       "      <td>27</td>\n",
       "      <td>21</td>\n",
       "    </tr>\n",
       "    <tr>\n",
       "      <th>57312</th>\n",
       "      <td>Tarta de cubos de chocolate con toffee</td>\n",
       "      <td>https://www.lecturas.com/recetas/tarta-cubos-c...</td>\n",
       "      <td>['mantequilla', 'azúcar', 'huevo', 'harina', '...</td>\n",
       "      <td>cacao en polvo puro</td>\n",
       "      <td>32</td>\n",
       "      <td>33</td>\n",
       "      <td>postres y dulces</td>\n",
       "      <td>postre</td>\n",
       "      <td>['Postres']</td>\n",
       "      <td>360.0</td>\n",
       "      <td>NaN</td>\n",
       "      <td>0</td>\n",
       "      <td>0</td>\n",
       "      <td>0</td>\n",
       "      <td>0</td>\n",
       "      <td>0</td>\n",
       "      <td>24</td>\n",
       "      <td>51</td>\n",
       "      <td>15</td>\n",
       "      <td>22</td>\n",
       "      <td>25</td>\n",
       "      <td>17</td>\n",
       "      <td>20</td>\n",
       "      <td>16</td>\n",
       "      <td>18</td>\n",
       "      <td>32</td>\n",
       "      <td>24</td>\n",
       "      <td>28</td>\n",
       "      <td>17</td>\n",
       "      <td>33</td>\n",
       "      <td>15</td>\n",
       "      <td>29</td>\n",
       "      <td>15</td>\n",
       "      <td>33</td>\n",
       "    </tr>\n",
       "    <tr>\n",
       "      <th>57313</th>\n",
       "      <td>Pastel de tres colores y tres sabores</td>\n",
       "      <td>https://www.lecturas.com/recetas/pastel-tres-c...</td>\n",
       "      <td>['mantequilla', 'azúcar', 'huevo', 'aroma de v...</td>\n",
       "      <td>bolitas de chocolate</td>\n",
       "      <td>32</td>\n",
       "      <td>33</td>\n",
       "      <td>postres y dulces</td>\n",
       "      <td>postre</td>\n",
       "      <td>['Postres']</td>\n",
       "      <td>240.0</td>\n",
       "      <td>NaN</td>\n",
       "      <td>0</td>\n",
       "      <td>0</td>\n",
       "      <td>0</td>\n",
       "      <td>0</td>\n",
       "      <td>0</td>\n",
       "      <td>15</td>\n",
       "      <td>44</td>\n",
       "      <td>29</td>\n",
       "      <td>21</td>\n",
       "      <td>16</td>\n",
       "      <td>40</td>\n",
       "      <td>26</td>\n",
       "      <td>15</td>\n",
       "      <td>17</td>\n",
       "      <td>23</td>\n",
       "      <td>31</td>\n",
       "      <td>27</td>\n",
       "      <td>16</td>\n",
       "      <td>32</td>\n",
       "      <td>37</td>\n",
       "      <td>21</td>\n",
       "      <td>22</td>\n",
       "      <td>24</td>\n",
       "    </tr>\n",
       "  </tbody>\n",
       "</table>\n",
       "<p>57314 rows × 34 columns</p>\n",
       "</div>"
      ],
      "text/plain": [
       "                                        recipe_name  \\\n",
       "0                                  Ensalada niçoise   \n",
       "1                             Ensalada del périgord   \n",
       "2                            Xató con salsa romesco   \n",
       "3      Ensalada de ceviche de langostinos y cebolla   \n",
       "4            Ensalada de pollo, remolacha y manzana   \n",
       "...                                             ...   \n",
       "57309         Pastel de tres colores y tres sabores   \n",
       "57310        Tarta de cubos de chocolate con toffee   \n",
       "57311         Pastel de tres colores y tres sabores   \n",
       "57312        Tarta de cubos de chocolate con toffee   \n",
       "57313         Pastel de tres colores y tres sabores   \n",
       "\n",
       "                                              recipe_url  \\\n",
       "0      https://www.lecturas.com/recetas/ensalada-nico...   \n",
       "1      https://www.lecturas.com/recetas/ensalada-peri...   \n",
       "2      https://www.lecturas.com/recetas/xato-salsa-ro...   \n",
       "3      https://www.lecturas.com/recetas/ensalada-cevi...   \n",
       "4      https://www.lecturas.com/recetas/ensalada-poll...   \n",
       "...                                                  ...   \n",
       "57309  https://www.lecturas.com/recetas/pastel-tres-c...   \n",
       "57310  https://www.lecturas.com/recetas/tarta-cubos-c...   \n",
       "57311  https://www.lecturas.com/recetas/pastel-tres-c...   \n",
       "57312  https://www.lecturas.com/recetas/tarta-cubos-c...   \n",
       "57313  https://www.lecturas.com/recetas/pastel-tres-c...   \n",
       "\n",
       "                                        ingredients_list  \\\n",
       "0      ['patatas pequeñas rojas', 'huevos', 'judías v...   \n",
       "1      ['foie micuit', 'beicon gruesas', 'champiñones...   \n",
       "2      ['bacalao desalado', 'cebolleta', 'escarolas',...   \n",
       "3      ['langostinos', 'pimienta', 'limas', 'tomates'...   \n",
       "4      ['pechugas de pollo', 'manzanas ácida', 'col l...   \n",
       "...                                                  ...   \n",
       "57309  ['mantequilla', 'azúcar', 'huevo', 'aroma de v...   \n",
       "57310  ['mantequilla', 'azúcar', 'huevo', 'harina', '...   \n",
       "57311  ['mantequilla', 'azúcar', 'huevo', 'aroma de v...   \n",
       "57312  ['mantequilla', 'azúcar', 'huevo', 'harina', '...   \n",
       "57313  ['mantequilla', 'azúcar', 'huevo', 'aroma de v...   \n",
       "\n",
       "                    ingredient  variable  num_ingredients          category  \\\n",
       "0       patatas pequeñas rojas         0               12         ensaladas   \n",
       "1                  foie micuit         0                9         ensaladas   \n",
       "2             bacalao desalado         0               16         ensaladas   \n",
       "3                  langostinos         0               12         ensaladas   \n",
       "4            pechugas de pollo         0               16         ensaladas   \n",
       "...                        ...       ...              ...               ...   \n",
       "57309                   azúcar        30               33  postres y dulces   \n",
       "57310  chocolate negro fondant        31               33  postres y dulces   \n",
       "57311  chocolate negro fondant        31               33  postres y dulces   \n",
       "57312      cacao en polvo puro        32               33  postres y dulces   \n",
       "57313     bolitas de chocolate        32               33  postres y dulces   \n",
       "\n",
       "      main_category                       tipo_plato  time_preparation(min)  \\\n",
       "0         principal  ['Primeros platos y entrantes']                   60.0   \n",
       "1         principal  ['Primeros platos y entrantes']                   25.0   \n",
       "2         principal  ['Primeros platos y entrantes']                   35.0   \n",
       "3         principal  ['Primeros platos y entrantes']                   25.0   \n",
       "4         principal  ['Primeros platos y entrantes']                   40.0   \n",
       "...             ...                              ...                    ...   \n",
       "57309        postre                      ['Postres']                  240.0   \n",
       "57310        postre                      ['Postres']                  360.0   \n",
       "57311        postre                      ['Postres']                  240.0   \n",
       "57312        postre                      ['Postres']                  360.0   \n",
       "57313        postre                      ['Postres']                  240.0   \n",
       "\n",
       "       calories(kcal)  gluten_free  egg_free  sucrose_fructose_free  \\\n",
       "0               252.0            0         0                      0   \n",
       "1               386.0            0         0                      0   \n",
       "2                 NaN            0         0                      0   \n",
       "3               176.0            0         0                      0   \n",
       "4               203.0            0         0                      0   \n",
       "...               ...          ...       ...                    ...   \n",
       "57309             NaN            0         0                      0   \n",
       "57310             NaN            0         0                      0   \n",
       "57311             NaN            0         0                      0   \n",
       "57312             NaN            0         0                      0   \n",
       "57313             NaN            0         0                      0   \n",
       "\n",
       "       low_sodium  lactose_free  huevos  pechiga de pollo  lentejas  pimiento  \\\n",
       "0               0             0      29                32        33        20   \n",
       "1               0             0      12                22        21        42   \n",
       "2               0             0      18                44        25        17   \n",
       "3               0             0      24                22        42        32   \n",
       "4               0             0      35                91        24        24   \n",
       "...           ...           ...     ...               ...       ...       ...   \n",
       "57309           0             0       0                18        14         0   \n",
       "57310           0             0      21                36        32        19   \n",
       "57311           0             0      21                36        32        19   \n",
       "57312           0             0      24                51        15        22   \n",
       "57313           0             0      15                44        29        21   \n",
       "\n",
       "       arroz  leche  mantequilla  harina  sal  azúcar  aceite  zanahorias  \\\n",
       "0         22     15           36      21   16      21      21          31   \n",
       "1         12     25           27      12    0      12      35          19   \n",
       "2         19     19           30      18   32      27      27          31   \n",
       "3         25     12           36      35   14      12      24          48   \n",
       "4         18     36           29      17   20      17      17          22   \n",
       "...      ...    ...          ...     ...  ...     ...     ...         ...   \n",
       "57309     36     18           24      33   22     100      33          38   \n",
       "57310     21     21           24      34    8      21      21          24   \n",
       "57311     21     21           24      34    8      21      21          24   \n",
       "57312     25     17           20      16   18      32      24          28   \n",
       "57313     16     40           26      15   17      23      31          27   \n",
       "\n",
       "       queso  bacon  lechuga  calabacín  patatas  pollo  \n",
       "0         37     15       21         19       48     15  \n",
       "1         12     12       33         10       11     12  \n",
       "2         29     38       26         40       35     29  \n",
       "3         25     38       22         30       33     25  \n",
       "4         27     18       50         23       25     45  \n",
       "...      ...    ...      ...        ...      ...    ...  \n",
       "57309      0     36       31         27       31      0  \n",
       "57310     14     21       27         31       27     21  \n",
       "57311     14     21       27         31       27     21  \n",
       "57312     17     33       15         29       15     33  \n",
       "57313     16     32       37         21       22     24  \n",
       "\n",
       "[57314 rows x 34 columns]"
      ]
     },
     "execution_count": 6,
     "metadata": {},
     "output_type": "execute_result"
    }
   ],
   "source": [
    "recipe_df"
   ]
  },
  {
   "cell_type": "code",
   "execution_count": 7,
   "metadata": {},
   "outputs": [
    {
     "data": {
      "text/plain": [
       "['huevos',\n",
       " 'pechiga de pollo',\n",
       " 'lentejas',\n",
       " 'pimiento',\n",
       " 'arroz',\n",
       " 'leche',\n",
       " 'mantequilla',\n",
       " 'harina',\n",
       " 'sal',\n",
       " 'azúcar',\n",
       " 'aceite',\n",
       " 'zanahorias',\n",
       " 'queso',\n",
       " 'bacon',\n",
       " 'lechuga',\n",
       " 'calabacín',\n",
       " 'patatas',\n",
       " 'pollo']"
      ]
     },
     "execution_count": 7,
     "metadata": {},
     "output_type": "execute_result"
    }
   ],
   "source": [
    "input_list"
   ]
  },
  {
   "cell_type": "code",
   "execution_count": 11,
   "metadata": {},
   "outputs": [
    {
     "data": {
      "text/plain": [
       "huevo     1373\n",
       "huevos     723\n",
       "Name: ingredient, dtype: int64"
      ]
     },
     "execution_count": 11,
     "metadata": {},
     "output_type": "execute_result"
    }
   ],
   "source": [
    "filter_huevos = recipe_df['huevos'] > 80\n",
    "recipe_df[filter_huevos][\"ingredient\"].value_counts()"
   ]
  },
  {
   "cell_type": "code",
   "execution_count": 21,
   "metadata": {},
   "outputs": [
    {
     "data": {
      "text/plain": [
       "pechugas de pollo    86\n",
       "pechuga de pollo     14\n",
       "higados de pollo      3\n",
       "Name: ingredient, dtype: int64"
      ]
     },
     "execution_count": 21,
     "metadata": {},
     "output_type": "execute_result"
    }
   ],
   "source": [
    "filter_pechiga_de_pollo = recipe_df['pechiga de pollo'] > 80\n",
    "recipe_df[filter_pechiga_de_pollo][\"ingredient\"].value_counts()"
   ]
  },
  {
   "cell_type": "code",
   "execution_count": 20,
   "metadata": {},
   "outputs": [
    {
     "data": {
      "text/plain": [
       "lentejas    23\n",
       "Name: ingredient, dtype: int64"
      ]
     },
     "execution_count": 20,
     "metadata": {},
     "output_type": "execute_result"
    }
   ],
   "source": [
    "filter_lentejas = recipe_df['lentejas'] > 80\n",
    "recipe_df[filter_lentejas][\"ingredient\"].value_counts()"
   ]
  },
  {
   "cell_type": "code",
   "execution_count": 19,
   "metadata": {},
   "outputs": [
    {
     "data": {
      "text/plain": [
       "pimienta    1484\n",
       "Name: ingredient, dtype: int64"
      ]
     },
     "execution_count": 19,
     "metadata": {},
     "output_type": "execute_result"
    }
   ],
   "source": [
    "filter_pimiento = recipe_df['pimiento'] > 80\n",
    "recipe_df[filter_pimiento][\"ingredient\"].value_counts()"
   ]
  },
  {
   "cell_type": "code",
   "execution_count": 18,
   "metadata": {},
   "outputs": [
    {
     "data": {
      "text/plain": [
       "arroz    148\n",
       "Name: ingredient, dtype: int64"
      ]
     },
     "execution_count": 18,
     "metadata": {},
     "output_type": "execute_result"
    }
   ],
   "source": [
    "filter_arroz = recipe_df['arroz'] > 80\n",
    "recipe_df[filter_arroz][\"ingredient\"].value_counts()"
   ]
  },
  {
   "cell_type": "code",
   "execution_count": 17,
   "metadata": {},
   "outputs": [
    {
     "data": {
      "text/plain": [
       "leche    987\n",
       "Name: ingredient, dtype: int64"
      ]
     },
     "execution_count": 17,
     "metadata": {},
     "output_type": "execute_result"
    }
   ],
   "source": [
    "filter_leche = recipe_df['leche'] > 80\n",
    "recipe_df[filter_leche][\"ingredient\"].value_counts()"
   ]
  },
  {
   "cell_type": "code",
   "execution_count": 22,
   "metadata": {},
   "outputs": [
    {
     "data": {
      "text/plain": [
       "mantequilla         1796\n",
       "mantequilla nuez       4\n",
       "mantequilla fría       1\n",
       "Name: ingredient, dtype: int64"
      ]
     },
     "execution_count": 22,
     "metadata": {},
     "output_type": "execute_result"
    }
   ],
   "source": [
    "filter_mantequilla = recipe_df['mantequilla'] > 80\n",
    "recipe_df[filter_mantequilla][\"ingredient\"].value_counts()"
   ]
  },
  {
   "cell_type": "code",
   "execution_count": 23,
   "metadata": {},
   "outputs": [
    {
     "data": {
      "text/plain": [
       "harina    1659\n",
       "Name: ingredient, dtype: int64"
      ]
     },
     "execution_count": 23,
     "metadata": {},
     "output_type": "execute_result"
    }
   ],
   "source": [
    "filter_harina = recipe_df['harina'] > 80\n",
    "recipe_df[filter_harina][\"ingredient\"].value_counts()"
   ]
  },
  {
   "cell_type": "code",
   "execution_count": 24,
   "metadata": {},
   "outputs": [
    {
     "data": {
      "text/plain": [
       "sal    3667\n",
       "Name: ingredient, dtype: int64"
      ]
     },
     "execution_count": 24,
     "metadata": {},
     "output_type": "execute_result"
    }
   ],
   "source": [
    "filter_sal = recipe_df['sal'] > 80\n",
    "recipe_df[filter_sal][\"ingredient\"].value_counts()"
   ]
  },
  {
   "cell_type": "code",
   "execution_count": 25,
   "metadata": {},
   "outputs": [
    {
     "data": {
      "text/plain": [
       "azúcar    2099\n",
       "Name: ingredient, dtype: int64"
      ]
     },
     "execution_count": 25,
     "metadata": {},
     "output_type": "execute_result"
    }
   ],
   "source": [
    "filter_azúcar = recipe_df['azúcar'] > 80\n",
    "recipe_df[filter_azúcar][\"ingredient\"].value_counts()"
   ]
  },
  {
   "cell_type": "code",
   "execution_count": 26,
   "metadata": {},
   "outputs": [
    {
     "data": {
      "text/plain": [
       "aceite    577\n",
       "Name: ingredient, dtype: int64"
      ]
     },
     "execution_count": 26,
     "metadata": {},
     "output_type": "execute_result"
    }
   ],
   "source": [
    "filter_aceite = recipe_df['aceite'] > 80\n",
    "recipe_df[filter_aceite][\"ingredient\"].value_counts()"
   ]
  },
  {
   "cell_type": "code",
   "execution_count": 27,
   "metadata": {},
   "outputs": [
    {
     "data": {
      "text/plain": [
       "zanahoria     407\n",
       "zanahorias    263\n",
       "Name: ingredient, dtype: int64"
      ]
     },
     "execution_count": 27,
     "metadata": {},
     "output_type": "execute_result"
    }
   ],
   "source": [
    "filter_zanahorias = recipe_df['zanahorias'] > 80\n",
    "recipe_df[filter_zanahorias][\"ingredient\"].value_counts()"
   ]
  },
  {
   "cell_type": "code",
   "execution_count": 28,
   "metadata": {},
   "outputs": [
    {
     "data": {
      "text/plain": [
       "queso    32\n",
       "Name: ingredient, dtype: int64"
      ]
     },
     "execution_count": 28,
     "metadata": {},
     "output_type": "execute_result"
    }
   ],
   "source": [
    "filter_queso = recipe_df['queso'] > 80\n",
    "recipe_df[filter_queso][\"ingredient\"].value_counts()"
   ]
  },
  {
   "cell_type": "code",
   "execution_count": 29,
   "metadata": {},
   "outputs": [
    {
     "data": {
      "text/plain": [
       "Series([], Name: ingredient, dtype: int64)"
      ]
     },
     "execution_count": 29,
     "metadata": {},
     "output_type": "execute_result"
    }
   ],
   "source": [
    "filter_bacon = recipe_df['bacon'] > 80\n",
    "recipe_df[filter_bacon][\"ingredient\"].value_counts()"
   ]
  },
  {
   "cell_type": "code",
   "execution_count": 30,
   "metadata": {},
   "outputs": [
    {
     "data": {
      "text/plain": [
       "lechuga     54\n",
       "lechugas    33\n",
       "Name: ingredient, dtype: int64"
      ]
     },
     "execution_count": 30,
     "metadata": {},
     "output_type": "execute_result"
    }
   ],
   "source": [
    "filter_lechuga = recipe_df['lechuga'] > 80\n",
    "recipe_df[filter_lechuga][\"ingredient\"].value_counts()"
   ]
  },
  {
   "cell_type": "code",
   "execution_count": 34,
   "metadata": {},
   "outputs": [
    {
     "data": {
      "text/plain": [
       "calabacín           261\n",
       "calabacines          58\n",
       "calabaza             34\n",
       "calabacín grande      4\n",
       "calabacín baby        1\n",
       "calabacín bola        1\n",
       "Name: ingredient, dtype: int64"
      ]
     },
     "execution_count": 34,
     "metadata": {},
     "output_type": "execute_result"
    }
   ],
   "source": [
    "filter_calabacín = recipe_df['calabacín'] > 70\n",
    "recipe_df[filter_calabacín][\"ingredient\"].value_counts()"
   ]
  },
  {
   "cell_type": "code",
   "execution_count": 33,
   "metadata": {},
   "outputs": [
    {
     "data": {
      "text/plain": [
       "patatas         211\n",
       "patata          200\n",
       "patatas baby      6\n",
       "papayas           6\n",
       "batata            1\n",
       "Name: ingredient, dtype: int64"
      ]
     },
     "execution_count": 33,
     "metadata": {},
     "output_type": "execute_result"
    }
   ],
   "source": [
    "filter_patatas = recipe_df['patatas'] > 70\n",
    "recipe_df[filter_patatas][\"ingredient\"].value_counts()"
   ]
  },
  {
   "cell_type": "code",
   "execution_count": null,
   "metadata": {},
   "outputs": [],
   "source": []
  },
  {
   "cell_type": "code",
   "execution_count": null,
   "metadata": {},
   "outputs": [],
   "source": []
  },
  {
   "cell_type": "code",
   "execution_count": null,
   "metadata": {},
   "outputs": [],
   "source": []
  },
  {
   "cell_type": "code",
   "execution_count": null,
   "metadata": {},
   "outputs": [],
   "source": []
  }
 ],
 "metadata": {
  "kernelspec": {
   "display_name": "Python [conda env:recipe_env]",
   "language": "python",
   "name": "conda-env-recipe_env-py"
  },
  "language_info": {
   "codemirror_mode": {
    "name": "ipython",
    "version": 3
   },
   "file_extension": ".py",
   "mimetype": "text/x-python",
   "name": "python",
   "nbconvert_exporter": "python",
   "pygments_lexer": "ipython3",
   "version": "3.7.7"
  }
 },
 "nbformat": 4,
 "nbformat_minor": 4
}
