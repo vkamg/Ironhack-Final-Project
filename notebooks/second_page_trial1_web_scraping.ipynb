{
 "cells": [
  {
   "cell_type": "code",
   "execution_count": 39,
   "metadata": {},
   "outputs": [],
   "source": [
    "from selenium import webdriver\n",
    "from selenium.common.exceptions import TimeoutException\n",
    "import time\n",
    "import numpy as np\n",
    "import pandas as pd\n",
    "import json\n",
    "\n",
    "# Opening the Chrome and going to the Web\n",
    "\n",
    "recipe_link = 'https://www.recetasgratis.net/'\n",
    "chromedriver = \"/home/veronica/Ironhack/Final Project/Chrome Driver/chromedriver\"\n",
    "driver = webdriver.Chrome(chromedriver)\n",
    "driver.get(recipe_link)\n",
    "\n",
    "#<button class=\"consent-accept boton s\"><span class=\"\">Continuar</span></button>\n",
    "\n",
    "# Enabling cookies\n",
    "\n",
    "time.sleep(3)\n",
    "element = driver.find_elements_by_class_name('consent-accept')\n",
    "element[0].click()"
   ]
  },
  {
   "cell_type": "raw",
   "metadata": {},
   "source": [
    "# Selecting cat\n",
    "\n",
    "time.sleep(3)\n",
    "categories = driver.find_elements_by_class_name('titulo')\n",
    "\n",
    "categories_list = []\n",
    "for x in np.arange(len(categories)):\n",
    "    categories_list.append(categories[x].text)\n",
    "\n",
    "print(len(categories_list))\n",
    "categories_list"
   ]
  },
  {
   "cell_type": "raw",
   "metadata": {},
   "source": [
    "/html/body/div[1]/div[3]/div[1]/div[1]/div[1]/div[2]/div[1]/a"
   ]
  },
  {
   "cell_type": "code",
   "execution_count": 4,
   "metadata": {},
   "outputs": [],
   "source": [
    "category = driver.find_elements_by_xpath('(/html/body/div[1]/div[3]/div[1]/div[1]/div[1]/div[2]/div/a)')\n",
    "category_list = [step.text for step in steps]"
   ]
  },
  {
   "cell_type": "code",
   "execution_count": 5,
   "metadata": {},
   "outputs": [
    {
     "data": {
      "text/plain": [
       "['Recetas de Aperitivos y tapas',\n",
       " 'Recetas de Arroces y cereales',\n",
       " 'Recetas de Aves y caza',\n",
       " 'Recetas de Carne',\n",
       " 'Cócteles y bebidas',\n",
       " 'Consejos de cocina',\n",
       " 'Recetas de Ensaladas',\n",
       " 'Recetas de Guisos y Potajes',\n",
       " 'Recetas de Huevos y lácteos',\n",
       " 'Recetas de Legumbres',\n",
       " 'Recetas de Mariscos',\n",
       " 'Recetas de Pan y bollería',\n",
       " 'Recetas de Pasta',\n",
       " 'Recetas de Pescado',\n",
       " 'Recetas de Postres',\n",
       " 'Recetas de Salsas',\n",
       " 'Recetas de Sopas y cremas',\n",
       " 'Recetas de Verduras']"
      ]
     },
     "execution_count": 5,
     "metadata": {},
     "output_type": "execute_result"
    }
   ],
   "source": [
    "steps_list"
   ]
  },
  {
   "cell_type": "code",
   "execution_count": 11,
   "metadata": {},
   "outputs": [],
   "source": [
    "subcategory_driver = driver.find_elements_by_tag_name('h1')[0].text\n",
    "#subcategory_list = [subcategory.text for subcategory in subcategory_driver]"
   ]
  },
  {
   "cell_type": "code",
   "execution_count": 12,
   "metadata": {},
   "outputs": [
    {
     "data": {
      "text/plain": [
       "'Recetas de Aperitivos y tapas'"
      ]
     },
     "execution_count": 12,
     "metadata": {},
     "output_type": "execute_result"
    }
   ],
   "source": [
    "subcategory_driver"
   ]
  },
  {
   "cell_type": "code",
   "execution_count": 14,
   "metadata": {},
   "outputs": [
    {
     "data": {
      "text/plain": [
       "'Receta de Baleadas hondureñas'"
      ]
     },
     "execution_count": 14,
     "metadata": {},
     "output_type": "execute_result"
    }
   ],
   "source": [
    "recipe_title = driver.find_elements_by_tag_name('h1')[0].text\n",
    "\n",
    "recipe_title"
   ]
  },
  {
   "cell_type": "code",
   "execution_count": 18,
   "metadata": {},
   "outputs": [
    {
     "data": {
      "text/plain": [
       "'4 trotillas de harina\\n2 tazas de frijoles negros cocidos\\n2 aguacates\\n150 gramos de queso rallado\\n4 cucharadas soperas de crema agria'"
      ]
     },
     "execution_count": 18,
     "metadata": {},
     "output_type": "execute_result"
    }
   ],
   "source": [
    "# Ingredientes\n",
    "\n",
    "ingredients = driver.find_elements_by_class_name('ingredientes')[0].text\n",
    "ingredients"
   ]
  },
  {
   "cell_type": "code",
   "execution_count": 19,
   "metadata": {},
   "outputs": [
    {
     "data": {
      "text/plain": [
       "'10m'"
      ]
     },
     "execution_count": 19,
     "metadata": {},
     "output_type": "execute_result"
    }
   ],
   "source": [
    "# Time preparation\n",
    "\n",
    "time_preparation = driver.find_elements_by_class_name('property.duracion')[0].text\n",
    "\n",
    "time_preparation"
   ]
  },
  {
   "cell_type": "code",
   "execution_count": 22,
   "metadata": {},
   "outputs": [
    {
     "data": {
      "text/plain": [
       "'https://www.recetasgratis.net/receta-de-baleadas-hondurenas-74138.html'"
      ]
     },
     "execution_count": 22,
     "metadata": {},
     "output_type": "execute_result"
    }
   ],
   "source": [
    "#recipe_url\n",
    "recipe_link = driver.current_url\n",
    "\n",
    "recipe_link"
   ]
  },
  {
   "cell_type": "code",
   "execution_count": 23,
   "metadata": {},
   "outputs": [],
   "source": [
    "# calories = None\n",
    "\n",
    "# intolerances = None\n",
    "\n"
   ]
  },
  {
   "cell_type": "code",
   "execution_count": 31,
   "metadata": {},
   "outputs": [
    {
     "data": {
      "text/plain": [
       "'https://t2.rg.ltmcdn.com/es/images/8/3/1/baleadas_hondurenas_74138_600.jpg'"
      ]
     },
     "execution_count": 31,
     "metadata": {},
     "output_type": "execute_result"
    }
   ],
   "source": [
    "# images_url\n",
    "\n",
    "images = driver.find_elements_by_xpath('(/html/body/div[1]/div[3]/div[2]/article/div[2]/div[1]/div/div/img)')\n",
    "images_list = images[0].get_attribute('src')\n",
    "\n",
    "images_list"
   ]
  },
  {
   "cell_type": "code",
   "execution_count": 35,
   "metadata": {},
   "outputs": [
    {
     "data": {
      "text/plain": [
       "['Calienta los frijoles en una sartén con un chorrito de aceite y aplástalos un poco con la cuchara de madera si quieres que quede como refritos. Puedes utilizar los que vienen ya cocidos para ahorrarte el tiempo de preparado, reutilizar algunos que hayas hecho anteriormente o cocerlos. Para esta última opción, tendrás que dejar los frijoles en remojo durante toda la noche. Al día siguiente, deberás colarlos y cocerlos en una olla con abundante agua nueva hasta que estén cocidos.',\n",
       " 'Truco: Si cueces los frijoles, reserva un poco de caldo y añádelo ahora a la sartén. Si los usas ya cocidos, agrega un poco del caldo que traen.',\n",
       " 'Pela los aguacates y córtalos en cubos o rodajas, de cualquier forma tus baleadas hondureñas quedarán deliciosas. Y si no sabes cómo pelar el aguacate, aquí tienes un vídeo.',\n",
       " 'Calienta las tortillas en una parrilla o sartén antiadherente y sácalas antes de que se tuesten. Puedes hacer tus propias tortillas siguiendo la Receta de tortillas de harina.',\n",
       " 'Rellena las tortillas con los frijoles, el aguacate, el queso y la salsa agria siguiendo este orden y dóblalas. Como son distintas las versiones que existen de las baleadas hondureñas, también hay quien añade cebolla sofrita y huevos revueltos.',\n",
       " '¡Sírvelas! La receta de baleadas es realmente exquisita, sencilla y económica. Además, como has podido comprobar, puedes elaborarla de distintas formas y con ingredientes variados. Sirve esta comida hondureña típica con una bebida bien fría y, si quieres, adereza las baleadas con jugo de limón. También puedes servirlas con alguna salsa de ají picante para ponerle un poco a la hora de comerlas, ¡te encantarán!',\n",
       " 'Si te ha gustado la receta de Baleadas hondureñas, te sugerimos que entres en nuestra categoría de Recetas de Tacos.',\n",
       " 'Hay numerosas versiones de las baleadas hondureñas. Como te hemos comentado, algunas incluso llevan huevo revuelto, pollo o ensalada de repollo, pero las más comunes llevan solo frijoles, aguacate queso y crema. En cuanto al origen, varias son las ciudades de Honduras que se disputan este honor, como La Lima, Tela, Progreso o Ceiba.',\n",
       " 'Por otro lado, el origen del nombre también cuenta con varias teorías. Al parecer, la más \"aceptada\" es la que cuenta que, inicialmente, la receta de baleadas se elaboraba con frijoles enteros al dente, conocidos como \"frijoles parados\". Por ello, al morder de un extremo los del otro extremo acostumbran a salir disparados como balas, motivo por el cual esta tortilla rellena fue nombrada \"la baleada\". Si esta teoría es correcta, esta receta podría tener más de 100 años.',\n",
       " '¿Conoces alguna teoría más relacionada con el origen de la baleada hondureña? ¡Cuéntanosla!']"
      ]
     },
     "execution_count": 35,
     "metadata": {},
     "output_type": "execute_result"
    }
   ],
   "source": [
    "#steps\n",
    "\n",
    "steps = driver.find_elements_by_xpath('(/html/body/div[1]/div[3]/div[2]/article/div[2]/div[6]/div/p)')\n",
    "steps_list = [step.text for step in steps]\n",
    "\n",
    "steps_list"
   ]
  },
  {
   "cell_type": "code",
   "execution_count": 38,
   "metadata": {},
   "outputs": [
    {
     "data": {
      "text/plain": [
       "['Recomendada para veganos',\n",
       " 'Recomendada para vegetarianos',\n",
       " 'Recomendada para perder peso',\n",
       " 'Receta sin lactosa',\n",
       " 'Receta sin gluten',\n",
       " 'Recetas al horno']"
      ]
     },
     "execution_count": 38,
     "metadata": {},
     "output_type": "execute_result"
    }
   ],
   "source": [
    "# more info\n",
    "more_info = driver.find_elements_by_xpath('(/html/body/div[1]/div[3]/div[2]/article/div[2]/div[4]/div[2]/a)')\n",
    "more_info_list = [info.text for info in more_info]\n",
    "\n",
    "more_info_list\n"
   ]
  },
  {
   "cell_type": "code",
   "execution_count": null,
   "metadata": {},
   "outputs": [],
   "source": [
    "/html/body/div[1]/div[3]/div[2]/article/div[2]/div[4]/div[2]/a[1]"
   ]
  },
  {
   "cell_type": "code",
   "execution_count": 42,
   "metadata": {},
   "outputs": [
    {
     "data": {
      "text/plain": [
       "['Receta de Baleadas hondureñas',\n",
       " 'Receta de Tacos de carne molida',\n",
       " 'Receta de Burritos norteños',\n",
       " 'Receta de Croquetas de pollo caseras de la abuela',\n",
       " 'Receta de Masa para empanadas fritas',\n",
       " 'Receta de Hummus de zanahoria',\n",
       " 'Receta de Tomates cherry confitados',\n",
       " 'Receta de Ceviche de atún con mango',\n",
       " 'Receta de Edamame',\n",
       " 'Receta de Bechamel para croquetas',\n",
       " 'Receta de Farofa brasileña',\n",
       " 'Receta de Tarta de choclo',\n",
       " 'Receta de Empanadillas de espinacas',\n",
       " '15 aperitivos saludables y fáciles',\n",
       " 'Receta de Muhammara',\n",
       " 'Receta de Croquetas de boletus',\n",
       " 'Receta de Ceviche de pota',\n",
       " '+20 entrantes para Navidad originales y fáciles',\n",
       " 'Receta de Nueces caramelizadas',\n",
       " 'Receta de Quesadillas de flor de calabaza',\n",
       " 'Receta de Tacos campechanos',\n",
       " 'Receta de Enchiladas potosinas',\n",
       " 'Receta de Ceviche de sierra',\n",
       " 'Receta de Ceviche de jaiba',\n",
       " 'Receta de Enchiladas mineras',\n",
       " 'Receta de Sarmale',\n",
       " 'Receta de Quiche de jamón y queso',\n",
       " 'Receta de Quiche de champiñones',\n",
       " 'Receta de Enchiladas rancheras',\n",
       " 'Receta de Ceviche de carne',\n",
       " 'Receta de Ceviche de pato',\n",
       " 'Receta de Ceviche de cochayuyo',\n",
       " 'Receta de Mandocas venezolanas',\n",
       " 'Receta de Arepas de coco',\n",
       " 'Receta de Ceviche de salchicha',\n",
       " 'Receta de Chipirones a la andaluza',\n",
       " 'Receta de Masa para tartas saladas',\n",
       " '+30 aperitivos fáciles y elegantes',\n",
       " 'Receta de Tacos de pollo mexicanos',\n",
       " 'Receta de Ceviche de atún']"
      ]
     },
     "execution_count": 42,
     "metadata": {},
     "output_type": "execute_result"
    }
   ],
   "source": [
    "recipes = driver.find_elements_by_class_name(\"titulo.titulo--resultado\")\n",
    "\n",
    "recipes_list = [recipe.text for recipe in recipes]\n",
    "\n",
    "recipes_list"
   ]
  },
  {
   "cell_type": "code",
   "execution_count": null,
   "metadata": {},
   "outputs": [],
   "source": [
    "/html/body/div[1]/div[3]/div[1]/div[3]/div[1]/div/div[3]/a"
   ]
  },
  {
   "cell_type": "code",
   "execution_count": 40,
   "metadata": {},
   "outputs": [
    {
     "data": {
      "text/plain": [
       "0"
      ]
     },
     "execution_count": 40,
     "metadata": {},
     "output_type": "execute_result"
    }
   ],
   "source": [
    "recipe_sumup_scrap = driver.find_elements_by_xpath('(/html/body/div[1]/div[3]/div[1]/div[3]/div[1]/div/div/a)')\n",
    "len(recipe_sumup_scrap)"
   ]
  },
  {
   "cell_type": "code",
   "execution_count": 41,
   "metadata": {},
   "outputs": [
    {
     "data": {
      "text/plain": [
       "['Receta de Tacos de Jamaica',\n",
       " 'Receta de Chimichanga mexicana original',\n",
       " 'Receta de Croquetas de acelga al horno',\n",
       " 'Receta de Arepas de brócoli',\n",
       " 'Receta de Ceviche vegano',\n",
       " 'Receta de Croquetas de arroz al horno',\n",
       " 'Receta de Quiche Lorraine vegana',\n",
       " 'Receta de Empanadillas de bonito caseras',\n",
       " 'Receta de Fiambre alemán paso a paso',\n",
       " 'Receta de Jamón con chorreras',\n",
       " 'Receta de Strudel de verduras',\n",
       " 'Receta de Croquetas de pescado caseras y fáciles',\n",
       " 'Receta de Tamales vallunos paso a paso',\n",
       " 'Receta de Canastitas de jamón y queso',\n",
       " 'Receta de Espárragos al horno',\n",
       " 'Receta de Empanada de pollo gallega fácil',\n",
       " 'Receta de Trenza de hojaldre salada paso a paso',\n",
       " 'Receta de Fajitas de pollo a la BBQ',\n",
       " 'Receta de Burritos de carne y queso',\n",
       " 'Receta de Tarta de palmitos',\n",
       " 'Receta de Crepes de pollo gratinados',\n",
       " 'Receta de Melocotones en almíbar rellenos',\n",
       " 'Receta de Hallacas venezolanas',\n",
       " 'Receta de Arrollado de pionono salado',\n",
       " 'Receta de Rollitos de salmón ahumado rellenos de ensaladilla',\n",
       " 'Receta de Tarta de salmón',\n",
       " 'Receta de Champiñones rellenos de atún',\n",
       " 'Receta de Champiñones rellenos de gambas',\n",
       " 'Receta de Tosta de gulas y gambas',\n",
       " 'Receta de Rollitos de jamón y queso',\n",
       " 'Receta de Empanadillas de carne al horno',\n",
       " 'Receta de Croquetas de queso blanco',\n",
       " 'Receta de Quiche sin gluten ni lactosa',\n",
       " 'Receta de Empanada de maíz de xoubas',\n",
       " 'Receta de Ceviche de corvina',\n",
       " 'Receta de Paté de mejillones',\n",
       " 'Receta de Champiñones rellenos de queso',\n",
       " 'Receta de Setas con jamón',\n",
       " 'Receta de Quiche con base de boniato',\n",
       " 'Receta de Burritos veganos fáciles y sabrosos']"
      ]
     },
     "execution_count": 41,
     "metadata": {},
     "output_type": "execute_result"
    }
   ],
   "source": [
    "recipes = driver.find_elements_by_class_name(\"titulo.titulo--resultado\")\n",
    "\n",
    "recipes_list = [recipe.text for recipe in recipes]\n",
    "\n",
    "recipes_list"
   ]
  },
  {
   "cell_type": "code",
   "execution_count": null,
   "metadata": {},
   "outputs": [],
   "source": [
    "/html/body/div[1]/div[3]/div[1]/div[2]/div[1]/div/div[3]/a"
   ]
  },
  {
   "cell_type": "code",
   "execution_count": null,
   "metadata": {},
   "outputs": [],
   "source": [
    "<a href=\"https://www.recetasgratis.net/receta-de-tacos-de-jamaica-72924.html\" class=\"titulo titulo--resultado\">Receta de Tacos de Jamaica</a>"
   ]
  },
  {
   "cell_type": "code",
   "execution_count": 43,
   "metadata": {},
   "outputs": [],
   "source": [
    "from selenium import webdriver\n",
    "from selenium.common.exceptions import TimeoutException\n",
    "import time\n",
    "import numpy as np\n",
    "import pandas as pd\n",
    "import json\n",
    "\n",
    "# Opening the Chrome and going to the Web\n",
    "\n",
    "recipe_link = 'https://www.recetasgratis.net/'\n",
    "chromedriver = \"/home/veronica/Ironhack/Final Project/Chrome Driver/chromedriver\"\n",
    "driver = webdriver.Chrome(chromedriver)\n",
    "driver.get(recipe_link)\n",
    "\n",
    "#<button class=\"consent-accept boton s\"><span class=\"\">Continuar</span></button>\n",
    "\n",
    "# Enabling cookies\n",
    "\n",
    "time.sleep(3)\n",
    "element = driver.find_elements_by_class_name('consent-accept')\n",
    "element[0].click()"
   ]
  },
  {
   "cell_type": "code",
   "execution_count": 47,
   "metadata": {},
   "outputs": [],
   "source": [
    "main_page = driver.find_elements_by_class_name(\"logo-default\")\n",
    "driver.execute_script(\"arguments[0].click()\", main_page[0])"
   ]
  }
 ],
 "metadata": {
  "kernelspec": {
   "display_name": "Python [conda env:recipe_env]",
   "language": "python",
   "name": "conda-env-recipe_env-py"
  },
  "language_info": {
   "codemirror_mode": {
    "name": "ipython",
    "version": 3
   },
   "file_extension": ".py",
   "mimetype": "text/x-python",
   "name": "python",
   "nbconvert_exporter": "python",
   "pygments_lexer": "ipython3",
   "version": "3.7.7"
  }
 },
 "nbformat": 4,
 "nbformat_minor": 4
}
