{
 "cells": [
  {
   "cell_type": "code",
   "execution_count": 1,
   "metadata": {},
   "outputs": [],
   "source": [
    "import pandas as pd"
   ]
  },
  {
   "cell_type": "code",
   "execution_count": 2,
   "metadata": {},
   "outputs": [],
   "source": [
    "web_scrap_4 = pd.read_json(\"../data/raw/web_scraping_recipes_4.json\")\n",
    "\n",
    "web_scrap_6 = pd.read_json(\"../data/raw/web_scraping_recipes_6.json\")"
   ]
  },
  {
   "cell_type": "code",
   "execution_count": 3,
   "metadata": {},
   "outputs": [],
   "source": [
    "wrong_columns_df = pd.concat([web_scrap_4, web_scrap_6])"
   ]
  },
  {
   "cell_type": "code",
   "execution_count": 5,
   "metadata": {},
   "outputs": [
    {
     "data": {
      "text/plain": [
       "Index(['recipe_name', 'ingredients', 'time_preparation', 'intolerances',\n",
       "       'recipe_url', 'recipe_image_url', 'category', 'calories'],\n",
       "      dtype='object')"
      ]
     },
     "execution_count": 5,
     "metadata": {},
     "output_type": "execute_result"
    }
   ],
   "source": [
    "wrong_columns_df.columns"
   ]
  },
  {
   "cell_type": "code",
   "execution_count": 6,
   "metadata": {},
   "outputs": [],
   "source": [
    "right_columns_df = wrong_columns_df[['recipe_name', 'ingredients', 'time_preparation', 'calories', \n",
    "                                     'intolerances', 'recipe_url', 'recipe_image_url', 'category']]"
   ]
  },
  {
   "cell_type": "code",
   "execution_count": 7,
   "metadata": {},
   "outputs": [],
   "source": [
    "web_scrap_3 = pd.read_json(\"../data/raw/web_scraping_recipes_3.json\")\n",
    "\n",
    "web_scrap_5 = pd.read_json(\"../data/raw/web_scraping_recipes_5.json\")"
   ]
  },
  {
   "cell_type": "code",
   "execution_count": 14,
   "metadata": {},
   "outputs": [],
   "source": [
    "recipe_df = pd.concat([web_scrap_3, web_scrap_5, right_columns_df])"
   ]
  },
  {
   "cell_type": "code",
   "execution_count": 16,
   "metadata": {},
   "outputs": [],
   "source": [
    "recipe_df.to_csv (f'../data/raw/web_scraping_recipes.csv', index=False)"
   ]
  }
 ],
 "metadata": {
  "kernelspec": {
   "display_name": "Python [conda env:recipe_env]",
   "language": "python",
   "name": "conda-env-recipe_env-py"
  },
  "language_info": {
   "codemirror_mode": {
    "name": "ipython",
    "version": 3
   },
   "file_extension": ".py",
   "mimetype": "text/x-python",
   "name": "python",
   "nbconvert_exporter": "python",
   "pygments_lexer": "ipython3",
   "version": "3.7.7"
  }
 },
 "nbformat": 4,
 "nbformat_minor": 4
}
