{
 "cells": [
  {
   "cell_type": "markdown",
   "metadata": {},
   "source": [
    "https://www.lecturas.com/recetas/faciles/"
   ]
  },
  {
   "cell_type": "code",
   "execution_count": 1,
   "metadata": {},
   "outputs": [],
   "source": [
    "from selenium import webdriver\n",
    "import time"
   ]
  },
  {
   "cell_type": "code",
   "execution_count": 2,
   "metadata": {},
   "outputs": [],
   "source": [
    "chromedriver = \"/home/veronica/Ironhack/Final Project/Chrome Driver/chromedriver\"\n",
    "driver = webdriver.Chrome(chromedriver)\n",
    "driver.get('https://www.lecturas.com/recetas/faciles/')"
   ]
  },
  {
   "cell_type": "raw",
   "metadata": {},
   "source": [
    "<button class=\"qc-cmp-button\" onclick=\"window.__cmpui(&quot;setAndSaveAllConsent&quot;,!0)\"> Acepto </button>"
   ]
  },
  {
   "cell_type": "code",
   "execution_count": 3,
   "metadata": {},
   "outputs": [],
   "source": [
    "time.sleep(5)\n",
    "element = driver.find_element_by_class_name('qc-cmp-button')\n",
    "element.click()"
   ]
  },
  {
   "cell_type": "raw",
   "metadata": {},
   "source": [
    "<button class=\"qc-cmp-button qc-cmp-save-and-exit\" onclick=\"window.__cmp(&quot;saveConsents&quot;,window.__cmpui(&quot;getConsentInfo&quot;),function(){window.__cmpui(&quot;dismissConsentUi&quot;)})\"> Guardar y salir </button>"
   ]
  },
  {
   "cell_type": "code",
   "execution_count": 4,
   "metadata": {},
   "outputs": [],
   "source": [
    "time.sleep(3)\n",
    "element2 = driver.find_element_by_class_name('qc-cmp-save-and-exit')\n",
    "element2.click()"
   ]
  },
  {
   "cell_type": "raw",
   "metadata": {},
   "source": [
    "<h3 class=\"element-tag-header-text\">\n",
    "Tomates acordeón</h3>"
   ]
  },
  {
   "cell_type": "code",
   "execution_count": 5,
   "metadata": {},
   "outputs": [],
   "source": [
    "time.sleep(3)\n",
    "element2 = driver.find_element_by_class_name('element-tag-header-text')\n",
    "element2.click()"
   ]
  },
  {
   "cell_type": "raw",
   "metadata": {},
   "source": [
    "<table class=\"recipe-ingregients-table\">"
   ]
  },
  {
   "cell_type": "code",
   "execution_count": 6,
   "metadata": {},
   "outputs": [],
   "source": [
    "ingredients_table = driver.find_element_by_class_name('recipe-ingregients-table')"
   ]
  },
  {
   "cell_type": "markdown",
   "metadata": {},
   "source": [
    "# INGREDIENTS"
   ]
  },
  {
   "cell_type": "code",
   "execution_count": 7,
   "metadata": {},
   "outputs": [],
   "source": [
    "import requests\n",
    "from bs4 import BeautifulSoup"
   ]
  },
  {
   "cell_type": "code",
   "execution_count": 8,
   "metadata": {},
   "outputs": [
    {
     "data": {
      "text/plain": [
       "'https://www.lecturas.com/recetas/tomates-acordeon_8039.html'"
      ]
     },
     "execution_count": 8,
     "metadata": {},
     "output_type": "execute_result"
    }
   ],
   "source": [
    "driver.current_url"
   ]
  },
  {
   "cell_type": "code",
   "execution_count": 9,
   "metadata": {},
   "outputs": [],
   "source": [
    "url = driver.current_url\n",
    "html = requests.get(url).content\n",
    "soup = BeautifulSoup(html, \"lxml\")"
   ]
  },
  {
   "cell_type": "code",
   "execution_count": 10,
   "metadata": {},
   "outputs": [
    {
     "data": {
      "text/plain": [
       "<table class=\"recipe-ingregients-table\"> <caption class=\"recipe-ingredients-title\">Ingredientes</caption> <tbody> <tr class=\"recipe-ingredient-item\"> <td class=\"recipe-ingredient-cant\">4 <abbr class=\"recipe-ingredient-unit\"></abbr></td> <td class=\"recipe-ingredient-ingr\">tomates </td> </tr> <tr class=\"recipe-ingredient-item\"> <td class=\"recipe-ingredient-cant\">2 <abbr class=\"recipe-ingredient-unit\"></abbr></td> <td class=\"recipe-ingredient-ingr\">queso mozzarella </td> </tr> <tr class=\"recipe-ingredient-item\"> <td class=\"recipe-ingredient-cant\"> <abbr class=\"recipe-ingredient-unit\">hojas</abbr></td> <td class=\"recipe-ingredient-ingr\">albahaca fresca</td> </tr> <tr class=\"recipe-ingredient-item\"> <td class=\"recipe-ingredient-cant\">50 <abbr class=\"recipe-ingredient-unit\" title=\"Gramos\">g</abbr></td> <td class=\"recipe-ingredient-ingr\">queso parmesano rallado</td> </tr> <tr class=\"recipe-ingredient-item\"> <td class=\"recipe-ingredient-cant\">50 <abbr class=\"recipe-ingredient-unit\" title=\"Gramos\">g</abbr></td> <td class=\"recipe-ingredient-ingr\">piñones </td> </tr> <tr class=\"recipe-ingredient-item\"> <td class=\"recipe-ingredient-cant\">1 <abbr class=\"recipe-ingredient-unit\"></abbr></td> <td class=\"recipe-ingredient-ingr\">diente de ajo pelado</td> </tr> <tr class=\"recipe-ingredient-item\"> <td class=\"recipe-ingredient-cant\">50 <abbr class=\"recipe-ingredient-unit\" title=\"Mililitros\">ml</abbr></td> <td class=\"recipe-ingredient-ingr\">aceite  de oliva </td> </tr> <tr class=\"recipe-ingredient-item\"> <td class=\"recipe-ingredient-cant\"> <abbr class=\"recipe-ingredient-unit\"></abbr></td> <td class=\"recipe-ingredient-ingr\">piñones tostados para decorar</td> </tr> <tr class=\"recipe-ingredient-item\"> <td class=\"recipe-ingredient-cant\"> <abbr class=\"recipe-ingredient-unit\"></abbr></td> <td class=\"recipe-ingredient-ingr\">sal </td> </tr> </tbody> </table>"
      ]
     },
     "execution_count": 10,
     "metadata": {},
     "output_type": "execute_result"
    }
   ],
   "source": [
    "table = soup.find_all('table',{'class':'recipe-ingregients-table'})[0]\n",
    "table"
   ]
  },
  {
   "cell_type": "code",
   "execution_count": 11,
   "metadata": {},
   "outputs": [
    {
     "data": {
      "text/plain": [
       "[' 4  tomates  ',\n",
       " ' 2  queso mozzarella  ',\n",
       " '  hojas albahaca fresca ',\n",
       " ' 50 g queso parmesano rallado ',\n",
       " ' 50 g piñones  ',\n",
       " ' 1  diente de ajo pelado ',\n",
       " ' 50 ml aceite  de oliva  ',\n",
       " '   piñones tostados para decorar ',\n",
       " '   sal  ']"
      ]
     },
     "execution_count": 11,
     "metadata": {},
     "output_type": "execute_result"
    }
   ],
   "source": [
    "rows = table.find_all('tr')\n",
    "rows_parsed = [row.text for row in rows]\n",
    "rows_parsed"
   ]
  },
  {
   "cell_type": "raw",
   "metadata": {},
   "source": [
    "<tr class=\"recipe-ingredient-item\">\n",
    "<td class=\"recipe-ingredient-cant\">4 <abbr class=\"recipe-ingredient-unit\"></abbr></td>\n",
    "<td class=\"recipe-ingredient-ingr\">tomates </td> </tr>"
   ]
  },
  {
   "cell_type": "code",
   "execution_count": 12,
   "metadata": {},
   "outputs": [],
   "source": [
    "ingred = driver.find_elements_by_class_name(\"recipe-ingredient-item\")"
   ]
  },
  {
   "cell_type": "code",
   "execution_count": 13,
   "metadata": {},
   "outputs": [],
   "source": [
    "import numpy as np\n",
    "ingredients = []\n",
    "for x in np.arange(len(ingred)-1):\n",
    "    ingredients.append(str(ingred[x].text.encode('ascii', 'ignore')))"
   ]
  },
  {
   "cell_type": "code",
   "execution_count": 14,
   "metadata": {},
   "outputs": [
    {
     "data": {
      "text/plain": [
       "[\"b'4 tomates'\",\n",
       " \"b'2 queso mozzarella'\",\n",
       " \"b'hojas albahaca fresca'\",\n",
       " \"b'50 g queso parmesano rallado'\",\n",
       " \"b'50 g piones'\",\n",
       " \"b'1 diente de ajo pelado'\",\n",
       " \"b'50 ml aceite de oliva'\",\n",
       " \"b'piones tostados para decorar'\"]"
      ]
     },
     "execution_count": 14,
     "metadata": {},
     "output_type": "execute_result"
    }
   ],
   "source": [
    "ingredients"
   ]
  },
  {
   "cell_type": "code",
   "execution_count": 15,
   "metadata": {},
   "outputs": [],
   "source": [
    "recipe_ingred = driver.find_elements_by_tag_name('td')"
   ]
  },
  {
   "cell_type": "code",
   "execution_count": 16,
   "metadata": {},
   "outputs": [],
   "source": [
    "ingredients_list = []\n",
    "for x in np.arange(len(recipe_ingred)-1):\n",
    "    if x % 2 != 0:\n",
    "        ingredients_list.append(recipe_ingred[x].text)\n",
    "    else:\n",
    "        pass"
   ]
  },
  {
   "cell_type": "code",
   "execution_count": 17,
   "metadata": {},
   "outputs": [
    {
     "data": {
      "text/plain": [
       "['tomates',\n",
       " 'queso mozzarella',\n",
       " 'albahaca fresca',\n",
       " 'queso parmesano rallado',\n",
       " 'piñones',\n",
       " 'diente de ajo pelado',\n",
       " 'aceite de oliva',\n",
       " 'piñones tostados para decorar']"
      ]
     },
     "execution_count": 17,
     "metadata": {},
     "output_type": "execute_result"
    }
   ],
   "source": [
    "ingredients_list"
   ]
  },
  {
   "cell_type": "raw",
   "metadata": {},
   "source": [
    "ingredients_list = [ingred.text for ingred in recipe_ingred if ingred % 2 != 0 ]\n",
    "\n",
    "ingredients_list"
   ]
  },
  {
   "cell_type": "markdown",
   "metadata": {},
   "source": [
    "# IMAGE"
   ]
  },
  {
   "cell_type": "raw",
   "metadata": {},
   "source": [
    "<img sizes=\"99vw\" data-srcset=\"https://content-recetas.lecturas.com/medio/2020/02/19/buddha_bowl_de_lentejas_aguacate_rucula_y_maiz_y_buddha_bowl_de_falafel_kale_y_trigo_sarraceno_775572c4_480x480.jpg 480w,https://content-recetas.lecturas.com/medio/2020/02/19/buddha_bowl_de_lentejas_aguacate_rucula_y_maiz_y_buddha_bowl_de_falafel_kale_y_trigo_sarraceno_bd262715_800x800.jpg 800w\" data-src=\"https://content-recetas.lecturas.com/medio/2020/02/19/buddha_bowl_de_lentejas_aguacate_rucula_y_maiz_y_buddha_bowl_de_falafel_kale_y_trigo_sarraceno_bd262715_800x800.jpg\" src=\"https://content-recetas.lecturas.com/medio/2020/02/19/buddha_bowl_de_lentejas_aguacate_rucula_y_maiz_y_buddha_bowl_de_falafel_kale_y_trigo_sarraceno_bd262715_800x800.jpg\" alt=\"buddha_bowl_de_lentejas_aguacate_rucula_y_maiz_y_buddha_bowl_de_falafel_kale_y_trigo_sarraceno\" class=\" lazyloaded\" srcset=\"https://content-recetas.lecturas.com/medio/2020/02/19/buddha_bowl_de_lentejas_aguacate_rucula_y_maiz_y_buddha_bowl_de_falafel_kale_y_trigo_sarraceno_775572c4_480x480.jpg 480w,https://content-recetas.lecturas.com/medio/2020/02/19/buddha_bowl_de_lentejas_aguacate_rucula_y_maiz_y_buddha_bowl_de_falafel_kale_y_trigo_sarraceno_bd262715_800x800.jpg 800w\" style=\"\">"
   ]
  },
  {
   "cell_type": "raw",
   "metadata": {},
   "source": [
    "src"
   ]
  },
  {
   "cell_type": "raw",
   "metadata": {},
   "source": [
    "<figure class=\"thumb zoom\"><img sizes=\"54vw\" data-srcset=\"https://content-recetas.lecturas.com/medio/2019/02/06/paso_a_paso_para_realizar_tomates_acordeon_resultado_final_8f55a835_480x480.jpg 480w,https://content-recetas.lecturas.com/medio/2019/02/06/paso_a_paso_para_realizar_tomates_acordeon_resultado_final_ab63e2ab_800x800.jpg 800w\" data-src=\"https://content-recetas.lecturas.com/medio/2019/02/06/paso_a_paso_para_realizar_tomates_acordeon_resultado_final_ab63e2ab_800x800.jpg\" src=\"https://content-recetas.lecturas.com/medio/2019/02/06/paso_a_paso_para_realizar_tomates_acordeon_resultado_final_ab63e2ab_800x800.jpg\" alt=\"paso_a_paso_para_realizar_tomates_acordeon_resultado_final\" class=\" lazyloaded\" srcset=\"https://content-recetas.lecturas.com/medio/2019/02/06/paso_a_paso_para_realizar_tomates_acordeon_resultado_final_8f55a835_480x480.jpg 480w,https://content-recetas.lecturas.com/medio/2019/02/06/paso_a_paso_para_realizar_tomates_acordeon_resultado_final_ab63e2ab_800x800.jpg 800w\" style=\"\"><noscript><img src=\"https://content-recetas.lecturas.com/medio/2019/02/06/paso_a_paso_para_realizar_tomates_acordeon_resultado_final_ab63e2ab_800x800.jpg\" alt=\"paso_a_paso_para_realizar_tomates_acordeon_resultado_final\" /></noscript></figure>"
   ]
  },
  {
   "cell_type": "code",
   "execution_count": 40,
   "metadata": {},
   "outputs": [
    {
     "data": {
      "text/plain": [
       "'https://content-recetas.lecturas.com/medio/2019/02/06/paso_a_paso_para_realizar_tomates_acordeon_resultado_final_ab63e2ab_800x800.jpg'"
      ]
     },
     "execution_count": 40,
     "metadata": {},
     "output_type": "execute_result"
    }
   ],
   "source": [
    "images = driver.find_elements_by_tag_name('img')\n",
    "\n",
    "\n",
    "images_list = []\n",
    "\n",
    "for image in images:\n",
    "    images_list.append(image.get_attribute('src'))\n",
    "\n",
    "recipe_image_url = images_list[1]\n",
    "\n",
    "recipe_image_url"
   ]
  },
  {
   "cell_type": "code",
   "execution_count": 54,
   "metadata": {},
   "outputs": [
    {
     "data": {
      "text/plain": [
       "'https://content-recetas.lecturas.com/medio/2019/12/20/paso_a_paso_para_realizar_timbal_de_pollo_con_patatas_y_langostinos_resultado_final_daa76a7b_800x800.jpg'"
      ]
     },
     "execution_count": 54,
     "metadata": {},
     "output_type": "execute_result"
    }
   ],
   "source": [
    "images = driver.find_elements_by_tag_name('img')\n",
    "images_list = [image.get_attribute('src') for image in images]\n",
    "recipe_image_url = images_list[1]\n",
    "recipe_image_url"
   ]
  },
  {
   "cell_type": "markdown",
   "metadata": {},
   "source": [
    "# CALORIES"
   ]
  },
  {
   "cell_type": "code",
   "execution_count": 46,
   "metadata": {},
   "outputs": [
    {
     "data": {
      "text/plain": [
       "'412 Cal'"
      ]
     },
     "execution_count": 46,
     "metadata": {},
     "output_type": "execute_result"
    }
   ],
   "source": [
    "calories = driver.find_elements_by_class_name(\"metaheader-value\")\n",
    "recipe_calories = calories[2].text\n",
    "\n",
    "recipe_calories"
   ]
  },
  {
   "cell_type": "markdown",
   "metadata": {},
   "source": [
    "# INTOLERANCES"
   ]
  },
  {
   "cell_type": "raw",
   "metadata": {},
   "source": [
    "<span class=\"intolerances-item\">Sin gluten</span>"
   ]
  },
  {
   "cell_type": "code",
   "execution_count": 49,
   "metadata": {},
   "outputs": [],
   "source": [
    "intolerances = driver.find_elements_by_class_name(\"intolerances-item\")"
   ]
  },
  {
   "cell_type": "code",
   "execution_count": 52,
   "metadata": {},
   "outputs": [
    {
     "data": {
      "text/plain": [
       "['Sin gluten', 'Sin huevo', 'Sin lactosa']"
      ]
     },
     "execution_count": 52,
     "metadata": {},
     "output_type": "execute_result"
    }
   ],
   "source": [
    "intolerances_list = [intolerance.text for intolerance in intolerances]\n",
    "intolerances_list"
   ]
  },
  {
   "cell_type": "code",
   "execution_count": 51,
   "metadata": {},
   "outputs": [
    {
     "data": {
      "text/plain": [
       "'Sin gluten'"
      ]
     },
     "execution_count": 51,
     "metadata": {},
     "output_type": "execute_result"
    }
   ],
   "source": [
    "intolerance"
   ]
  },
  {
   "cell_type": "markdown",
   "metadata": {},
   "source": [
    "# URL"
   ]
  },
  {
   "cell_type": "code",
   "execution_count": 18,
   "metadata": {},
   "outputs": [],
   "source": [
    "recipe_url = driver.current_url"
   ]
  },
  {
   "cell_type": "markdown",
   "metadata": {},
   "source": [
    "# NAME"
   ]
  },
  {
   "cell_type": "code",
   "execution_count": 19,
   "metadata": {},
   "outputs": [
    {
     "data": {
      "text/plain": [
       "'Tomates acordeón'"
      ]
     },
     "execution_count": 19,
     "metadata": {},
     "output_type": "execute_result"
    }
   ],
   "source": [
    "recipe = driver.find_element_by_tag_name('h1').text\n",
    "\n",
    "recipe"
   ]
  },
  {
   "cell_type": "markdown",
   "metadata": {},
   "source": [
    "# TIME"
   ]
  },
  {
   "cell_type": "code",
   "execution_count": 20,
   "metadata": {},
   "outputs": [],
   "source": [
    "import re\n",
    "\n",
    "time_scrap = driver.find_elements_by_class_name(\"metaheader-value\")\n",
    "\n",
    "time = time_scrap[1].text"
   ]
  },
  {
   "cell_type": "markdown",
   "metadata": {},
   "source": [
    "# DATAFRAME"
   ]
  },
  {
   "cell_type": "code",
   "execution_count": 21,
   "metadata": {},
   "outputs": [],
   "source": [
    "import pandas as pd"
   ]
  },
  {
   "cell_type": "code",
   "execution_count": 22,
   "metadata": {},
   "outputs": [],
   "source": [
    "recipe_dict = {'recipe_name':recipe, 'time': time, 'ingredients': ingredients_list, 'url': recipe_url}"
   ]
  },
  {
   "cell_type": "code",
   "execution_count": 23,
   "metadata": {},
   "outputs": [
    {
     "data": {
      "text/html": [
       "<div>\n",
       "<style scoped>\n",
       "    .dataframe tbody tr th:only-of-type {\n",
       "        vertical-align: middle;\n",
       "    }\n",
       "\n",
       "    .dataframe tbody tr th {\n",
       "        vertical-align: top;\n",
       "    }\n",
       "\n",
       "    .dataframe thead th {\n",
       "        text-align: right;\n",
       "    }\n",
       "</style>\n",
       "<table border=\"1\" class=\"dataframe\">\n",
       "  <thead>\n",
       "    <tr style=\"text-align: right;\">\n",
       "      <th></th>\n",
       "      <th>recipe_name</th>\n",
       "      <th>time</th>\n",
       "      <th>ingredients</th>\n",
       "      <th>url</th>\n",
       "    </tr>\n",
       "  </thead>\n",
       "  <tbody>\n",
       "    <tr>\n",
       "      <th>0</th>\n",
       "      <td>Tomates acordeón</td>\n",
       "      <td>30 min</td>\n",
       "      <td>tomates</td>\n",
       "      <td>https://www.lecturas.com/recetas/tomates-acord...</td>\n",
       "    </tr>\n",
       "    <tr>\n",
       "      <th>1</th>\n",
       "      <td>Tomates acordeón</td>\n",
       "      <td>30 min</td>\n",
       "      <td>queso mozzarella</td>\n",
       "      <td>https://www.lecturas.com/recetas/tomates-acord...</td>\n",
       "    </tr>\n",
       "    <tr>\n",
       "      <th>2</th>\n",
       "      <td>Tomates acordeón</td>\n",
       "      <td>30 min</td>\n",
       "      <td>albahaca fresca</td>\n",
       "      <td>https://www.lecturas.com/recetas/tomates-acord...</td>\n",
       "    </tr>\n",
       "    <tr>\n",
       "      <th>3</th>\n",
       "      <td>Tomates acordeón</td>\n",
       "      <td>30 min</td>\n",
       "      <td>queso parmesano rallado</td>\n",
       "      <td>https://www.lecturas.com/recetas/tomates-acord...</td>\n",
       "    </tr>\n",
       "    <tr>\n",
       "      <th>4</th>\n",
       "      <td>Tomates acordeón</td>\n",
       "      <td>30 min</td>\n",
       "      <td>piñones</td>\n",
       "      <td>https://www.lecturas.com/recetas/tomates-acord...</td>\n",
       "    </tr>\n",
       "    <tr>\n",
       "      <th>5</th>\n",
       "      <td>Tomates acordeón</td>\n",
       "      <td>30 min</td>\n",
       "      <td>diente de ajo pelado</td>\n",
       "      <td>https://www.lecturas.com/recetas/tomates-acord...</td>\n",
       "    </tr>\n",
       "    <tr>\n",
       "      <th>6</th>\n",
       "      <td>Tomates acordeón</td>\n",
       "      <td>30 min</td>\n",
       "      <td>aceite de oliva</td>\n",
       "      <td>https://www.lecturas.com/recetas/tomates-acord...</td>\n",
       "    </tr>\n",
       "    <tr>\n",
       "      <th>7</th>\n",
       "      <td>Tomates acordeón</td>\n",
       "      <td>30 min</td>\n",
       "      <td>piñones tostados para decorar</td>\n",
       "      <td>https://www.lecturas.com/recetas/tomates-acord...</td>\n",
       "    </tr>\n",
       "  </tbody>\n",
       "</table>\n",
       "</div>"
      ],
      "text/plain": [
       "        recipe_name    time                    ingredients  \\\n",
       "0  Tomates acordeón  30 min                        tomates   \n",
       "1  Tomates acordeón  30 min               queso mozzarella   \n",
       "2  Tomates acordeón  30 min                albahaca fresca   \n",
       "3  Tomates acordeón  30 min        queso parmesano rallado   \n",
       "4  Tomates acordeón  30 min                        piñones   \n",
       "5  Tomates acordeón  30 min           diente de ajo pelado   \n",
       "6  Tomates acordeón  30 min                aceite de oliva   \n",
       "7  Tomates acordeón  30 min  piñones tostados para decorar   \n",
       "\n",
       "                                                 url  \n",
       "0  https://www.lecturas.com/recetas/tomates-acord...  \n",
       "1  https://www.lecturas.com/recetas/tomates-acord...  \n",
       "2  https://www.lecturas.com/recetas/tomates-acord...  \n",
       "3  https://www.lecturas.com/recetas/tomates-acord...  \n",
       "4  https://www.lecturas.com/recetas/tomates-acord...  \n",
       "5  https://www.lecturas.com/recetas/tomates-acord...  \n",
       "6  https://www.lecturas.com/recetas/tomates-acord...  \n",
       "7  https://www.lecturas.com/recetas/tomates-acord...  "
      ]
     },
     "execution_count": 23,
     "metadata": {},
     "output_type": "execute_result"
    }
   ],
   "source": [
    "pd.DataFrame.from_dict(recipe_dict)"
   ]
  },
  {
   "cell_type": "code",
   "execution_count": null,
   "metadata": {},
   "outputs": [],
   "source": []
  },
  {
   "cell_type": "code",
   "execution_count": null,
   "metadata": {},
   "outputs": [],
   "source": []
  },
  {
   "cell_type": "code",
   "execution_count": null,
   "metadata": {},
   "outputs": [],
   "source": []
  }
 ],
 "metadata": {
  "kernelspec": {
   "display_name": "Python [conda env:recipe_env]",
   "language": "python",
   "name": "conda-env-recipe_env-py"
  },
  "language_info": {
   "codemirror_mode": {
    "name": "ipython",
    "version": 3
   },
   "file_extension": ".py",
   "mimetype": "text/x-python",
   "name": "python",
   "nbconvert_exporter": "python",
   "pygments_lexer": "ipython3",
   "version": "3.7.7"
  }
 },
 "nbformat": 4,
 "nbformat_minor": 4
}
