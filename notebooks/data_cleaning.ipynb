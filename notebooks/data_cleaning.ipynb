{
 "cells": [
  {
   "cell_type": "code",
   "execution_count": 1,
   "metadata": {},
   "outputs": [],
   "source": [
    "import pandas as pd\n",
    "import re\n",
    "from ast import literal_eval"
   ]
  },
  {
   "cell_type": "code",
   "execution_count": 2,
   "metadata": {},
   "outputs": [],
   "source": [
    "recipe_df = pd.read_csv('../data/raw/web_scraping_recipes.csv')"
   ]
  },
  {
   "cell_type": "code",
   "execution_count": 3,
   "metadata": {},
   "outputs": [
    {
     "data": {
      "text/html": [
       "<div>\n",
       "<style scoped>\n",
       "    .dataframe tbody tr th:only-of-type {\n",
       "        vertical-align: middle;\n",
       "    }\n",
       "\n",
       "    .dataframe tbody tr th {\n",
       "        vertical-align: top;\n",
       "    }\n",
       "\n",
       "    .dataframe thead th {\n",
       "        text-align: right;\n",
       "    }\n",
       "</style>\n",
       "<table border=\"1\" class=\"dataframe\">\n",
       "  <thead>\n",
       "    <tr style=\"text-align: right;\">\n",
       "      <th></th>\n",
       "      <th>recipe_name</th>\n",
       "      <th>ingredients</th>\n",
       "      <th>time_preparation</th>\n",
       "      <th>calories</th>\n",
       "      <th>intolerances</th>\n",
       "      <th>recipe_url</th>\n",
       "      <th>recipe_image_url</th>\n",
       "      <th>category</th>\n",
       "    </tr>\n",
       "  </thead>\n",
       "  <tbody>\n",
       "    <tr>\n",
       "      <th>0</th>\n",
       "      <td>Ensalada niçoise</td>\n",
       "      <td>['patatas pequeñas rojas', 'huevos', 'judías v...</td>\n",
       "      <td>60 min</td>\n",
       "      <td>252 Cal</td>\n",
       "      <td>[]</td>\n",
       "      <td>https://www.lecturas.com/recetas/ensalada-nico...</td>\n",
       "      <td>https://content-recetas.lecturas.com/medio/201...</td>\n",
       "      <td>Ensaladas</td>\n",
       "    </tr>\n",
       "    <tr>\n",
       "      <th>1</th>\n",
       "      <td>Ensalada del périgord</td>\n",
       "      <td>['foie micuit', 'beicon gruesas', 'champiñones...</td>\n",
       "      <td>25 min</td>\n",
       "      <td>386 Cal</td>\n",
       "      <td>[]</td>\n",
       "      <td>https://www.lecturas.com/recetas/ensalada-peri...</td>\n",
       "      <td>https://content-recetas.lecturas.com/medio/201...</td>\n",
       "      <td>Ensaladas</td>\n",
       "    </tr>\n",
       "    <tr>\n",
       "      <th>2</th>\n",
       "      <td>Xató con salsa romesco</td>\n",
       "      <td>['bacalao desalado', 'cebolleta', 'escarolas',...</td>\n",
       "      <td>35 min</td>\n",
       "      <td>NaN</td>\n",
       "      <td>[]</td>\n",
       "      <td>https://www.lecturas.com/recetas/xato-salsa-ro...</td>\n",
       "      <td>https://content-recetas.lecturas.com/medio/202...</td>\n",
       "      <td>Ensaladas</td>\n",
       "    </tr>\n",
       "    <tr>\n",
       "      <th>3</th>\n",
       "      <td>Ensalada de ceviche de langostinos y cebolla</td>\n",
       "      <td>['langostinos', 'pimienta', 'limas', 'tomates'...</td>\n",
       "      <td>25 min</td>\n",
       "      <td>176 Cal</td>\n",
       "      <td>[]</td>\n",
       "      <td>https://www.lecturas.com/recetas/ensalada-cevi...</td>\n",
       "      <td>https://content-recetas.lecturas.com/medio/201...</td>\n",
       "      <td>Ensaladas</td>\n",
       "    </tr>\n",
       "    <tr>\n",
       "      <th>4</th>\n",
       "      <td>Ensalada de pollo, remolacha y manzana</td>\n",
       "      <td>['pechugas de pollo', 'manzanas ácida', 'col l...</td>\n",
       "      <td>40 min</td>\n",
       "      <td>203 Cal</td>\n",
       "      <td>[]</td>\n",
       "      <td>https://www.lecturas.com/recetas/ensalada-poll...</td>\n",
       "      <td>https://content-recetas.lecturas.com/medio/201...</td>\n",
       "      <td>Ensaladas</td>\n",
       "    </tr>\n",
       "    <tr>\n",
       "      <th>...</th>\n",
       "      <td>...</td>\n",
       "      <td>...</td>\n",
       "      <td>...</td>\n",
       "      <td>...</td>\n",
       "      <td>...</td>\n",
       "      <td>...</td>\n",
       "      <td>...</td>\n",
       "      <td>...</td>\n",
       "    </tr>\n",
       "    <tr>\n",
       "      <th>6294</th>\n",
       "      <td>Torres de salmón, pepino y queso</td>\n",
       "      <td>['pepinos', 'salmón ahumado', 'queso blanco pa...</td>\n",
       "      <td>10 min</td>\n",
       "      <td>NaN</td>\n",
       "      <td>[]</td>\n",
       "      <td>https://www.lecturas.com/recetas/torres-salmon...</td>\n",
       "      <td>https://content-recetas.lecturas.com/medio/201...</td>\n",
       "      <td>BOCADILLOS Y CANAPÉS</td>\n",
       "    </tr>\n",
       "    <tr>\n",
       "      <th>6295</th>\n",
       "      <td>Sándwich de salchichas con huevo</td>\n",
       "      <td>['pan de molde', 'salchichas tipo viena', 'hue...</td>\n",
       "      <td>30 min</td>\n",
       "      <td>NaN</td>\n",
       "      <td>[]</td>\n",
       "      <td>https://www.lecturas.com/recetas/sandwich-salc...</td>\n",
       "      <td>https://content-recetas.lecturas.com/medio/201...</td>\n",
       "      <td>BOCADILLOS Y CANAPÉS</td>\n",
       "    </tr>\n",
       "    <tr>\n",
       "      <th>6296</th>\n",
       "      <td>Pinchos de secreto ibérico con pimiento</td>\n",
       "      <td>['secreto ibérico', 'pan', 'diente de ajo', 'p...</td>\n",
       "      <td>35 min</td>\n",
       "      <td>NaN</td>\n",
       "      <td>['Sin lactosa']</td>\n",
       "      <td>https://www.lecturas.com/recetas/pinchos-secre...</td>\n",
       "      <td>https://content-recetas.lecturas.com/medio/201...</td>\n",
       "      <td>BOCADILLOS Y CANAPÉS</td>\n",
       "    </tr>\n",
       "    <tr>\n",
       "      <th>6297</th>\n",
       "      <td>Hamburguesitas con huevo</td>\n",
       "      <td>['carne picada de ternera', 'huevos de codorni...</td>\n",
       "      <td>35 min</td>\n",
       "      <td>NaN</td>\n",
       "      <td>[]</td>\n",
       "      <td>https://www.lecturas.com/recetas/hamburguesita...</td>\n",
       "      <td>https://content-recetas.lecturas.com/medio/201...</td>\n",
       "      <td>BOCADILLOS Y CANAPÉS</td>\n",
       "    </tr>\n",
       "    <tr>\n",
       "      <th>6298</th>\n",
       "      <td>Tosta de caballa ahumada</td>\n",
       "      <td>['filetes de caballa', 'pan de pueblo', 'cebol...</td>\n",
       "      <td>20 min</td>\n",
       "      <td>NaN</td>\n",
       "      <td>['Preparación con antelación']</td>\n",
       "      <td>https://www.lecturas.com/recetas/tosta-caballa...</td>\n",
       "      <td>https://content-recetas.lecturas.com/medio/201...</td>\n",
       "      <td>BOCADILLOS Y CANAPÉS</td>\n",
       "    </tr>\n",
       "  </tbody>\n",
       "</table>\n",
       "<p>6299 rows × 8 columns</p>\n",
       "</div>"
      ],
      "text/plain": [
       "                                       recipe_name  \\\n",
       "0                                 Ensalada niçoise   \n",
       "1                            Ensalada del périgord   \n",
       "2                           Xató con salsa romesco   \n",
       "3     Ensalada de ceviche de langostinos y cebolla   \n",
       "4           Ensalada de pollo, remolacha y manzana   \n",
       "...                                            ...   \n",
       "6294              Torres de salmón, pepino y queso   \n",
       "6295              Sándwich de salchichas con huevo   \n",
       "6296       Pinchos de secreto ibérico con pimiento   \n",
       "6297                      Hamburguesitas con huevo   \n",
       "6298                      Tosta de caballa ahumada   \n",
       "\n",
       "                                            ingredients time_preparation  \\\n",
       "0     ['patatas pequeñas rojas', 'huevos', 'judías v...           60 min   \n",
       "1     ['foie micuit', 'beicon gruesas', 'champiñones...           25 min   \n",
       "2     ['bacalao desalado', 'cebolleta', 'escarolas',...           35 min   \n",
       "3     ['langostinos', 'pimienta', 'limas', 'tomates'...           25 min   \n",
       "4     ['pechugas de pollo', 'manzanas ácida', 'col l...           40 min   \n",
       "...                                                 ...              ...   \n",
       "6294  ['pepinos', 'salmón ahumado', 'queso blanco pa...           10 min   \n",
       "6295  ['pan de molde', 'salchichas tipo viena', 'hue...           30 min   \n",
       "6296  ['secreto ibérico', 'pan', 'diente de ajo', 'p...           35 min   \n",
       "6297  ['carne picada de ternera', 'huevos de codorni...           35 min   \n",
       "6298  ['filetes de caballa', 'pan de pueblo', 'cebol...           20 min   \n",
       "\n",
       "     calories                    intolerances  \\\n",
       "0     252 Cal                              []   \n",
       "1     386 Cal                              []   \n",
       "2         NaN                              []   \n",
       "3     176 Cal                              []   \n",
       "4     203 Cal                              []   \n",
       "...       ...                             ...   \n",
       "6294      NaN                              []   \n",
       "6295      NaN                              []   \n",
       "6296      NaN                 ['Sin lactosa']   \n",
       "6297      NaN                              []   \n",
       "6298      NaN  ['Preparación con antelación']   \n",
       "\n",
       "                                             recipe_url  \\\n",
       "0     https://www.lecturas.com/recetas/ensalada-nico...   \n",
       "1     https://www.lecturas.com/recetas/ensalada-peri...   \n",
       "2     https://www.lecturas.com/recetas/xato-salsa-ro...   \n",
       "3     https://www.lecturas.com/recetas/ensalada-cevi...   \n",
       "4     https://www.lecturas.com/recetas/ensalada-poll...   \n",
       "...                                                 ...   \n",
       "6294  https://www.lecturas.com/recetas/torres-salmon...   \n",
       "6295  https://www.lecturas.com/recetas/sandwich-salc...   \n",
       "6296  https://www.lecturas.com/recetas/pinchos-secre...   \n",
       "6297  https://www.lecturas.com/recetas/hamburguesita...   \n",
       "6298  https://www.lecturas.com/recetas/tosta-caballa...   \n",
       "\n",
       "                                       recipe_image_url              category  \n",
       "0     https://content-recetas.lecturas.com/medio/201...             Ensaladas  \n",
       "1     https://content-recetas.lecturas.com/medio/201...             Ensaladas  \n",
       "2     https://content-recetas.lecturas.com/medio/202...             Ensaladas  \n",
       "3     https://content-recetas.lecturas.com/medio/201...             Ensaladas  \n",
       "4     https://content-recetas.lecturas.com/medio/201...             Ensaladas  \n",
       "...                                                 ...                   ...  \n",
       "6294  https://content-recetas.lecturas.com/medio/201...  BOCADILLOS Y CANAPÉS  \n",
       "6295  https://content-recetas.lecturas.com/medio/201...  BOCADILLOS Y CANAPÉS  \n",
       "6296  https://content-recetas.lecturas.com/medio/201...  BOCADILLOS Y CANAPÉS  \n",
       "6297  https://content-recetas.lecturas.com/medio/201...  BOCADILLOS Y CANAPÉS  \n",
       "6298  https://content-recetas.lecturas.com/medio/201...  BOCADILLOS Y CANAPÉS  \n",
       "\n",
       "[6299 rows x 8 columns]"
      ]
     },
     "execution_count": 3,
     "metadata": {},
     "output_type": "execute_result"
    }
   ],
   "source": [
    "recipe_df"
   ]
  },
  {
   "cell_type": "code",
   "execution_count": 4,
   "metadata": {},
   "outputs": [],
   "source": [
    "#Lowercase"
   ]
  },
  {
   "cell_type": "code",
   "execution_count": 5,
   "metadata": {},
   "outputs": [],
   "source": [
    "recipe_df[\"category\"] = recipe_df[\"category\"].str.lower()"
   ]
  },
  {
   "cell_type": "code",
   "execution_count": 7,
   "metadata": {},
   "outputs": [],
   "source": [
    "recipe_df[\"ingredients\"] = recipe_df[\"ingredients\"].str.lower()"
   ]
  },
  {
   "cell_type": "code",
   "execution_count": null,
   "metadata": {},
   "outputs": [],
   "source": [
    "#remove accents"
   ]
  },
  {
   "cell_type": "code",
   "execution_count": 17,
   "metadata": {},
   "outputs": [],
   "source": [
    "def normalize(string_column):\n",
    "    a,b = 'áéíóú','aeiou'\n",
    "    trans = str.maketrans(a,b)\n",
    "    return string_column.translate(trans)"
   ]
  },
  {
   "cell_type": "code",
   "execution_count": 18,
   "metadata": {},
   "outputs": [
    {
     "data": {
      "text/plain": [
       "'brocoli'"
      ]
     },
     "execution_count": 18,
     "metadata": {},
     "output_type": "execute_result"
    }
   ],
   "source": [
    "normalize('brócoli')"
   ]
  },
  {
   "cell_type": "code",
   "execution_count": 19,
   "metadata": {},
   "outputs": [],
   "source": [
    "recipe_df[\"category\"] = recipe_df.apply(lambda x: normalize(x[\"category\"]), axis=1)"
   ]
  },
  {
   "cell_type": "code",
   "execution_count": 21,
   "metadata": {},
   "outputs": [],
   "source": [
    "recipe_df[\"ingredients\"] = recipe_df.apply(lambda x: normalize(x[\"ingredients\"]), axis=1)"
   ]
  },
  {
   "cell_type": "code",
   "execution_count": 22,
   "metadata": {},
   "outputs": [
    {
     "data": {
      "text/html": [
       "<div>\n",
       "<style scoped>\n",
       "    .dataframe tbody tr th:only-of-type {\n",
       "        vertical-align: middle;\n",
       "    }\n",
       "\n",
       "    .dataframe tbody tr th {\n",
       "        vertical-align: top;\n",
       "    }\n",
       "\n",
       "    .dataframe thead th {\n",
       "        text-align: right;\n",
       "    }\n",
       "</style>\n",
       "<table border=\"1\" class=\"dataframe\">\n",
       "  <thead>\n",
       "    <tr style=\"text-align: right;\">\n",
       "      <th></th>\n",
       "      <th>recipe_name</th>\n",
       "      <th>ingredients</th>\n",
       "      <th>time_preparation</th>\n",
       "      <th>calories</th>\n",
       "      <th>intolerances</th>\n",
       "      <th>recipe_url</th>\n",
       "      <th>recipe_image_url</th>\n",
       "      <th>category</th>\n",
       "    </tr>\n",
       "  </thead>\n",
       "  <tbody>\n",
       "    <tr>\n",
       "      <th>0</th>\n",
       "      <td>Ensalada niçoise</td>\n",
       "      <td>['patatas pequeñas rojas', 'huevos', 'judias v...</td>\n",
       "      <td>60 min</td>\n",
       "      <td>252 Cal</td>\n",
       "      <td>[]</td>\n",
       "      <td>https://www.lecturas.com/recetas/ensalada-nico...</td>\n",
       "      <td>https://content-recetas.lecturas.com/medio/201...</td>\n",
       "      <td>ensaladas</td>\n",
       "    </tr>\n",
       "    <tr>\n",
       "      <th>1</th>\n",
       "      <td>Ensalada del périgord</td>\n",
       "      <td>['foie micuit', 'beicon gruesas', 'champiñones...</td>\n",
       "      <td>25 min</td>\n",
       "      <td>386 Cal</td>\n",
       "      <td>[]</td>\n",
       "      <td>https://www.lecturas.com/recetas/ensalada-peri...</td>\n",
       "      <td>https://content-recetas.lecturas.com/medio/201...</td>\n",
       "      <td>ensaladas</td>\n",
       "    </tr>\n",
       "    <tr>\n",
       "      <th>2</th>\n",
       "      <td>Xató con salsa romesco</td>\n",
       "      <td>['bacalao desalado', 'cebolleta', 'escarolas',...</td>\n",
       "      <td>35 min</td>\n",
       "      <td>NaN</td>\n",
       "      <td>[]</td>\n",
       "      <td>https://www.lecturas.com/recetas/xato-salsa-ro...</td>\n",
       "      <td>https://content-recetas.lecturas.com/medio/202...</td>\n",
       "      <td>ensaladas</td>\n",
       "    </tr>\n",
       "    <tr>\n",
       "      <th>3</th>\n",
       "      <td>Ensalada de ceviche de langostinos y cebolla</td>\n",
       "      <td>['langostinos', 'pimienta', 'limas', 'tomates'...</td>\n",
       "      <td>25 min</td>\n",
       "      <td>176 Cal</td>\n",
       "      <td>[]</td>\n",
       "      <td>https://www.lecturas.com/recetas/ensalada-cevi...</td>\n",
       "      <td>https://content-recetas.lecturas.com/medio/201...</td>\n",
       "      <td>ensaladas</td>\n",
       "    </tr>\n",
       "    <tr>\n",
       "      <th>4</th>\n",
       "      <td>Ensalada de pollo, remolacha y manzana</td>\n",
       "      <td>['pechugas de pollo', 'manzanas acida', 'col l...</td>\n",
       "      <td>40 min</td>\n",
       "      <td>203 Cal</td>\n",
       "      <td>[]</td>\n",
       "      <td>https://www.lecturas.com/recetas/ensalada-poll...</td>\n",
       "      <td>https://content-recetas.lecturas.com/medio/201...</td>\n",
       "      <td>ensaladas</td>\n",
       "    </tr>\n",
       "    <tr>\n",
       "      <th>...</th>\n",
       "      <td>...</td>\n",
       "      <td>...</td>\n",
       "      <td>...</td>\n",
       "      <td>...</td>\n",
       "      <td>...</td>\n",
       "      <td>...</td>\n",
       "      <td>...</td>\n",
       "      <td>...</td>\n",
       "    </tr>\n",
       "    <tr>\n",
       "      <th>6294</th>\n",
       "      <td>Torres de salmón, pepino y queso</td>\n",
       "      <td>['pepinos', 'salmon ahumado', 'queso blanco pa...</td>\n",
       "      <td>10 min</td>\n",
       "      <td>NaN</td>\n",
       "      <td>[]</td>\n",
       "      <td>https://www.lecturas.com/recetas/torres-salmon...</td>\n",
       "      <td>https://content-recetas.lecturas.com/medio/201...</td>\n",
       "      <td>bocadillos y canapes</td>\n",
       "    </tr>\n",
       "    <tr>\n",
       "      <th>6295</th>\n",
       "      <td>Sándwich de salchichas con huevo</td>\n",
       "      <td>['pan de molde', 'salchichas tipo viena', 'hue...</td>\n",
       "      <td>30 min</td>\n",
       "      <td>NaN</td>\n",
       "      <td>[]</td>\n",
       "      <td>https://www.lecturas.com/recetas/sandwich-salc...</td>\n",
       "      <td>https://content-recetas.lecturas.com/medio/201...</td>\n",
       "      <td>bocadillos y canapes</td>\n",
       "    </tr>\n",
       "    <tr>\n",
       "      <th>6296</th>\n",
       "      <td>Pinchos de secreto ibérico con pimiento</td>\n",
       "      <td>['secreto iberico', 'pan', 'diente de ajo', 'p...</td>\n",
       "      <td>35 min</td>\n",
       "      <td>NaN</td>\n",
       "      <td>['Sin lactosa']</td>\n",
       "      <td>https://www.lecturas.com/recetas/pinchos-secre...</td>\n",
       "      <td>https://content-recetas.lecturas.com/medio/201...</td>\n",
       "      <td>bocadillos y canapes</td>\n",
       "    </tr>\n",
       "    <tr>\n",
       "      <th>6297</th>\n",
       "      <td>Hamburguesitas con huevo</td>\n",
       "      <td>['carne picada de ternera', 'huevos de codorni...</td>\n",
       "      <td>35 min</td>\n",
       "      <td>NaN</td>\n",
       "      <td>[]</td>\n",
       "      <td>https://www.lecturas.com/recetas/hamburguesita...</td>\n",
       "      <td>https://content-recetas.lecturas.com/medio/201...</td>\n",
       "      <td>bocadillos y canapes</td>\n",
       "    </tr>\n",
       "    <tr>\n",
       "      <th>6298</th>\n",
       "      <td>Tosta de caballa ahumada</td>\n",
       "      <td>['filetes de caballa', 'pan de pueblo', 'cebol...</td>\n",
       "      <td>20 min</td>\n",
       "      <td>NaN</td>\n",
       "      <td>['Preparación con antelación']</td>\n",
       "      <td>https://www.lecturas.com/recetas/tosta-caballa...</td>\n",
       "      <td>https://content-recetas.lecturas.com/medio/201...</td>\n",
       "      <td>bocadillos y canapes</td>\n",
       "    </tr>\n",
       "  </tbody>\n",
       "</table>\n",
       "<p>6299 rows × 8 columns</p>\n",
       "</div>"
      ],
      "text/plain": [
       "                                       recipe_name  \\\n",
       "0                                 Ensalada niçoise   \n",
       "1                            Ensalada del périgord   \n",
       "2                           Xató con salsa romesco   \n",
       "3     Ensalada de ceviche de langostinos y cebolla   \n",
       "4           Ensalada de pollo, remolacha y manzana   \n",
       "...                                            ...   \n",
       "6294              Torres de salmón, pepino y queso   \n",
       "6295              Sándwich de salchichas con huevo   \n",
       "6296       Pinchos de secreto ibérico con pimiento   \n",
       "6297                      Hamburguesitas con huevo   \n",
       "6298                      Tosta de caballa ahumada   \n",
       "\n",
       "                                            ingredients time_preparation  \\\n",
       "0     ['patatas pequeñas rojas', 'huevos', 'judias v...           60 min   \n",
       "1     ['foie micuit', 'beicon gruesas', 'champiñones...           25 min   \n",
       "2     ['bacalao desalado', 'cebolleta', 'escarolas',...           35 min   \n",
       "3     ['langostinos', 'pimienta', 'limas', 'tomates'...           25 min   \n",
       "4     ['pechugas de pollo', 'manzanas acida', 'col l...           40 min   \n",
       "...                                                 ...              ...   \n",
       "6294  ['pepinos', 'salmon ahumado', 'queso blanco pa...           10 min   \n",
       "6295  ['pan de molde', 'salchichas tipo viena', 'hue...           30 min   \n",
       "6296  ['secreto iberico', 'pan', 'diente de ajo', 'p...           35 min   \n",
       "6297  ['carne picada de ternera', 'huevos de codorni...           35 min   \n",
       "6298  ['filetes de caballa', 'pan de pueblo', 'cebol...           20 min   \n",
       "\n",
       "     calories                    intolerances  \\\n",
       "0     252 Cal                              []   \n",
       "1     386 Cal                              []   \n",
       "2         NaN                              []   \n",
       "3     176 Cal                              []   \n",
       "4     203 Cal                              []   \n",
       "...       ...                             ...   \n",
       "6294      NaN                              []   \n",
       "6295      NaN                              []   \n",
       "6296      NaN                 ['Sin lactosa']   \n",
       "6297      NaN                              []   \n",
       "6298      NaN  ['Preparación con antelación']   \n",
       "\n",
       "                                             recipe_url  \\\n",
       "0     https://www.lecturas.com/recetas/ensalada-nico...   \n",
       "1     https://www.lecturas.com/recetas/ensalada-peri...   \n",
       "2     https://www.lecturas.com/recetas/xato-salsa-ro...   \n",
       "3     https://www.lecturas.com/recetas/ensalada-cevi...   \n",
       "4     https://www.lecturas.com/recetas/ensalada-poll...   \n",
       "...                                                 ...   \n",
       "6294  https://www.lecturas.com/recetas/torres-salmon...   \n",
       "6295  https://www.lecturas.com/recetas/sandwich-salc...   \n",
       "6296  https://www.lecturas.com/recetas/pinchos-secre...   \n",
       "6297  https://www.lecturas.com/recetas/hamburguesita...   \n",
       "6298  https://www.lecturas.com/recetas/tosta-caballa...   \n",
       "\n",
       "                                       recipe_image_url              category  \n",
       "0     https://content-recetas.lecturas.com/medio/201...             ensaladas  \n",
       "1     https://content-recetas.lecturas.com/medio/201...             ensaladas  \n",
       "2     https://content-recetas.lecturas.com/medio/202...             ensaladas  \n",
       "3     https://content-recetas.lecturas.com/medio/201...             ensaladas  \n",
       "4     https://content-recetas.lecturas.com/medio/201...             ensaladas  \n",
       "...                                                 ...                   ...  \n",
       "6294  https://content-recetas.lecturas.com/medio/201...  bocadillos y canapes  \n",
       "6295  https://content-recetas.lecturas.com/medio/201...  bocadillos y canapes  \n",
       "6296  https://content-recetas.lecturas.com/medio/201...  bocadillos y canapes  \n",
       "6297  https://content-recetas.lecturas.com/medio/201...  bocadillos y canapes  \n",
       "6298  https://content-recetas.lecturas.com/medio/201...  bocadillos y canapes  \n",
       "\n",
       "[6299 rows x 8 columns]"
      ]
     },
     "execution_count": 22,
     "metadata": {},
     "output_type": "execute_result"
    }
   ],
   "source": [
    "recipe_df"
   ]
  },
  {
   "cell_type": "code",
   "execution_count": 23,
   "metadata": {},
   "outputs": [],
   "source": [
    "# Remove duplicates recipes"
   ]
  },
  {
   "cell_type": "code",
   "execution_count": 24,
   "metadata": {},
   "outputs": [
    {
     "data": {
      "text/plain": [
       "https://www.lecturas.com/recetas/tarta-chocolate-fondant_183.html                 86\n",
       "https://www.lecturas.com/recetas/tarta-queso-lunares-chocolate_134.html           86\n",
       "https://www.lecturas.com/recetas/pastelitos-nata-y-chocolate_137.html             86\n",
       "https://www.lecturas.com/recetas/lubina-rellena-puerros-y-esparragos_995.html     27\n",
       "https://www.lecturas.com/recetas/caballa-a-plancha-ensalada-patata_231.html       27\n",
       "                                                                                  ..\n",
       "https://www.lecturas.com/recetas/tortada-almendra_998.html                         1\n",
       "https://www.lecturas.com/recetas/ensalada-mandarina-y-jamon_1705.html              1\n",
       "https://www.lecturas.com/recetas/ensalada-judias-verdes-arroz-blanco_1422.html     1\n",
       "https://www.lecturas.com/recetas/granola-pistacho_7324.html                        1\n",
       "https://www.lecturas.com/recetas/tortitas-avena-requeson-y-tomate_1223.html        1\n",
       "Name: recipe_url, Length: 5528, dtype: int64"
      ]
     },
     "execution_count": 24,
     "metadata": {},
     "output_type": "execute_result"
    }
   ],
   "source": [
    "recipe_df[\"recipe_url\"].value_counts()"
   ]
  },
  {
   "cell_type": "code",
   "execution_count": 25,
   "metadata": {},
   "outputs": [
    {
     "data": {
      "text/html": [
       "<div>\n",
       "<style scoped>\n",
       "    .dataframe tbody tr th:only-of-type {\n",
       "        vertical-align: middle;\n",
       "    }\n",
       "\n",
       "    .dataframe tbody tr th {\n",
       "        vertical-align: top;\n",
       "    }\n",
       "\n",
       "    .dataframe thead th {\n",
       "        text-align: right;\n",
       "    }\n",
       "</style>\n",
       "<table border=\"1\" class=\"dataframe\">\n",
       "  <thead>\n",
       "    <tr style=\"text-align: right;\">\n",
       "      <th></th>\n",
       "      <th>recipe_name</th>\n",
       "      <th>ingredients</th>\n",
       "      <th>time_preparation</th>\n",
       "      <th>calories</th>\n",
       "      <th>intolerances</th>\n",
       "      <th>recipe_url</th>\n",
       "      <th>recipe_image_url</th>\n",
       "      <th>category</th>\n",
       "    </tr>\n",
       "  </thead>\n",
       "  <tbody>\n",
       "    <tr>\n",
       "      <th>3545</th>\n",
       "      <td>Tarta de queso con lunares de chocolate</td>\n",
       "      <td>['mantequilla', 'galletas de chocolate', 'ques...</td>\n",
       "      <td>90 min</td>\n",
       "      <td>NaN</td>\n",
       "      <td>[]</td>\n",
       "      <td>https://www.lecturas.com/recetas/tarta-queso-l...</td>\n",
       "      <td>https://content-recetas.lecturas.com/medio/201...</td>\n",
       "      <td>postres y dulces</td>\n",
       "    </tr>\n",
       "    <tr>\n",
       "      <th>3572</th>\n",
       "      <td>Tarta de queso con lunares de chocolate</td>\n",
       "      <td>['mantequilla', 'galletas de chocolate', 'ques...</td>\n",
       "      <td>90 min</td>\n",
       "      <td>NaN</td>\n",
       "      <td>[]</td>\n",
       "      <td>https://www.lecturas.com/recetas/tarta-queso-l...</td>\n",
       "      <td>https://content-recetas.lecturas.com/medio/201...</td>\n",
       "      <td>postres y dulces</td>\n",
       "    </tr>\n",
       "    <tr>\n",
       "      <th>3599</th>\n",
       "      <td>Tarta de queso con lunares de chocolate</td>\n",
       "      <td>['mantequilla', 'galletas de chocolate', 'ques...</td>\n",
       "      <td>90 min</td>\n",
       "      <td>NaN</td>\n",
       "      <td>[]</td>\n",
       "      <td>https://www.lecturas.com/recetas/tarta-queso-l...</td>\n",
       "      <td>https://content-recetas.lecturas.com/medio/201...</td>\n",
       "      <td>postres y dulces</td>\n",
       "    </tr>\n",
       "    <tr>\n",
       "      <th>3626</th>\n",
       "      <td>Tarta de queso con lunares de chocolate</td>\n",
       "      <td>['mantequilla', 'galletas de chocolate', 'ques...</td>\n",
       "      <td>90 min</td>\n",
       "      <td>NaN</td>\n",
       "      <td>[]</td>\n",
       "      <td>https://www.lecturas.com/recetas/tarta-queso-l...</td>\n",
       "      <td>https://content-recetas.lecturas.com/medio/201...</td>\n",
       "      <td>postres y dulces</td>\n",
       "    </tr>\n",
       "    <tr>\n",
       "      <th>3667</th>\n",
       "      <td>Tarta de queso con lunares de chocolate</td>\n",
       "      <td>['mantequilla', 'galletas de chocolate', 'ques...</td>\n",
       "      <td>90 min</td>\n",
       "      <td>NaN</td>\n",
       "      <td>[]</td>\n",
       "      <td>https://www.lecturas.com/recetas/tarta-queso-l...</td>\n",
       "      <td>https://content-recetas.lecturas.com/medio/201...</td>\n",
       "      <td>postres y dulces</td>\n",
       "    </tr>\n",
       "    <tr>\n",
       "      <th>...</th>\n",
       "      <td>...</td>\n",
       "      <td>...</td>\n",
       "      <td>...</td>\n",
       "      <td>...</td>\n",
       "      <td>...</td>\n",
       "      <td>...</td>\n",
       "      <td>...</td>\n",
       "      <td>...</td>\n",
       "    </tr>\n",
       "    <tr>\n",
       "      <th>6012</th>\n",
       "      <td>Tarta de queso con lunares de chocolate</td>\n",
       "      <td>['mantequilla', 'galletas de chocolate', 'ques...</td>\n",
       "      <td>90 min</td>\n",
       "      <td>NaN</td>\n",
       "      <td>[]</td>\n",
       "      <td>https://www.lecturas.com/recetas/tarta-queso-l...</td>\n",
       "      <td>https://content-recetas.lecturas.com/medio/201...</td>\n",
       "      <td>postres y dulces</td>\n",
       "    </tr>\n",
       "    <tr>\n",
       "      <th>6039</th>\n",
       "      <td>Tarta de queso con lunares de chocolate</td>\n",
       "      <td>['mantequilla', 'galletas de chocolate', 'ques...</td>\n",
       "      <td>90 min</td>\n",
       "      <td>NaN</td>\n",
       "      <td>[]</td>\n",
       "      <td>https://www.lecturas.com/recetas/tarta-queso-l...</td>\n",
       "      <td>https://content-recetas.lecturas.com/medio/201...</td>\n",
       "      <td>postres y dulces</td>\n",
       "    </tr>\n",
       "    <tr>\n",
       "      <th>6066</th>\n",
       "      <td>Tarta de queso con lunares de chocolate</td>\n",
       "      <td>['mantequilla', 'galletas de chocolate', 'ques...</td>\n",
       "      <td>90 min</td>\n",
       "      <td>NaN</td>\n",
       "      <td>[]</td>\n",
       "      <td>https://www.lecturas.com/recetas/tarta-queso-l...</td>\n",
       "      <td>https://content-recetas.lecturas.com/medio/201...</td>\n",
       "      <td>postres y dulces</td>\n",
       "    </tr>\n",
       "    <tr>\n",
       "      <th>6093</th>\n",
       "      <td>Tarta de queso con lunares de chocolate</td>\n",
       "      <td>['mantequilla', 'galletas de chocolate', 'ques...</td>\n",
       "      <td>90 min</td>\n",
       "      <td>NaN</td>\n",
       "      <td>[]</td>\n",
       "      <td>https://www.lecturas.com/recetas/tarta-queso-l...</td>\n",
       "      <td>https://content-recetas.lecturas.com/medio/201...</td>\n",
       "      <td>postres y dulces</td>\n",
       "    </tr>\n",
       "    <tr>\n",
       "      <th>6099</th>\n",
       "      <td>Tarta de queso con lunares de chocolate</td>\n",
       "      <td>['mantequilla', 'galletas de chocolate', 'ques...</td>\n",
       "      <td>90 min</td>\n",
       "      <td>NaN</td>\n",
       "      <td>[]</td>\n",
       "      <td>https://www.lecturas.com/recetas/tarta-queso-l...</td>\n",
       "      <td>https://content-recetas.lecturas.com/medio/201...</td>\n",
       "      <td>postres y dulces</td>\n",
       "    </tr>\n",
       "  </tbody>\n",
       "</table>\n",
       "<p>86 rows × 8 columns</p>\n",
       "</div>"
      ],
      "text/plain": [
       "                                  recipe_name  \\\n",
       "3545  Tarta de queso con lunares de chocolate   \n",
       "3572  Tarta de queso con lunares de chocolate   \n",
       "3599  Tarta de queso con lunares de chocolate   \n",
       "3626  Tarta de queso con lunares de chocolate   \n",
       "3667  Tarta de queso con lunares de chocolate   \n",
       "...                                       ...   \n",
       "6012  Tarta de queso con lunares de chocolate   \n",
       "6039  Tarta de queso con lunares de chocolate   \n",
       "6066  Tarta de queso con lunares de chocolate   \n",
       "6093  Tarta de queso con lunares de chocolate   \n",
       "6099  Tarta de queso con lunares de chocolate   \n",
       "\n",
       "                                            ingredients time_preparation  \\\n",
       "3545  ['mantequilla', 'galletas de chocolate', 'ques...           90 min   \n",
       "3572  ['mantequilla', 'galletas de chocolate', 'ques...           90 min   \n",
       "3599  ['mantequilla', 'galletas de chocolate', 'ques...           90 min   \n",
       "3626  ['mantequilla', 'galletas de chocolate', 'ques...           90 min   \n",
       "3667  ['mantequilla', 'galletas de chocolate', 'ques...           90 min   \n",
       "...                                                 ...              ...   \n",
       "6012  ['mantequilla', 'galletas de chocolate', 'ques...           90 min   \n",
       "6039  ['mantequilla', 'galletas de chocolate', 'ques...           90 min   \n",
       "6066  ['mantequilla', 'galletas de chocolate', 'ques...           90 min   \n",
       "6093  ['mantequilla', 'galletas de chocolate', 'ques...           90 min   \n",
       "6099  ['mantequilla', 'galletas de chocolate', 'ques...           90 min   \n",
       "\n",
       "     calories intolerances                                         recipe_url  \\\n",
       "3545      NaN           []  https://www.lecturas.com/recetas/tarta-queso-l...   \n",
       "3572      NaN           []  https://www.lecturas.com/recetas/tarta-queso-l...   \n",
       "3599      NaN           []  https://www.lecturas.com/recetas/tarta-queso-l...   \n",
       "3626      NaN           []  https://www.lecturas.com/recetas/tarta-queso-l...   \n",
       "3667      NaN           []  https://www.lecturas.com/recetas/tarta-queso-l...   \n",
       "...       ...          ...                                                ...   \n",
       "6012      NaN           []  https://www.lecturas.com/recetas/tarta-queso-l...   \n",
       "6039      NaN           []  https://www.lecturas.com/recetas/tarta-queso-l...   \n",
       "6066      NaN           []  https://www.lecturas.com/recetas/tarta-queso-l...   \n",
       "6093      NaN           []  https://www.lecturas.com/recetas/tarta-queso-l...   \n",
       "6099      NaN           []  https://www.lecturas.com/recetas/tarta-queso-l...   \n",
       "\n",
       "                                       recipe_image_url          category  \n",
       "3545  https://content-recetas.lecturas.com/medio/201...  postres y dulces  \n",
       "3572  https://content-recetas.lecturas.com/medio/201...  postres y dulces  \n",
       "3599  https://content-recetas.lecturas.com/medio/201...  postres y dulces  \n",
       "3626  https://content-recetas.lecturas.com/medio/201...  postres y dulces  \n",
       "3667  https://content-recetas.lecturas.com/medio/201...  postres y dulces  \n",
       "...                                                 ...               ...  \n",
       "6012  https://content-recetas.lecturas.com/medio/201...  postres y dulces  \n",
       "6039  https://content-recetas.lecturas.com/medio/201...  postres y dulces  \n",
       "6066  https://content-recetas.lecturas.com/medio/201...  postres y dulces  \n",
       "6093  https://content-recetas.lecturas.com/medio/201...  postres y dulces  \n",
       "6099  https://content-recetas.lecturas.com/medio/201...  postres y dulces  \n",
       "\n",
       "[86 rows x 8 columns]"
      ]
     },
     "execution_count": 25,
     "metadata": {},
     "output_type": "execute_result"
    }
   ],
   "source": [
    "url_filter = recipe_df[\"recipe_url\"] == \"https://www.lecturas.com/recetas/tarta-queso-lunares-chocolate_134.html\"\n",
    "\n",
    "recipe_df[url_filter]"
   ]
  },
  {
   "cell_type": "code",
   "execution_count": 26,
   "metadata": {},
   "outputs": [],
   "source": [
    "recipe_df.drop_duplicates(subset =[\"recipe_url\", \"category\"], \n",
    "                     keep = \"first\", inplace = True)"
   ]
  },
  {
   "cell_type": "code",
   "execution_count": 27,
   "metadata": {},
   "outputs": [
    {
     "data": {
      "text/plain": [
       "https://www.lecturas.com/recetas/mousse-frambuesas_2400.html                                         1\n",
       "https://www.lecturas.com/recetas/bizcocho-castanas-almibar_2091.html                                 1\n",
       "https://www.lecturas.com/recetas/minimagdalenas-semillas-amapola_949.html                            1\n",
       "https://www.lecturas.com/recetas/muffins-chocolate-y-vainilla_3952.html                              1\n",
       "https://www.lecturas.com/recetas/bizcocho-glaseado-limon-y-flores-frambuesa-y-chocolate_4794.html    1\n",
       "                                                                                                    ..\n",
       "https://www.lecturas.com/recetas/tartaletas-cacao-chocolate-y-cerezas_1342.html                      1\n",
       "https://www.lecturas.com/recetas/atun-salsa-mostaza_3280.html                                        1\n",
       "https://www.lecturas.com/recetas/mousse-straciatella_3816.html                                       1\n",
       "https://www.lecturas.com/recetas/lomos-lenguado-pimenton-salteado-verduras-verdes_8010.html          1\n",
       "https://www.lecturas.com/recetas/tortitas-avena-requeson-y-tomate_1223.html                          1\n",
       "Name: recipe_url, Length: 5528, dtype: int64"
      ]
     },
     "execution_count": 27,
     "metadata": {},
     "output_type": "execute_result"
    }
   ],
   "source": [
    "recipe_df[\"recipe_url\"].value_counts()"
   ]
  },
  {
   "cell_type": "code",
   "execution_count": 30,
   "metadata": {},
   "outputs": [
    {
     "data": {
      "text/plain": [
       "array(['ensaladas', 'sopas y cremas', 'verduras', 'legumbres',\n",
       "       'arroces y cereales', 'pastas', 'huevos y tortillas',\n",
       "       'potajes y cocidos', 'carnes', 'aves', 'pescados y mariscos',\n",
       "       'quiche, creps y pasteles salados', 'postres y dulces',\n",
       "       'pizzas y empanadas', 'bocadillos y canapes'], dtype=object)"
      ]
     },
     "execution_count": 30,
     "metadata": {},
     "output_type": "execute_result"
    }
   ],
   "source": [
    "category_list = recipe_df[\"category\"].unique()\n",
    "\n",
    "category_list"
   ]
  },
  {
   "cell_type": "code",
   "execution_count": null,
   "metadata": {},
   "outputs": [],
   "source": [
    "def add_subcategory(category_column):\n",
    "    main_recipes = ['Ensaladas','Sopas y cremas','Verduras','Legumbres','Arroces y cereales',\n",
    "    'Pastas','Huevos y tortillas','Potajes y cocidos','Carnes','Aves','Pescados y mariscos',\n",
    "    'Quiche, creps y pasteles salados',]\n",
    "    \n",
    "    desserts_sweets_recipes = ['Postres y dulces']\n",
    "    \n",
    "    if category_column != 'Postres y dulces' or 'Mermeladas y confituras':\n",
    "        return \"principal\"\n",
    "    else:\n",
    "        return \"postre\""
   ]
  },
  {
   "cell_type": "code",
   "execution_count": null,
   "metadata": {},
   "outputs": [],
   "source": [
    "recipe_df[\"subcategory\"] = recipe_df.apply(lambda x: add_subcategory(x[\"category\"]), axis=1)"
   ]
  },
  {
   "cell_type": "code",
   "execution_count": null,
   "metadata": {},
   "outputs": [],
   "source": [
    "recipe_df"
   ]
  },
  {
   "cell_type": "code",
   "execution_count": null,
   "metadata": {},
   "outputs": [],
   "source": [
    "# Change data type of numeric columns from object to number"
   ]
  },
  {
   "cell_type": "code",
   "execution_count": null,
   "metadata": {},
   "outputs": [],
   "source": [
    "recipe_df[\"time_preparation\"].unique()"
   ]
  },
  {
   "cell_type": "code",
   "execution_count": null,
   "metadata": {},
   "outputs": [],
   "source": [
    "recipe_df['time_preparation'].fillna('missing', inplace=True)\n",
    "recipe_df['calories'].fillna('missing', inplace=True)"
   ]
  },
  {
   "cell_type": "code",
   "execution_count": null,
   "metadata": {},
   "outputs": [],
   "source": [
    "pd.options.display.max_colwidth = 1000"
   ]
  },
  {
   "cell_type": "code",
   "execution_count": null,
   "metadata": {},
   "outputs": [],
   "source": [
    "recipe_df[recipe_df['time_preparation'].str.contains(\"Cal\")]"
   ]
  },
  {
   "cell_type": "code",
   "execution_count": null,
   "metadata": {},
   "outputs": [],
   "source": [
    "def change_time_cal(time, cal):\n",
    "    if re.search(\"Cal\", time) is not None:\n",
    "        return time\n",
    "    else:\n",
    "        return cal"
   ]
  },
  {
   "cell_type": "code",
   "execution_count": null,
   "metadata": {},
   "outputs": [],
   "source": [
    "recipe_df[\"calories\"] = recipe_df.apply(lambda x: change_time_cal(x[\"time_preparation\"], x[\"calories\"]), axis=1)"
   ]
  },
  {
   "cell_type": "code",
   "execution_count": null,
   "metadata": {},
   "outputs": [],
   "source": [
    "recipe_df[recipe_df['time_preparation'].str.contains(\"Cal\")]"
   ]
  },
  {
   "cell_type": "code",
   "execution_count": null,
   "metadata": {},
   "outputs": [],
   "source": [
    "def remove_cal_time(time,cal):\n",
    "    if re.search(\"Cal\", time) is not None:\n",
    "        return \"missing\"\n",
    "    else:\n",
    "        return time"
   ]
  },
  {
   "cell_type": "code",
   "execution_count": null,
   "metadata": {},
   "outputs": [],
   "source": [
    "recipe_df[\"time_preparation\"] = recipe_df.apply(lambda x: remove_cal_time(x[\"time_preparation\"], x[\"calories\"]), axis=1)"
   ]
  },
  {
   "cell_type": "code",
   "execution_count": null,
   "metadata": {},
   "outputs": [],
   "source": [
    "recipe_df[recipe_df['time_preparation'].str.contains(\"Cal\")]"
   ]
  },
  {
   "cell_type": "code",
   "execution_count": null,
   "metadata": {},
   "outputs": [],
   "source": [
    "recipe_df[\"time_preparation\"].unique()"
   ]
  },
  {
   "cell_type": "code",
   "execution_count": null,
   "metadata": {},
   "outputs": [],
   "source": [
    "def object_tonumber(column):\n",
    "    if column == \"missing\":\n",
    "        return None\n",
    "    else:\n",
    "        object_split = column.split(\" \")\n",
    "        result = int(object_split[0])\n",
    "        return result"
   ]
  },
  {
   "cell_type": "code",
   "execution_count": null,
   "metadata": {},
   "outputs": [],
   "source": [
    "recipe_df[\"time_preparation(min)\"] = recipe_df.apply(lambda x: object_tonumber(x[\"time_preparation\"]), axis=1)\n",
    "recipe_df[\"calories(kcal)\"] = recipe_df.apply(lambda x: object_tonumber(x[\"calories\"]), axis=1)"
   ]
  },
  {
   "cell_type": "code",
   "execution_count": null,
   "metadata": {},
   "outputs": [],
   "source": [
    "recipe_df.head()"
   ]
  },
  {
   "cell_type": "code",
   "execution_count": null,
   "metadata": {},
   "outputs": [],
   "source": [
    "# Change Intolerances column"
   ]
  },
  {
   "cell_type": "code",
   "execution_count": null,
   "metadata": {},
   "outputs": [],
   "source": [
    "# 1. I'm going to change the empty lists to None values"
   ]
  },
  {
   "cell_type": "code",
   "execution_count": null,
   "metadata": {},
   "outputs": [],
   "source": [
    "def empty_lists(column):\n",
    "    if len(column) == 0:\n",
    "        column.append(\"no notes\")\n",
    "        return column\n",
    "    else:\n",
    "        return column"
   ]
  },
  {
   "cell_type": "code",
   "execution_count": null,
   "metadata": {},
   "outputs": [],
   "source": [
    "recipe_df[\"intolerances\"] = recipe_df.apply(lambda x: empty_lists(x[\"intolerances\"]), axis=1)"
   ]
  },
  {
   "cell_type": "code",
   "execution_count": null,
   "metadata": {},
   "outputs": [],
   "source": [
    "# 2. I'm going to check all the possible values in intolerances"
   ]
  },
  {
   "cell_type": "code",
   "execution_count": null,
   "metadata": {},
   "outputs": [],
   "source": [
    "def check_intolerances_values(column, df):\n",
    "    intolerances_list = []\n",
    "    for x in df[column]:\n",
    "        intolerances_list.append(x)\n",
    "    all_intolerances = [val for sublist in intolerances_list for val in sublist]\n",
    "    return list(set(all_intolerances))"
   ]
  },
  {
   "cell_type": "code",
   "execution_count": null,
   "metadata": {},
   "outputs": [],
   "source": [
    "unique_intolerances = check_intolerances_values(\"intolerances\", recipe_df)\n",
    "\n",
    "unique_intolerances"
   ]
  },
  {
   "cell_type": "code",
   "execution_count": null,
   "metadata": {},
   "outputs": [],
   "source": [
    "intolerances_cols = [\"gluten_free\", \"egg_free\", \"sucrose_fructose_free\", \"low_sodium\", \"lactose_free\"]"
   ]
  },
  {
   "cell_type": "code",
   "execution_count": null,
   "metadata": {},
   "outputs": [],
   "source": [
    "def gluten_free(intolerances):\n",
    "    if 'Sin gluten' in intolerances:\n",
    "        return 1\n",
    "    else:\n",
    "        return 0"
   ]
  },
  {
   "cell_type": "code",
   "execution_count": null,
   "metadata": {},
   "outputs": [],
   "source": [
    "recipe_df[\"gluten_free\"] = recipe_df.apply(lambda x: gluten_free(x[\"intolerances\"]), axis=1)"
   ]
  },
  {
   "cell_type": "code",
   "execution_count": null,
   "metadata": {},
   "outputs": [],
   "source": [
    "def egg_free(intolerances):\n",
    "    if 'Sin huevo' in intolerances:\n",
    "        return 1\n",
    "    else:\n",
    "        return 0"
   ]
  },
  {
   "cell_type": "code",
   "execution_count": null,
   "metadata": {},
   "outputs": [],
   "source": [
    "recipe_df[\"egg_free\"] = recipe_df.apply(lambda x: egg_free(x[\"intolerances\"]), axis=1)"
   ]
  },
  {
   "cell_type": "code",
   "execution_count": null,
   "metadata": {},
   "outputs": [],
   "source": [
    "def sucrose_fructose_free(intolerances):\n",
    "    if 'Sin sacarosa o fructosa' in intolerances:\n",
    "        return 1\n",
    "    else:\n",
    "        return 0"
   ]
  },
  {
   "cell_type": "code",
   "execution_count": null,
   "metadata": {},
   "outputs": [],
   "source": [
    "recipe_df[\"sucrose_fructose_free\"] = recipe_df.apply(lambda x: sucrose_fructose_free(x[\"intolerances\"]), axis=1)"
   ]
  },
  {
   "cell_type": "code",
   "execution_count": null,
   "metadata": {},
   "outputs": [],
   "source": [
    "def low_sodium(intolerances):\n",
    "    if 'Baja en sodio' in intolerances:\n",
    "        return 1\n",
    "    else:\n",
    "        return 0"
   ]
  },
  {
   "cell_type": "code",
   "execution_count": null,
   "metadata": {},
   "outputs": [],
   "source": [
    "recipe_df[\"low_sodium\"] = recipe_df.apply(lambda x: low_sodium(x[\"intolerances\"]), axis=1)"
   ]
  },
  {
   "cell_type": "code",
   "execution_count": null,
   "metadata": {},
   "outputs": [],
   "source": [
    "def lactose_free(intolerances):\n",
    "    if 'Sin lactosa' in intolerances:\n",
    "        return 1\n",
    "    else:\n",
    "        return 0"
   ]
  },
  {
   "cell_type": "code",
   "execution_count": null,
   "metadata": {},
   "outputs": [],
   "source": [
    "recipe_df[\"lactose_free\"] = recipe_df.apply(lambda x: lactose_free(x[\"intolerances\"]), axis=1)"
   ]
  },
  {
   "cell_type": "code",
   "execution_count": null,
   "metadata": {},
   "outputs": [],
   "source": [
    "def clean_ingredients(ingred_column):\n",
    "    ingredients_list = []\n",
    "    for ing in ingred_column:\n",
    "        clean_ingred = re.sub(\" para.*$\", \"\", ing)\n",
    "        ingredients_list.append(clean_ingred)\n",
    "    return ingredients_list\n",
    "\n",
    "recipe_df[\"ingredients_list\"] = recipe_df.apply(lambda x: clean_ingredients(x[\"ingredients\"]), axis=1)"
   ]
  },
  {
   "cell_type": "code",
   "execution_count": null,
   "metadata": {},
   "outputs": [],
   "source": [
    "#Split the ingredient list inside cells into rows in Pandas"
   ]
  },
  {
   "cell_type": "code",
   "execution_count": null,
   "metadata": {},
   "outputs": [],
   "source": [
    "recipe_df.columns"
   ]
  },
  {
   "cell_type": "code",
   "execution_count": null,
   "metadata": {},
   "outputs": [],
   "source": [
    "ingredients_df = recipe_df.ingredients_list.apply(pd.Series) \\\n",
    "    .merge(recipe_df, right_index = True, left_index = True) \\\n",
    "    .melt(id_vars = ['recipe_name','ingredients', 'ingredients_list', \n",
    "                     'time_preparation', 'calories','intolerances', \n",
    "                     'recipe_url', 'recipe_image_url','category',\n",
    "                     'subcategory', 'time_preparation(min)', 'calories(kcal)', \n",
    "                     'gluten_free', 'egg_free', 'sucrose_fructose_free', \n",
    "                     'low_sodium', 'lactose_free'], value_name = \"ingredient\")"
   ]
  },
  {
   "cell_type": "code",
   "execution_count": null,
   "metadata": {},
   "outputs": [],
   "source": [
    "ingredients_df"
   ]
  },
  {
   "cell_type": "code",
   "execution_count": null,
   "metadata": {},
   "outputs": [],
   "source": [
    "recipe_df_ingredients = ingredients_df[ingredients_df['ingredient'].notna()]"
   ]
  },
  {
   "cell_type": "code",
   "execution_count": null,
   "metadata": {},
   "outputs": [],
   "source": [
    "recipe_df_clean = recipe_df_ingredients[['recipe_name', 'time_preparation(min)', 'calories(kcal)',\n",
    "        \"ingredients_list\", 'ingredient', 'gluten_free', 'egg_free','sucrose_fructose_free', \n",
    "        'low_sodium', 'lactose_free','recipe_url','recipe_image_url']]"
   ]
  },
  {
   "cell_type": "code",
   "execution_count": null,
   "metadata": {},
   "outputs": [],
   "source": [
    "recipe_df_clean.reset_index(drop=True, inplace = True)"
   ]
  },
  {
   "cell_type": "code",
   "execution_count": null,
   "metadata": {},
   "outputs": [],
   "source": [
    "recipe_df_clean"
   ]
  },
  {
   "cell_type": "code",
   "execution_count": null,
   "metadata": {},
   "outputs": [],
   "source": [
    "all_ingredients_list= recipe_df_clean.ingredient.unique()\n",
    "\n",
    "len(all_ingredients_list)"
   ]
  },
  {
   "cell_type": "code",
   "execution_count": null,
   "metadata": {},
   "outputs": [],
   "source": [
    "recipe_df_clean[\"ingredient\"].value_counts()"
   ]
  },
  {
   "cell_type": "code",
   "execution_count": null,
   "metadata": {},
   "outputs": [],
   "source": [
    "recipe_df = recipe_df[['recipe_name', 'time_preparation(min)', 'calories(kcal)',\n",
    "        \"ingredients_list\", 'gluten_free', 'egg_free','sucrose_fructose_free', \n",
    "        'low_sodium', 'lactose_free','recipe_url','recipe_image_url']]"
   ]
  },
  {
   "cell_type": "code",
   "execution_count": null,
   "metadata": {},
   "outputs": [],
   "source": [
    "recipe_df.to_csv (f'../data/processed/recipe_dataset.csv', index=False)"
   ]
  }
 ],
 "metadata": {
  "kernelspec": {
   "display_name": "Python [conda env:recipe_env]",
   "language": "python",
   "name": "conda-env-recipe_env-py"
  },
  "language_info": {
   "codemirror_mode": {
    "name": "ipython",
    "version": 3
   },
   "file_extension": ".py",
   "mimetype": "text/x-python",
   "name": "python",
   "nbconvert_exporter": "python",
   "pygments_lexer": "ipython3",
   "version": "3.7.7"
  }
 },
 "nbformat": 4,
 "nbformat_minor": 4
}
