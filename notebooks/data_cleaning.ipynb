{
 "cells": [
  {
   "cell_type": "code",
   "execution_count": 1,
   "metadata": {},
   "outputs": [],
   "source": [
    "import pandas as pd\n",
    "import re\n",
    "import ast"
   ]
  },
  {
   "cell_type": "code",
   "execution_count": 2,
   "metadata": {},
   "outputs": [],
   "source": [
    "recipe_df = pd.read_json('../data/raw/web_scraping_recipes_new.json')"
   ]
  },
  {
   "cell_type": "code",
   "execution_count": 3,
   "metadata": {},
   "outputs": [
    {
     "data": {
      "text/html": [
       "<div>\n",
       "<style scoped>\n",
       "    .dataframe tbody tr th:only-of-type {\n",
       "        vertical-align: middle;\n",
       "    }\n",
       "\n",
       "    .dataframe tbody tr th {\n",
       "        vertical-align: top;\n",
       "    }\n",
       "\n",
       "    .dataframe thead th {\n",
       "        text-align: right;\n",
       "    }\n",
       "</style>\n",
       "<table border=\"1\" class=\"dataframe\">\n",
       "  <thead>\n",
       "    <tr style=\"text-align: right;\">\n",
       "      <th></th>\n",
       "      <th>recipe_name</th>\n",
       "      <th>ingredients</th>\n",
       "      <th>ingred_quantity</th>\n",
       "      <th>time_preparation</th>\n",
       "      <th>calories</th>\n",
       "      <th>intolerances</th>\n",
       "      <th>recipe_url</th>\n",
       "      <th>recipe_image_url</th>\n",
       "      <th>category</th>\n",
       "      <th>more_info</th>\n",
       "      <th>recipe_steps</th>\n",
       "    </tr>\n",
       "  </thead>\n",
       "  <tbody>\n",
       "    <tr>\n",
       "      <th>0</th>\n",
       "      <td>Ensalada niçoise</td>\n",
       "      <td>[patatas pequeñas rojas, huevos, judías verdes...</td>\n",
       "      <td>[12, 4, 400 g, 4, 250 g, 200 g, 1, 1 cda, 100 ...</td>\n",
       "      <td>60 min</td>\n",
       "      <td>252 Cal</td>\n",
       "      <td>[]</td>\n",
       "      <td>https://www.lecturas.com/recetas/ensalada-nico...</td>\n",
       "      <td>https://content-recetas.lecturas.com/medio/201...</td>\n",
       "      <td>ENSALADAS</td>\n",
       "      <td>[Dieta:, Baja en calorías, Mediterránea, Tempo...</td>\n",
       "      <td>[]</td>\n",
       "    </tr>\n",
       "    <tr>\n",
       "      <th>1</th>\n",
       "      <td>Ensalada del périgord</td>\n",
       "      <td>[foie micuit, beicon gruesas, champiñones, ber...</td>\n",
       "      <td>[150 g, 2 lonchas, 150 g, 80 g, 100 g, 6, 20 g...</td>\n",
       "      <td>25 min</td>\n",
       "      <td>386 Cal</td>\n",
       "      <td>[]</td>\n",
       "      <td>https://www.lecturas.com/recetas/ensalada-peri...</td>\n",
       "      <td>https://content-recetas.lecturas.com/medio/201...</td>\n",
       "      <td>ENSALADAS</td>\n",
       "      <td>[Dieta:, Mediterránea, Temporada:, Todo el año...</td>\n",
       "      <td>[]</td>\n",
       "    </tr>\n",
       "    <tr>\n",
       "      <th>2</th>\n",
       "      <td>Xató con salsa romesco</td>\n",
       "      <td>[bacalao desalado, cebolleta, escarolas, aceit...</td>\n",
       "      <td>[300 g, 1, 150 g, 80 g, 8, 2, 1, 2, 1 rebanada...</td>\n",
       "      <td>35 min</td>\n",
       "      <td>NaN</td>\n",
       "      <td>[]</td>\n",
       "      <td>https://www.lecturas.com/recetas/xato-salsa-ro...</td>\n",
       "      <td>https://content-recetas.lecturas.com/medio/202...</td>\n",
       "      <td>ENSALADAS</td>\n",
       "      <td>[Dieta:, Mediterránea, Temporada:, Todo el año...</td>\n",
       "      <td>[]</td>\n",
       "    </tr>\n",
       "    <tr>\n",
       "      <th>3</th>\n",
       "      <td>Ensalada de ceviche de langostinos y cebolla</td>\n",
       "      <td>[langostinos, pimienta, limas, tomates, ceboll...</td>\n",
       "      <td>[16, , 8, 3, 1, ½, 1 cdta, 1, 1 manojo, , 100 ...</td>\n",
       "      <td>25 min</td>\n",
       "      <td>176 Cal</td>\n",
       "      <td>[]</td>\n",
       "      <td>https://www.lecturas.com/recetas/ensalada-cevi...</td>\n",
       "      <td>https://content-recetas.lecturas.com/medio/201...</td>\n",
       "      <td>ENSALADAS</td>\n",
       "      <td>[Dieta:, Mediterránea, Temporada:, Todo el año...</td>\n",
       "      <td>[]</td>\n",
       "    </tr>\n",
       "    <tr>\n",
       "      <th>4</th>\n",
       "      <td>Ensalada de pollo, remolacha y manzana</td>\n",
       "      <td>[pechugas de pollo, manzanas ácida, col lombar...</td>\n",
       "      <td>[650 g, 2, 1 trozo, 2, 1, 1, 80 g, 100 g, 1 cd...</td>\n",
       "      <td>40 min</td>\n",
       "      <td>203 Cal</td>\n",
       "      <td>[]</td>\n",
       "      <td>https://www.lecturas.com/recetas/ensalada-poll...</td>\n",
       "      <td>https://content-recetas.lecturas.com/medio/201...</td>\n",
       "      <td>ENSALADAS</td>\n",
       "      <td>[Dieta:, Mediterránea, Técnica:, Técnica mixta...</td>\n",
       "      <td>[]</td>\n",
       "    </tr>\n",
       "  </tbody>\n",
       "</table>\n",
       "</div>"
      ],
      "text/plain": [
       "                                    recipe_name  \\\n",
       "0                              Ensalada niçoise   \n",
       "1                         Ensalada del périgord   \n",
       "2                        Xató con salsa romesco   \n",
       "3  Ensalada de ceviche de langostinos y cebolla   \n",
       "4        Ensalada de pollo, remolacha y manzana   \n",
       "\n",
       "                                         ingredients  \\\n",
       "0  [patatas pequeñas rojas, huevos, judías verdes...   \n",
       "1  [foie micuit, beicon gruesas, champiñones, ber...   \n",
       "2  [bacalao desalado, cebolleta, escarolas, aceit...   \n",
       "3  [langostinos, pimienta, limas, tomates, ceboll...   \n",
       "4  [pechugas de pollo, manzanas ácida, col lombar...   \n",
       "\n",
       "                                     ingred_quantity time_preparation  \\\n",
       "0  [12, 4, 400 g, 4, 250 g, 200 g, 1, 1 cda, 100 ...           60 min   \n",
       "1  [150 g, 2 lonchas, 150 g, 80 g, 100 g, 6, 20 g...           25 min   \n",
       "2  [300 g, 1, 150 g, 80 g, 8, 2, 1, 2, 1 rebanada...           35 min   \n",
       "3  [16, , 8, 3, 1, ½, 1 cdta, 1, 1 manojo, , 100 ...           25 min   \n",
       "4  [650 g, 2, 1 trozo, 2, 1, 1, 80 g, 100 g, 1 cd...           40 min   \n",
       "\n",
       "  calories intolerances                                         recipe_url  \\\n",
       "0  252 Cal           []  https://www.lecturas.com/recetas/ensalada-nico...   \n",
       "1  386 Cal           []  https://www.lecturas.com/recetas/ensalada-peri...   \n",
       "2      NaN           []  https://www.lecturas.com/recetas/xato-salsa-ro...   \n",
       "3  176 Cal           []  https://www.lecturas.com/recetas/ensalada-cevi...   \n",
       "4  203 Cal           []  https://www.lecturas.com/recetas/ensalada-poll...   \n",
       "\n",
       "                                    recipe_image_url   category  \\\n",
       "0  https://content-recetas.lecturas.com/medio/201...  ENSALADAS   \n",
       "1  https://content-recetas.lecturas.com/medio/201...  ENSALADAS   \n",
       "2  https://content-recetas.lecturas.com/medio/202...  ENSALADAS   \n",
       "3  https://content-recetas.lecturas.com/medio/201...  ENSALADAS   \n",
       "4  https://content-recetas.lecturas.com/medio/201...  ENSALADAS   \n",
       "\n",
       "                                           more_info recipe_steps  \n",
       "0  [Dieta:, Baja en calorías, Mediterránea, Tempo...           []  \n",
       "1  [Dieta:, Mediterránea, Temporada:, Todo el año...           []  \n",
       "2  [Dieta:, Mediterránea, Temporada:, Todo el año...           []  \n",
       "3  [Dieta:, Mediterránea, Temporada:, Todo el año...           []  \n",
       "4  [Dieta:, Mediterránea, Técnica:, Técnica mixta...           []  "
      ]
     },
     "execution_count": 3,
     "metadata": {},
     "output_type": "execute_result"
    }
   ],
   "source": [
    "recipe_df.head()"
   ]
  },
  {
   "cell_type": "code",
   "execution_count": 4,
   "metadata": {},
   "outputs": [],
   "source": [
    "#Lowercase"
   ]
  },
  {
   "cell_type": "code",
   "execution_count": 5,
   "metadata": {},
   "outputs": [],
   "source": [
    "recipe_df[\"category\"] = recipe_df[\"category\"].str.lower()"
   ]
  },
  {
   "cell_type": "code",
   "execution_count": 6,
   "metadata": {},
   "outputs": [],
   "source": [
    "def lowercase_ing(column):\n",
    "    ingredients_list = []\n",
    "    for ing in column:\n",
    "        result = ing.lower()\n",
    "        ingredients_list.append(result)\n",
    "    return ingredients_list"
   ]
  },
  {
   "cell_type": "code",
   "execution_count": 7,
   "metadata": {},
   "outputs": [],
   "source": [
    "recipe_df[\"ingredients\"] = recipe_df.apply(lambda x: lowercase_ing(x[\"ingredients\"]), axis=1)"
   ]
  },
  {
   "cell_type": "code",
   "execution_count": 8,
   "metadata": {},
   "outputs": [],
   "source": [
    "#remove accents - not needed"
   ]
  },
  {
   "cell_type": "raw",
   "metadata": {},
   "source": [
    "def normalize(string_column):\n",
    "    a,b = 'áéíóú','aeiou'\n",
    "    trans = str.maketrans(a,b)\n",
    "    return string_column.translate(trans)"
   ]
  },
  {
   "cell_type": "raw",
   "metadata": {},
   "source": [
    "normalize('brócoli')"
   ]
  },
  {
   "cell_type": "raw",
   "metadata": {},
   "source": [
    "recipe_df[\"ingredients_clean\"] = recipe_df.apply(lambda x: normalize(x[\"ingredients\"]), axis=1)"
   ]
  },
  {
   "cell_type": "code",
   "execution_count": 9,
   "metadata": {},
   "outputs": [
    {
     "data": {
      "text/html": [
       "<div>\n",
       "<style scoped>\n",
       "    .dataframe tbody tr th:only-of-type {\n",
       "        vertical-align: middle;\n",
       "    }\n",
       "\n",
       "    .dataframe tbody tr th {\n",
       "        vertical-align: top;\n",
       "    }\n",
       "\n",
       "    .dataframe thead th {\n",
       "        text-align: right;\n",
       "    }\n",
       "</style>\n",
       "<table border=\"1\" class=\"dataframe\">\n",
       "  <thead>\n",
       "    <tr style=\"text-align: right;\">\n",
       "      <th></th>\n",
       "      <th>recipe_name</th>\n",
       "      <th>ingredients</th>\n",
       "      <th>ingred_quantity</th>\n",
       "      <th>time_preparation</th>\n",
       "      <th>calories</th>\n",
       "      <th>intolerances</th>\n",
       "      <th>recipe_url</th>\n",
       "      <th>recipe_image_url</th>\n",
       "      <th>category</th>\n",
       "      <th>more_info</th>\n",
       "      <th>recipe_steps</th>\n",
       "    </tr>\n",
       "  </thead>\n",
       "  <tbody>\n",
       "    <tr>\n",
       "      <th>0</th>\n",
       "      <td>Ensalada niçoise</td>\n",
       "      <td>[patatas pequeñas rojas, huevos, judías verdes...</td>\n",
       "      <td>[12, 4, 400 g, 4, 250 g, 200 g, 1, 1 cda, 100 ...</td>\n",
       "      <td>60 min</td>\n",
       "      <td>252 Cal</td>\n",
       "      <td>[]</td>\n",
       "      <td>https://www.lecturas.com/recetas/ensalada-nico...</td>\n",
       "      <td>https://content-recetas.lecturas.com/medio/201...</td>\n",
       "      <td>ensaladas</td>\n",
       "      <td>[Dieta:, Baja en calorías, Mediterránea, Tempo...</td>\n",
       "      <td>[]</td>\n",
       "    </tr>\n",
       "    <tr>\n",
       "      <th>1</th>\n",
       "      <td>Ensalada del périgord</td>\n",
       "      <td>[foie micuit, beicon gruesas, champiñones, ber...</td>\n",
       "      <td>[150 g, 2 lonchas, 150 g, 80 g, 100 g, 6, 20 g...</td>\n",
       "      <td>25 min</td>\n",
       "      <td>386 Cal</td>\n",
       "      <td>[]</td>\n",
       "      <td>https://www.lecturas.com/recetas/ensalada-peri...</td>\n",
       "      <td>https://content-recetas.lecturas.com/medio/201...</td>\n",
       "      <td>ensaladas</td>\n",
       "      <td>[Dieta:, Mediterránea, Temporada:, Todo el año...</td>\n",
       "      <td>[]</td>\n",
       "    </tr>\n",
       "    <tr>\n",
       "      <th>2</th>\n",
       "      <td>Xató con salsa romesco</td>\n",
       "      <td>[bacalao desalado, cebolleta, escarolas, aceit...</td>\n",
       "      <td>[300 g, 1, 150 g, 80 g, 8, 2, 1, 2, 1 rebanada...</td>\n",
       "      <td>35 min</td>\n",
       "      <td>NaN</td>\n",
       "      <td>[]</td>\n",
       "      <td>https://www.lecturas.com/recetas/xato-salsa-ro...</td>\n",
       "      <td>https://content-recetas.lecturas.com/medio/202...</td>\n",
       "      <td>ensaladas</td>\n",
       "      <td>[Dieta:, Mediterránea, Temporada:, Todo el año...</td>\n",
       "      <td>[]</td>\n",
       "    </tr>\n",
       "    <tr>\n",
       "      <th>3</th>\n",
       "      <td>Ensalada de ceviche de langostinos y cebolla</td>\n",
       "      <td>[langostinos, pimienta, limas, tomates, ceboll...</td>\n",
       "      <td>[16, , 8, 3, 1, ½, 1 cdta, 1, 1 manojo, , 100 ...</td>\n",
       "      <td>25 min</td>\n",
       "      <td>176 Cal</td>\n",
       "      <td>[]</td>\n",
       "      <td>https://www.lecturas.com/recetas/ensalada-cevi...</td>\n",
       "      <td>https://content-recetas.lecturas.com/medio/201...</td>\n",
       "      <td>ensaladas</td>\n",
       "      <td>[Dieta:, Mediterránea, Temporada:, Todo el año...</td>\n",
       "      <td>[]</td>\n",
       "    </tr>\n",
       "    <tr>\n",
       "      <th>4</th>\n",
       "      <td>Ensalada de pollo, remolacha y manzana</td>\n",
       "      <td>[pechugas de pollo, manzanas ácida, col lombar...</td>\n",
       "      <td>[650 g, 2, 1 trozo, 2, 1, 1, 80 g, 100 g, 1 cd...</td>\n",
       "      <td>40 min</td>\n",
       "      <td>203 Cal</td>\n",
       "      <td>[]</td>\n",
       "      <td>https://www.lecturas.com/recetas/ensalada-poll...</td>\n",
       "      <td>https://content-recetas.lecturas.com/medio/201...</td>\n",
       "      <td>ensaladas</td>\n",
       "      <td>[Dieta:, Mediterránea, Técnica:, Técnica mixta...</td>\n",
       "      <td>[]</td>\n",
       "    </tr>\n",
       "  </tbody>\n",
       "</table>\n",
       "</div>"
      ],
      "text/plain": [
       "                                    recipe_name  \\\n",
       "0                              Ensalada niçoise   \n",
       "1                         Ensalada del périgord   \n",
       "2                        Xató con salsa romesco   \n",
       "3  Ensalada de ceviche de langostinos y cebolla   \n",
       "4        Ensalada de pollo, remolacha y manzana   \n",
       "\n",
       "                                         ingredients  \\\n",
       "0  [patatas pequeñas rojas, huevos, judías verdes...   \n",
       "1  [foie micuit, beicon gruesas, champiñones, ber...   \n",
       "2  [bacalao desalado, cebolleta, escarolas, aceit...   \n",
       "3  [langostinos, pimienta, limas, tomates, ceboll...   \n",
       "4  [pechugas de pollo, manzanas ácida, col lombar...   \n",
       "\n",
       "                                     ingred_quantity time_preparation  \\\n",
       "0  [12, 4, 400 g, 4, 250 g, 200 g, 1, 1 cda, 100 ...           60 min   \n",
       "1  [150 g, 2 lonchas, 150 g, 80 g, 100 g, 6, 20 g...           25 min   \n",
       "2  [300 g, 1, 150 g, 80 g, 8, 2, 1, 2, 1 rebanada...           35 min   \n",
       "3  [16, , 8, 3, 1, ½, 1 cdta, 1, 1 manojo, , 100 ...           25 min   \n",
       "4  [650 g, 2, 1 trozo, 2, 1, 1, 80 g, 100 g, 1 cd...           40 min   \n",
       "\n",
       "  calories intolerances                                         recipe_url  \\\n",
       "0  252 Cal           []  https://www.lecturas.com/recetas/ensalada-nico...   \n",
       "1  386 Cal           []  https://www.lecturas.com/recetas/ensalada-peri...   \n",
       "2      NaN           []  https://www.lecturas.com/recetas/xato-salsa-ro...   \n",
       "3  176 Cal           []  https://www.lecturas.com/recetas/ensalada-cevi...   \n",
       "4  203 Cal           []  https://www.lecturas.com/recetas/ensalada-poll...   \n",
       "\n",
       "                                    recipe_image_url   category  \\\n",
       "0  https://content-recetas.lecturas.com/medio/201...  ensaladas   \n",
       "1  https://content-recetas.lecturas.com/medio/201...  ensaladas   \n",
       "2  https://content-recetas.lecturas.com/medio/202...  ensaladas   \n",
       "3  https://content-recetas.lecturas.com/medio/201...  ensaladas   \n",
       "4  https://content-recetas.lecturas.com/medio/201...  ensaladas   \n",
       "\n",
       "                                           more_info recipe_steps  \n",
       "0  [Dieta:, Baja en calorías, Mediterránea, Tempo...           []  \n",
       "1  [Dieta:, Mediterránea, Temporada:, Todo el año...           []  \n",
       "2  [Dieta:, Mediterránea, Temporada:, Todo el año...           []  \n",
       "3  [Dieta:, Mediterránea, Temporada:, Todo el año...           []  \n",
       "4  [Dieta:, Mediterránea, Técnica:, Técnica mixta...           []  "
      ]
     },
     "execution_count": 9,
     "metadata": {},
     "output_type": "execute_result"
    }
   ],
   "source": [
    "recipe_df.head()"
   ]
  },
  {
   "cell_type": "code",
   "execution_count": 10,
   "metadata": {},
   "outputs": [],
   "source": [
    "# Remove duplicates recipes"
   ]
  },
  {
   "cell_type": "code",
   "execution_count": 11,
   "metadata": {},
   "outputs": [
    {
     "data": {
      "text/plain": [
       "https://www.lecturas.com/recetas/pastelitos-nata-y-chocolate_137.html          85\n",
       "https://www.lecturas.com/recetas/tarta-queso-lunares-chocolate_134.html        85\n",
       "https://www.lecturas.com/recetas/tarta-chocolate-fondant_183.html              85\n",
       "https://www.lecturas.com/recetas/galletas-rellenas-mermelada_206.html          85\n",
       "https://www.lecturas.com/recetas/caballa-a-plancha-ensalada-patata_231.html    27\n",
       "                                                                               ..\n",
       "https://www.lecturas.com/recetas/pollo-asado-limon_120.html                     1\n",
       "https://www.lecturas.com/recetas/ensalada-flor-aguacate_4236.html               1\n",
       "https://www.lecturas.com/recetas/tartaletas-mermelada-y-fruta_4637.html         1\n",
       "https://www.lecturas.com/recetas/guiso-conejo-pepitoria_3354.html               1\n",
       "https://www.lecturas.com/recetas/pastel-patata-queso-bola_6278.html             1\n",
       "Name: recipe_url, Length: 5444, dtype: int64"
      ]
     },
     "execution_count": 11,
     "metadata": {},
     "output_type": "execute_result"
    }
   ],
   "source": [
    "recipe_df[\"recipe_url\"].value_counts()"
   ]
  },
  {
   "cell_type": "raw",
   "metadata": {},
   "source": [
    "url_filter = recipe_df[\"recipe_url\"] == \"https://www.lecturas.com/recetas/tarta-queso-lunares-chocolate_134.html\"\n",
    "\n",
    "recipe_df[url_filter]"
   ]
  },
  {
   "cell_type": "code",
   "execution_count": 12,
   "metadata": {},
   "outputs": [],
   "source": [
    "recipe_df.drop_duplicates(subset =[\"recipe_url\", \"category\"], \n",
    "                     keep = \"first\", inplace = True)"
   ]
  },
  {
   "cell_type": "code",
   "execution_count": 13,
   "metadata": {},
   "outputs": [
    {
     "data": {
      "text/plain": [
       "https://www.lecturas.com/recetas/calamares-rellenos-quinoa-y-verdura_3824.html    1\n",
       "https://www.lecturas.com/recetas/tarta-chocolate-almendras_3075.html              1\n",
       "https://www.lecturas.com/recetas/sopa-melon-y-menta_1451.html                     1\n",
       "https://www.lecturas.com/recetas/chocos-a-andaluza_1056.html                      1\n",
       "https://www.lecturas.com/recetas/hortalizas-primavera-a-albahaca_23.html          1\n",
       "                                                                                 ..\n",
       "https://www.lecturas.com/recetas/pastel-legumbres_4514.html                       1\n",
       "https://www.lecturas.com/recetas/risotto-setas-y-hierbas-aromaticas_81.html       1\n",
       "https://www.lecturas.com/recetas/muslos-pollo-costra-especias_6390.html           1\n",
       "https://www.lecturas.com/recetas/chips-verduras-horno_7208.html                   1\n",
       "https://www.lecturas.com/recetas/pastel-patata-queso-bola_6278.html               1\n",
       "Name: recipe_url, Length: 5444, dtype: int64"
      ]
     },
     "execution_count": 13,
     "metadata": {},
     "output_type": "execute_result"
    }
   ],
   "source": [
    "recipe_df[\"recipe_url\"].value_counts()"
   ]
  },
  {
   "cell_type": "code",
   "execution_count": 14,
   "metadata": {},
   "outputs": [
    {
     "data": {
      "text/plain": [
       "array(['ensaladas', 'sopas y cremas', 'verduras', 'legumbres',\n",
       "       'arroces y cereales', 'pastas', 'huevos y tortillas',\n",
       "       'potajes y cocidos', 'carnes', 'aves', 'pescados y mariscos',\n",
       "       'quiche, creps y pasteles salados', 'postres y dulces',\n",
       "       'pizzas y empanadas', 'bocadillos y canapés',\n",
       "       'mermeladas y confituras', 'salsas'], dtype=object)"
      ]
     },
     "execution_count": 14,
     "metadata": {},
     "output_type": "execute_result"
    }
   ],
   "source": [
    "category_list = recipe_df[\"category\"].unique()\n",
    "\n",
    "category_list"
   ]
  },
  {
   "cell_type": "code",
   "execution_count": 15,
   "metadata": {},
   "outputs": [],
   "source": [
    "recipe_df = recipe_df[recipe_df.category != 'mermeladas y confituras']\n",
    "\n",
    "recipe_df = recipe_df[recipe_df.category != 'salsas']"
   ]
  },
  {
   "cell_type": "code",
   "execution_count": 16,
   "metadata": {},
   "outputs": [
    {
     "data": {
      "text/plain": [
       "array(['ensaladas', 'sopas y cremas', 'verduras', 'legumbres',\n",
       "       'arroces y cereales', 'pastas', 'huevos y tortillas',\n",
       "       'potajes y cocidos', 'carnes', 'aves', 'pescados y mariscos',\n",
       "       'quiche, creps y pasteles salados', 'postres y dulces',\n",
       "       'pizzas y empanadas', 'bocadillos y canapés'], dtype=object)"
      ]
     },
     "execution_count": 16,
     "metadata": {},
     "output_type": "execute_result"
    }
   ],
   "source": [
    "category_list = recipe_df[\"category\"].unique()\n",
    "\n",
    "category_list"
   ]
  },
  {
   "cell_type": "code",
   "execution_count": 17,
   "metadata": {},
   "outputs": [],
   "source": [
    "#list_1 = [\"Dieta:\", \"Mediterránea\", \"Temporada:\", \"Todo el año\", \"Técnica:\", \"Técnica mixta\", \"Tipo Plato:\", \"Segundos platos y platos principales\", \"Precio:\", \"€\", \"€ €\", \"Dificultad:\"]\n",
    "\n",
    "def clean_more_info(list_x):\n",
    "    if \"Tipo Plato:\" in list_x:\n",
    "        i = list_x.index(\"Tipo Plato:\")\n",
    "        i2 = list_x.index(\"Precio:\")\n",
    "        result = list_x[(i+1):i2]\n",
    "        return result\n",
    "    else:\n",
    "        return None\n",
    "\n",
    "\n",
    "recipe_df[\"tipo_plato\"] = recipe_df.apply(lambda x: clean_more_info(x[\"more_info\"]), axis=1)"
   ]
  },
  {
   "cell_type": "code",
   "execution_count": 18,
   "metadata": {},
   "outputs": [
    {
     "data": {
      "text/html": [
       "<div>\n",
       "<style scoped>\n",
       "    .dataframe tbody tr th:only-of-type {\n",
       "        vertical-align: middle;\n",
       "    }\n",
       "\n",
       "    .dataframe tbody tr th {\n",
       "        vertical-align: top;\n",
       "    }\n",
       "\n",
       "    .dataframe thead th {\n",
       "        text-align: right;\n",
       "    }\n",
       "</style>\n",
       "<table border=\"1\" class=\"dataframe\">\n",
       "  <thead>\n",
       "    <tr style=\"text-align: right;\">\n",
       "      <th></th>\n",
       "      <th>recipe_name</th>\n",
       "      <th>ingredients</th>\n",
       "      <th>ingred_quantity</th>\n",
       "      <th>time_preparation</th>\n",
       "      <th>calories</th>\n",
       "      <th>intolerances</th>\n",
       "      <th>recipe_url</th>\n",
       "      <th>recipe_image_url</th>\n",
       "      <th>category</th>\n",
       "      <th>more_info</th>\n",
       "      <th>recipe_steps</th>\n",
       "      <th>tipo_plato</th>\n",
       "    </tr>\n",
       "  </thead>\n",
       "  <tbody>\n",
       "    <tr>\n",
       "      <th>410</th>\n",
       "      <td>Sopa de fideos con almejas</td>\n",
       "      <td>[almejas, fideos gruesos, caldo de pescado, pu...</td>\n",
       "      <td>[800 g, 150 g, 750 ml, 1, 1, 1, 1, 2 cda, 100 ...</td>\n",
       "      <td>60 min</td>\n",
       "      <td>290 Cal</td>\n",
       "      <td>[]</td>\n",
       "      <td>https://www.lecturas.com/recetas/sopa-fideos-a...</td>\n",
       "      <td>https://content-recetas.lecturas.com/medio/201...</td>\n",
       "      <td>sopas y cremas</td>\n",
       "      <td>[Temporada:, Todo el año, Técnica:, Técnica mi...</td>\n",
       "      <td>[]</td>\n",
       "      <td>None</td>\n",
       "    </tr>\n",
       "    <tr>\n",
       "      <th>692</th>\n",
       "      <td>Alcachofas guisadas con jamón</td>\n",
       "      <td>[alcachofas, jamón serrano en taquitos, diente...</td>\n",
       "      <td>[8, 100 g, 2, 1 cdta, 100 g, 1 rebanada, 4, 1,...</td>\n",
       "      <td>35 min</td>\n",
       "      <td>255 Cal</td>\n",
       "      <td>[]</td>\n",
       "      <td>https://www.lecturas.com/recetas/alcachofas-gu...</td>\n",
       "      <td>https://content-recetas.lecturas.com/medio/201...</td>\n",
       "      <td>verduras</td>\n",
       "      <td>[Dieta:, Mediterránea, Temporada:, Otoño, Invi...</td>\n",
       "      <td>[]</td>\n",
       "      <td>None</td>\n",
       "    </tr>\n",
       "    <tr>\n",
       "      <th>886</th>\n",
       "      <td>Troncos de calabacín rellenos de verduras</td>\n",
       "      <td>[calabacines medianos, cebolla, zanahoria, jud...</td>\n",
       "      <td>[4, 1, 1, 100 g, 2, , , 2, ]</td>\n",
       "      <td>300 Cal</td>\n",
       "      <td>NaN</td>\n",
       "      <td>[]</td>\n",
       "      <td>https://www.lecturas.com/recetas/troncos-calab...</td>\n",
       "      <td>https://content-recetas.lecturas.com/medio/201...</td>\n",
       "      <td>verduras</td>\n",
       "      <td>[Dieta:, Baja en calorías, Mediterránea, Veget...</td>\n",
       "      <td>[]</td>\n",
       "      <td>None</td>\n",
       "    </tr>\n",
       "    <tr>\n",
       "      <th>2021</th>\n",
       "      <td>Terrina de codornices y pistachos</td>\n",
       "      <td>[codornices, carne picada magra, cebolla, dien...</td>\n",
       "      <td>[4, 150 g, 1, 1, 1, 150 ml, 120 g, 200 g, 400 ...</td>\n",
       "      <td>NaN</td>\n",
       "      <td>NaN</td>\n",
       "      <td>[Preparación con antelación]</td>\n",
       "      <td>https://www.lecturas.com/recetas/terrina-codor...</td>\n",
       "      <td>https://content-recetas.lecturas.com/medio/201...</td>\n",
       "      <td>carnes</td>\n",
       "      <td>[Precio:, Dificultad:]</td>\n",
       "      <td>[]</td>\n",
       "      <td>None</td>\n",
       "    </tr>\n",
       "    <tr>\n",
       "      <th>2256</th>\n",
       "      <td>Lomo relleno de huevo duro, almendras y jamón</td>\n",
       "      <td>[lomo de cerdo en un trozo, huevos, jamón serr...</td>\n",
       "      <td>[1,5 kg, 5, 100 g, 50 g, 1, 2 dl, 2, 2, 50 g, ...</td>\n",
       "      <td>617 Cal</td>\n",
       "      <td>NaN</td>\n",
       "      <td>[]</td>\n",
       "      <td>https://www.lecturas.com/recetas/lomo-relleno-...</td>\n",
       "      <td>https://content-recetas.lecturas.com/medio/201...</td>\n",
       "      <td>carnes</td>\n",
       "      <td>[Dieta:, Mediterránea, Temporada:, Todo el año...</td>\n",
       "      <td>[]</td>\n",
       "      <td>None</td>\n",
       "    </tr>\n",
       "    <tr>\n",
       "      <th>2396</th>\n",
       "      <td>Solomillo de cerdo con salsa de frutos rojos</td>\n",
       "      <td>[solomillos de cerdo braseados, frutas rojas, ...</td>\n",
       "      <td>[2, 250 g, , ]</td>\n",
       "      <td>232 Cal</td>\n",
       "      <td>NaN</td>\n",
       "      <td>[]</td>\n",
       "      <td>https://www.lecturas.com/recetas/solomillo-cer...</td>\n",
       "      <td>https://content-recetas.lecturas.com/medio/201...</td>\n",
       "      <td>carnes</td>\n",
       "      <td>[Precio:, €, € €, Dificultad:]</td>\n",
       "      <td>[]</td>\n",
       "      <td>None</td>\n",
       "    </tr>\n",
       "    <tr>\n",
       "      <th>2685</th>\n",
       "      <td>Hamburguesa de pavo</td>\n",
       "      <td>[minipanecillos tipo chapata, pechuga de pavo,...</td>\n",
       "      <td>[4, 1, 30 g, , 1, 3, 30 g, 3, 1, , , , , , ]</td>\n",
       "      <td>NaN</td>\n",
       "      <td>NaN</td>\n",
       "      <td>[]</td>\n",
       "      <td>https://www.lecturas.com/recetas/hamburguesa-p...</td>\n",
       "      <td>data:image/gif;base64,R0lGODlhAQABAIAAAAAAAP//...</td>\n",
       "      <td>aves</td>\n",
       "      <td>[Precio:, €, € €, Dificultad:]</td>\n",
       "      <td>[]</td>\n",
       "      <td>None</td>\n",
       "    </tr>\n",
       "    <tr>\n",
       "      <th>2847</th>\n",
       "      <td>Atún con salsa de tomate</td>\n",
       "      <td>[filetes de atún a la plancha, tomates, ceboll...</td>\n",
       "      <td>[4, 8, 1, 2, 200 ml, 1 cdta, 4 ramitas, , , ]</td>\n",
       "      <td>30 min</td>\n",
       "      <td>307 Cal</td>\n",
       "      <td>[Sin lactosa, Sin gluten]</td>\n",
       "      <td>https://www.lecturas.com/recetas/atun-salsa-to...</td>\n",
       "      <td>data:image/gif;base64,R0lGODlhAQABAIAAAAAAAP//...</td>\n",
       "      <td>pescados y mariscos</td>\n",
       "      <td>[Dieta:, Mediterránea, Temporada:, Verano, Téc...</td>\n",
       "      <td>[Pela y pica la cebolla y los ajos. Rehógalos ...</td>\n",
       "      <td>None</td>\n",
       "    </tr>\n",
       "    <tr>\n",
       "      <th>4249</th>\n",
       "      <td>Estrellas de cacao y vainilla</td>\n",
       "      <td>[mantequilla, azúcar, huevo, harina, vainilla,...</td>\n",
       "      <td>[110 g, 75 g, 1, 175 g, 1 cda, 1 cda, 1, 250 g...</td>\n",
       "      <td>90 min</td>\n",
       "      <td>NaN</td>\n",
       "      <td>[]</td>\n",
       "      <td>https://www.lecturas.com/recetas/estrellas-cac...</td>\n",
       "      <td>https://content-recetas.lecturas.com/medio/201...</td>\n",
       "      <td>postres y dulces</td>\n",
       "      <td>[Temporada:, Navidad, Técnica:, Horno, Precio:...</td>\n",
       "      <td>[]</td>\n",
       "      <td>None</td>\n",
       "    </tr>\n",
       "    <tr>\n",
       "      <th>4467</th>\n",
       "      <td>Pizza dulce de uvas al romero</td>\n",
       "      <td>[masa de pizza integral, uva rojas y blancas, ...</td>\n",
       "      <td>[1, 250 g, 1 ramita, 1 cda, 1 vasito, ]</td>\n",
       "      <td>35 min</td>\n",
       "      <td>220 Cal</td>\n",
       "      <td>[Sin lactosa]</td>\n",
       "      <td>https://www.lecturas.com/recetas/pizza-dulce-u...</td>\n",
       "      <td>https://content-recetas.lecturas.com/medio/201...</td>\n",
       "      <td>postres y dulces</td>\n",
       "      <td>[Dieta:, Mediterránea, Temporada:, Todo el año...</td>\n",
       "      <td>[]</td>\n",
       "      <td>None</td>\n",
       "    </tr>\n",
       "    <tr>\n",
       "      <th>4699</th>\n",
       "      <td>Sorbete de cava rosado</td>\n",
       "      <td>[cava rosado, azúcar, canela, claras de huevo,...</td>\n",
       "      <td>[250 ml, 100 g, 1 ramita, 2, 1 ramita, 2, 1]</td>\n",
       "      <td>25 min</td>\n",
       "      <td>190 Cal</td>\n",
       "      <td>[]</td>\n",
       "      <td>https://www.lecturas.com/recetas/sorbete-cava-...</td>\n",
       "      <td>https://content-recetas.lecturas.com/medio/201...</td>\n",
       "      <td>postres y dulces</td>\n",
       "      <td>[Dieta:, Mediterránea, Temporada:, Todo el año...</td>\n",
       "      <td>[]</td>\n",
       "      <td>None</td>\n",
       "    </tr>\n",
       "    <tr>\n",
       "      <th>4866</th>\n",
       "      <td>Caracola de brick y manzana</td>\n",
       "      <td>[pasta brick un rollo, manzana medianas, canel...</td>\n",
       "      <td>[1, 4, 1 ramita, ½, 2 cda, 7 cda, 100 g, 1 cdt...</td>\n",
       "      <td>50 min</td>\n",
       "      <td>223 Cal</td>\n",
       "      <td>[]</td>\n",
       "      <td>https://www.lecturas.com/recetas/caracola-bric...</td>\n",
       "      <td>https://content-recetas.lecturas.com/medio/201...</td>\n",
       "      <td>postres y dulces</td>\n",
       "      <td>[Temporada:, Todo el año, Técnica:, Horno, Pre...</td>\n",
       "      <td>[]</td>\n",
       "      <td>None</td>\n",
       "    </tr>\n",
       "    <tr>\n",
       "      <th>5471</th>\n",
       "      <td>Manzanas asadas rellenas</td>\n",
       "      <td>[manzana golden, queso mascarpone, huevo, azúc...</td>\n",
       "      <td>[4, 100 g, 1, 25 g, 1 cdta, 100 g, 1 cdta, 100...</td>\n",
       "      <td>25 min</td>\n",
       "      <td>NaN</td>\n",
       "      <td>[]</td>\n",
       "      <td>https://www.lecturas.com/recetas/manzanas-asad...</td>\n",
       "      <td>https://content-recetas.lecturas.com/medio/201...</td>\n",
       "      <td>postres y dulces</td>\n",
       "      <td>[Temporada:, Invierno, Precio:, €, € €, Dificu...</td>\n",
       "      <td>[]</td>\n",
       "      <td>None</td>\n",
       "    </tr>\n",
       "  </tbody>\n",
       "</table>\n",
       "</div>"
      ],
      "text/plain": [
       "                                        recipe_name  \\\n",
       "410                      Sopa de fideos con almejas   \n",
       "692                   Alcachofas guisadas con jamón   \n",
       "886       Troncos de calabacín rellenos de verduras   \n",
       "2021              Terrina de codornices y pistachos   \n",
       "2256  Lomo relleno de huevo duro, almendras y jamón   \n",
       "2396   Solomillo de cerdo con salsa de frutos rojos   \n",
       "2685                            Hamburguesa de pavo   \n",
       "2847                       Atún con salsa de tomate   \n",
       "4249                  Estrellas de cacao y vainilla   \n",
       "4467                  Pizza dulce de uvas al romero   \n",
       "4699                         Sorbete de cava rosado   \n",
       "4866                    Caracola de brick y manzana   \n",
       "5471                       Manzanas asadas rellenas   \n",
       "\n",
       "                                            ingredients  \\\n",
       "410   [almejas, fideos gruesos, caldo de pescado, pu...   \n",
       "692   [alcachofas, jamón serrano en taquitos, diente...   \n",
       "886   [calabacines medianos, cebolla, zanahoria, jud...   \n",
       "2021  [codornices, carne picada magra, cebolla, dien...   \n",
       "2256  [lomo de cerdo en un trozo, huevos, jamón serr...   \n",
       "2396  [solomillos de cerdo braseados, frutas rojas, ...   \n",
       "2685  [minipanecillos tipo chapata, pechuga de pavo,...   \n",
       "2847  [filetes de atún a la plancha, tomates, ceboll...   \n",
       "4249  [mantequilla, azúcar, huevo, harina, vainilla,...   \n",
       "4467  [masa de pizza integral, uva rojas y blancas, ...   \n",
       "4699  [cava rosado, azúcar, canela, claras de huevo,...   \n",
       "4866  [pasta brick un rollo, manzana medianas, canel...   \n",
       "5471  [manzana golden, queso mascarpone, huevo, azúc...   \n",
       "\n",
       "                                        ingred_quantity time_preparation  \\\n",
       "410   [800 g, 150 g, 750 ml, 1, 1, 1, 1, 2 cda, 100 ...           60 min   \n",
       "692   [8, 100 g, 2, 1 cdta, 100 g, 1 rebanada, 4, 1,...           35 min   \n",
       "886                        [4, 1, 1, 100 g, 2, , , 2, ]          300 Cal   \n",
       "2021  [4, 150 g, 1, 1, 1, 150 ml, 120 g, 200 g, 400 ...              NaN   \n",
       "2256  [1,5 kg, 5, 100 g, 50 g, 1, 2 dl, 2, 2, 50 g, ...          617 Cal   \n",
       "2396                                     [2, 250 g, , ]          232 Cal   \n",
       "2685       [4, 1, 30 g, , 1, 3, 30 g, 3, 1, , , , , , ]              NaN   \n",
       "2847      [4, 8, 1, 2, 200 ml, 1 cdta, 4 ramitas, , , ]           30 min   \n",
       "4249  [110 g, 75 g, 1, 175 g, 1 cda, 1 cda, 1, 250 g...           90 min   \n",
       "4467            [1, 250 g, 1 ramita, 1 cda, 1 vasito, ]           35 min   \n",
       "4699       [250 ml, 100 g, 1 ramita, 2, 1 ramita, 2, 1]           25 min   \n",
       "4866  [1, 4, 1 ramita, ½, 2 cda, 7 cda, 100 g, 1 cdt...           50 min   \n",
       "5471  [4, 100 g, 1, 25 g, 1 cdta, 100 g, 1 cdta, 100...           25 min   \n",
       "\n",
       "     calories                  intolerances  \\\n",
       "410   290 Cal                            []   \n",
       "692   255 Cal                            []   \n",
       "886       NaN                            []   \n",
       "2021      NaN  [Preparación con antelación]   \n",
       "2256      NaN                            []   \n",
       "2396      NaN                            []   \n",
       "2685      NaN                            []   \n",
       "2847  307 Cal     [Sin lactosa, Sin gluten]   \n",
       "4249      NaN                            []   \n",
       "4467  220 Cal                 [Sin lactosa]   \n",
       "4699  190 Cal                            []   \n",
       "4866  223 Cal                            []   \n",
       "5471      NaN                            []   \n",
       "\n",
       "                                             recipe_url  \\\n",
       "410   https://www.lecturas.com/recetas/sopa-fideos-a...   \n",
       "692   https://www.lecturas.com/recetas/alcachofas-gu...   \n",
       "886   https://www.lecturas.com/recetas/troncos-calab...   \n",
       "2021  https://www.lecturas.com/recetas/terrina-codor...   \n",
       "2256  https://www.lecturas.com/recetas/lomo-relleno-...   \n",
       "2396  https://www.lecturas.com/recetas/solomillo-cer...   \n",
       "2685  https://www.lecturas.com/recetas/hamburguesa-p...   \n",
       "2847  https://www.lecturas.com/recetas/atun-salsa-to...   \n",
       "4249  https://www.lecturas.com/recetas/estrellas-cac...   \n",
       "4467  https://www.lecturas.com/recetas/pizza-dulce-u...   \n",
       "4699  https://www.lecturas.com/recetas/sorbete-cava-...   \n",
       "4866  https://www.lecturas.com/recetas/caracola-bric...   \n",
       "5471  https://www.lecturas.com/recetas/manzanas-asad...   \n",
       "\n",
       "                                       recipe_image_url             category  \\\n",
       "410   https://content-recetas.lecturas.com/medio/201...       sopas y cremas   \n",
       "692   https://content-recetas.lecturas.com/medio/201...             verduras   \n",
       "886   https://content-recetas.lecturas.com/medio/201...             verduras   \n",
       "2021  https://content-recetas.lecturas.com/medio/201...               carnes   \n",
       "2256  https://content-recetas.lecturas.com/medio/201...               carnes   \n",
       "2396  https://content-recetas.lecturas.com/medio/201...               carnes   \n",
       "2685  data:image/gif;base64,R0lGODlhAQABAIAAAAAAAP//...                 aves   \n",
       "2847  data:image/gif;base64,R0lGODlhAQABAIAAAAAAAP//...  pescados y mariscos   \n",
       "4249  https://content-recetas.lecturas.com/medio/201...     postres y dulces   \n",
       "4467  https://content-recetas.lecturas.com/medio/201...     postres y dulces   \n",
       "4699  https://content-recetas.lecturas.com/medio/201...     postres y dulces   \n",
       "4866  https://content-recetas.lecturas.com/medio/201...     postres y dulces   \n",
       "5471  https://content-recetas.lecturas.com/medio/201...     postres y dulces   \n",
       "\n",
       "                                              more_info  \\\n",
       "410   [Temporada:, Todo el año, Técnica:, Técnica mi...   \n",
       "692   [Dieta:, Mediterránea, Temporada:, Otoño, Invi...   \n",
       "886   [Dieta:, Baja en calorías, Mediterránea, Veget...   \n",
       "2021                             [Precio:, Dificultad:]   \n",
       "2256  [Dieta:, Mediterránea, Temporada:, Todo el año...   \n",
       "2396                     [Precio:, €, € €, Dificultad:]   \n",
       "2685                     [Precio:, €, € €, Dificultad:]   \n",
       "2847  [Dieta:, Mediterránea, Temporada:, Verano, Téc...   \n",
       "4249  [Temporada:, Navidad, Técnica:, Horno, Precio:...   \n",
       "4467  [Dieta:, Mediterránea, Temporada:, Todo el año...   \n",
       "4699  [Dieta:, Mediterránea, Temporada:, Todo el año...   \n",
       "4866  [Temporada:, Todo el año, Técnica:, Horno, Pre...   \n",
       "5471  [Temporada:, Invierno, Precio:, €, € €, Dificu...   \n",
       "\n",
       "                                           recipe_steps tipo_plato  \n",
       "410                                                  []       None  \n",
       "692                                                  []       None  \n",
       "886                                                  []       None  \n",
       "2021                                                 []       None  \n",
       "2256                                                 []       None  \n",
       "2396                                                 []       None  \n",
       "2685                                                 []       None  \n",
       "2847  [Pela y pica la cebolla y los ajos. Rehógalos ...       None  \n",
       "4249                                                 []       None  \n",
       "4467                                                 []       None  \n",
       "4699                                                 []       None  \n",
       "4866                                                 []       None  \n",
       "5471                                                 []       None  "
      ]
     },
     "execution_count": 18,
     "metadata": {},
     "output_type": "execute_result"
    }
   ],
   "source": [
    "recipe_df[recipe_df.tipo_plato.isnull()]"
   ]
  },
  {
   "cell_type": "code",
   "execution_count": 19,
   "metadata": {},
   "outputs": [
    {
     "data": {
      "text/plain": [
       "Index(['recipe_name', 'ingredients', 'ingred_quantity', 'time_preparation',\n",
       "       'calories', 'intolerances', 'recipe_url', 'recipe_image_url',\n",
       "       'category', 'more_info', 'recipe_steps', 'tipo_plato'],\n",
       "      dtype='object')"
      ]
     },
     "execution_count": 19,
     "metadata": {},
     "output_type": "execute_result"
    }
   ],
   "source": [
    "recipe_df.columns"
   ]
  },
  {
   "cell_type": "code",
   "execution_count": 20,
   "metadata": {},
   "outputs": [],
   "source": [
    "category_df = recipe_df.tipo_plato.apply(pd.Series) \\\n",
    "    .merge(recipe_df, right_index = True, left_index = True) \\\n",
    "    .melt(id_vars = ['recipe_name', 'ingredients', 'ingred_quantity', 'time_preparation',\n",
    "       'calories', 'intolerances', 'recipe_url', 'recipe_image_url',\n",
    "       'category', 'more_info', 'recipe_steps', 'tipo_plato',], value_name = \"tipo_plato_list\")\n",
    "\n",
    "category_df = category_df[category_df[\"tipo_plato_list\"].notna()]"
   ]
  },
  {
   "cell_type": "code",
   "execution_count": 21,
   "metadata": {},
   "outputs": [
    {
     "data": {
      "text/html": [
       "<div>\n",
       "<style scoped>\n",
       "    .dataframe tbody tr th:only-of-type {\n",
       "        vertical-align: middle;\n",
       "    }\n",
       "\n",
       "    .dataframe tbody tr th {\n",
       "        vertical-align: top;\n",
       "    }\n",
       "\n",
       "    .dataframe thead th {\n",
       "        text-align: right;\n",
       "    }\n",
       "</style>\n",
       "<table border=\"1\" class=\"dataframe\">\n",
       "  <thead>\n",
       "    <tr style=\"text-align: right;\">\n",
       "      <th></th>\n",
       "      <th>recipe_name</th>\n",
       "      <th>ingredients</th>\n",
       "      <th>ingred_quantity</th>\n",
       "      <th>time_preparation</th>\n",
       "      <th>calories</th>\n",
       "      <th>intolerances</th>\n",
       "      <th>recipe_url</th>\n",
       "      <th>recipe_image_url</th>\n",
       "      <th>category</th>\n",
       "      <th>more_info</th>\n",
       "      <th>recipe_steps</th>\n",
       "      <th>tipo_plato</th>\n",
       "      <th>variable</th>\n",
       "      <th>tipo_plato_list</th>\n",
       "    </tr>\n",
       "  </thead>\n",
       "  <tbody>\n",
       "    <tr>\n",
       "      <th>0</th>\n",
       "      <td>Ensalada niçoise</td>\n",
       "      <td>[patatas pequeñas rojas, huevos, judías verdes...</td>\n",
       "      <td>[12, 4, 400 g, 4, 250 g, 200 g, 1, 1 cda, 100 ...</td>\n",
       "      <td>60 min</td>\n",
       "      <td>252 Cal</td>\n",
       "      <td>[]</td>\n",
       "      <td>https://www.lecturas.com/recetas/ensalada-nico...</td>\n",
       "      <td>https://content-recetas.lecturas.com/medio/201...</td>\n",
       "      <td>ensaladas</td>\n",
       "      <td>[Dieta:, Baja en calorías, Mediterránea, Tempo...</td>\n",
       "      <td>[]</td>\n",
       "      <td>[Primeros platos y entrantes]</td>\n",
       "      <td>0</td>\n",
       "      <td>Primeros platos y entrantes</td>\n",
       "    </tr>\n",
       "    <tr>\n",
       "      <th>1</th>\n",
       "      <td>Ensalada del périgord</td>\n",
       "      <td>[foie micuit, beicon gruesas, champiñones, ber...</td>\n",
       "      <td>[150 g, 2 lonchas, 150 g, 80 g, 100 g, 6, 20 g...</td>\n",
       "      <td>25 min</td>\n",
       "      <td>386 Cal</td>\n",
       "      <td>[]</td>\n",
       "      <td>https://www.lecturas.com/recetas/ensalada-peri...</td>\n",
       "      <td>https://content-recetas.lecturas.com/medio/201...</td>\n",
       "      <td>ensaladas</td>\n",
       "      <td>[Dieta:, Mediterránea, Temporada:, Todo el año...</td>\n",
       "      <td>[]</td>\n",
       "      <td>[Primeros platos y entrantes]</td>\n",
       "      <td>0</td>\n",
       "      <td>Primeros platos y entrantes</td>\n",
       "    </tr>\n",
       "    <tr>\n",
       "      <th>2</th>\n",
       "      <td>Xató con salsa romesco</td>\n",
       "      <td>[bacalao desalado, cebolleta, escarolas, aceit...</td>\n",
       "      <td>[300 g, 1, 150 g, 80 g, 8, 2, 1, 2, 1 rebanada...</td>\n",
       "      <td>35 min</td>\n",
       "      <td>NaN</td>\n",
       "      <td>[]</td>\n",
       "      <td>https://www.lecturas.com/recetas/xato-salsa-ro...</td>\n",
       "      <td>https://content-recetas.lecturas.com/medio/202...</td>\n",
       "      <td>ensaladas</td>\n",
       "      <td>[Dieta:, Mediterránea, Temporada:, Todo el año...</td>\n",
       "      <td>[]</td>\n",
       "      <td>[Primeros platos y entrantes]</td>\n",
       "      <td>0</td>\n",
       "      <td>Primeros platos y entrantes</td>\n",
       "    </tr>\n",
       "    <tr>\n",
       "      <th>3</th>\n",
       "      <td>Ensalada de ceviche de langostinos y cebolla</td>\n",
       "      <td>[langostinos, pimienta, limas, tomates, ceboll...</td>\n",
       "      <td>[16, , 8, 3, 1, ½, 1 cdta, 1, 1 manojo, , 100 ...</td>\n",
       "      <td>25 min</td>\n",
       "      <td>176 Cal</td>\n",
       "      <td>[]</td>\n",
       "      <td>https://www.lecturas.com/recetas/ensalada-cevi...</td>\n",
       "      <td>https://content-recetas.lecturas.com/medio/201...</td>\n",
       "      <td>ensaladas</td>\n",
       "      <td>[Dieta:, Mediterránea, Temporada:, Todo el año...</td>\n",
       "      <td>[]</td>\n",
       "      <td>[Primeros platos y entrantes]</td>\n",
       "      <td>0</td>\n",
       "      <td>Primeros platos y entrantes</td>\n",
       "    </tr>\n",
       "    <tr>\n",
       "      <th>4</th>\n",
       "      <td>Ensalada de pollo, remolacha y manzana</td>\n",
       "      <td>[pechugas de pollo, manzanas ácida, col lombar...</td>\n",
       "      <td>[650 g, 2, 1 trozo, 2, 1, 1, 80 g, 100 g, 1 cd...</td>\n",
       "      <td>40 min</td>\n",
       "      <td>203 Cal</td>\n",
       "      <td>[]</td>\n",
       "      <td>https://www.lecturas.com/recetas/ensalada-poll...</td>\n",
       "      <td>https://content-recetas.lecturas.com/medio/201...</td>\n",
       "      <td>ensaladas</td>\n",
       "      <td>[Dieta:, Mediterránea, Técnica:, Técnica mixta...</td>\n",
       "      <td>[]</td>\n",
       "      <td>[Primeros platos y entrantes]</td>\n",
       "      <td>0</td>\n",
       "      <td>Primeros platos y entrantes</td>\n",
       "    </tr>\n",
       "    <tr>\n",
       "      <th>...</th>\n",
       "      <td>...</td>\n",
       "      <td>...</td>\n",
       "      <td>...</td>\n",
       "      <td>...</td>\n",
       "      <td>...</td>\n",
       "      <td>...</td>\n",
       "      <td>...</td>\n",
       "      <td>...</td>\n",
       "      <td>...</td>\n",
       "      <td>...</td>\n",
       "      <td>...</td>\n",
       "      <td>...</td>\n",
       "      <td>...</td>\n",
       "      <td>...</td>\n",
       "    </tr>\n",
       "    <tr>\n",
       "      <th>16071</th>\n",
       "      <td>Pizza cerrada de verduras</td>\n",
       "      <td>[masa de pizza refrigerada, cebolla, pimiento ...</td>\n",
       "      <td>[1, 1, 1, ½, 1, 1, 100 ml, , , 1 cda, 1, 40 g]</td>\n",
       "      <td>40 min</td>\n",
       "      <td>236 Cal</td>\n",
       "      <td>[]</td>\n",
       "      <td>https://www.lecturas.com/recetas/pizza-cerrada...</td>\n",
       "      <td>https://content-recetas.lecturas.com/medio/201...</td>\n",
       "      <td>pizzas y empanadas</td>\n",
       "      <td>[Dieta:, Mediterránea, Vegetariana, Temporada:...</td>\n",
       "      <td>[]</td>\n",
       "      <td>[Plato único, Primeros platos y entrantes, Seg...</td>\n",
       "      <td>2</td>\n",
       "      <td>Segundos platos y platos principales</td>\n",
       "    </tr>\n",
       "    <tr>\n",
       "      <th>16225</th>\n",
       "      <td>Tostas de sobrasada y miel con huevos fritos</td>\n",
       "      <td>[pan con cereales, sobrasada, queso havarti, m...</td>\n",
       "      <td>[4 rebanadas, 50 g, 4 lonchas, 10 ml, 4, , 15 ...</td>\n",
       "      <td>15 min</td>\n",
       "      <td>225 Cal</td>\n",
       "      <td>[]</td>\n",
       "      <td>https://www.lecturas.com/recetas/tostas-sobras...</td>\n",
       "      <td>https://content-recetas.lecturas.com/medio/201...</td>\n",
       "      <td>bocadillos y canapés</td>\n",
       "      <td>[Dieta:, Mediterránea, Temporada:, Todo el año...</td>\n",
       "      <td>[]</td>\n",
       "      <td>[Primeros platos y entrantes, Aperitivos y tap...</td>\n",
       "      <td>2</td>\n",
       "      <td>Plato único</td>\n",
       "    </tr>\n",
       "    <tr>\n",
       "      <th>16232</th>\n",
       "      <td>Hamburguesa con tomate, rúcula y pepinillos</td>\n",
       "      <td>[miga de pan, leche, carne de ternera picada, ...</td>\n",
       "      <td>[100 g, 100 ml, 500 g, 1, 1, 4, 50 g, 2, , 5, , ]</td>\n",
       "      <td>25 min</td>\n",
       "      <td>NaN</td>\n",
       "      <td>[]</td>\n",
       "      <td>https://www.lecturas.com/recetas/hamburguesa-t...</td>\n",
       "      <td>https://content-recetas.lecturas.com/medio/201...</td>\n",
       "      <td>bocadillos y canapés</td>\n",
       "      <td>[Temporada:, Todo el año, Técnica:, Asado (par...</td>\n",
       "      <td>[]</td>\n",
       "      <td>[Plato único, Aperitivos y tapas, Segundos pla...</td>\n",
       "      <td>2</td>\n",
       "      <td>Segundos platos y platos principales</td>\n",
       "    </tr>\n",
       "    <tr>\n",
       "      <th>16242</th>\n",
       "      <td>Croquetas de jamón y queso</td>\n",
       "      <td>[leche, harina, jamón serrano, queso manchego ...</td>\n",
       "      <td>[1 l, , 200 g, 50 g, 1, 90 g, 2, , , , , ]</td>\n",
       "      <td>60 min</td>\n",
       "      <td>680 Cal</td>\n",
       "      <td>[]</td>\n",
       "      <td>https://www.lecturas.com/recetas/croquetas-jam...</td>\n",
       "      <td>https://content-recetas.lecturas.com/medio/201...</td>\n",
       "      <td>bocadillos y canapés</td>\n",
       "      <td>[Temporada:, Todo el año, Técnica:, Fritura, T...</td>\n",
       "      <td>[]</td>\n",
       "      <td>[Aperitivos y tapas, Primeros platos y entrant...</td>\n",
       "      <td>2</td>\n",
       "      <td>Segundos platos y platos principales</td>\n",
       "    </tr>\n",
       "    <tr>\n",
       "      <th>17715</th>\n",
       "      <td>Tosta con huevo y jamón</td>\n",
       "      <td>[huevo, pan rebanada, queso para fundir, jamón...</td>\n",
       "      <td>[4, 4, 4 lonchas, 4 lonchas, 4, , , , ]</td>\n",
       "      <td>25 min</td>\n",
       "      <td>138 Cal</td>\n",
       "      <td>[]</td>\n",
       "      <td>https://www.lecturas.com/recetas/tosta-huevo-y...</td>\n",
       "      <td>https://content-recetas.lecturas.com/medio/201...</td>\n",
       "      <td>huevos y tortillas</td>\n",
       "      <td>[Dieta:, Mediterránea, Temporada:, Todo el año...</td>\n",
       "      <td>[]</td>\n",
       "      <td>[Primeros platos y entrantes, Segundos platos ...</td>\n",
       "      <td>3</td>\n",
       "      <td>Aperitivos y tapas</td>\n",
       "    </tr>\n",
       "  </tbody>\n",
       "</table>\n",
       "<p>6030 rows × 14 columns</p>\n",
       "</div>"
      ],
      "text/plain": [
       "                                        recipe_name  \\\n",
       "0                                  Ensalada niçoise   \n",
       "1                             Ensalada del périgord   \n",
       "2                            Xató con salsa romesco   \n",
       "3      Ensalada de ceviche de langostinos y cebolla   \n",
       "4            Ensalada de pollo, remolacha y manzana   \n",
       "...                                             ...   \n",
       "16071                     Pizza cerrada de verduras   \n",
       "16225  Tostas de sobrasada y miel con huevos fritos   \n",
       "16232   Hamburguesa con tomate, rúcula y pepinillos   \n",
       "16242                    Croquetas de jamón y queso   \n",
       "17715                       Tosta con huevo y jamón   \n",
       "\n",
       "                                             ingredients  \\\n",
       "0      [patatas pequeñas rojas, huevos, judías verdes...   \n",
       "1      [foie micuit, beicon gruesas, champiñones, ber...   \n",
       "2      [bacalao desalado, cebolleta, escarolas, aceit...   \n",
       "3      [langostinos, pimienta, limas, tomates, ceboll...   \n",
       "4      [pechugas de pollo, manzanas ácida, col lombar...   \n",
       "...                                                  ...   \n",
       "16071  [masa de pizza refrigerada, cebolla, pimiento ...   \n",
       "16225  [pan con cereales, sobrasada, queso havarti, m...   \n",
       "16232  [miga de pan, leche, carne de ternera picada, ...   \n",
       "16242  [leche, harina, jamón serrano, queso manchego ...   \n",
       "17715  [huevo, pan rebanada, queso para fundir, jamón...   \n",
       "\n",
       "                                         ingred_quantity time_preparation  \\\n",
       "0      [12, 4, 400 g, 4, 250 g, 200 g, 1, 1 cda, 100 ...           60 min   \n",
       "1      [150 g, 2 lonchas, 150 g, 80 g, 100 g, 6, 20 g...           25 min   \n",
       "2      [300 g, 1, 150 g, 80 g, 8, 2, 1, 2, 1 rebanada...           35 min   \n",
       "3      [16, , 8, 3, 1, ½, 1 cdta, 1, 1 manojo, , 100 ...           25 min   \n",
       "4      [650 g, 2, 1 trozo, 2, 1, 1, 80 g, 100 g, 1 cd...           40 min   \n",
       "...                                                  ...              ...   \n",
       "16071     [1, 1, 1, ½, 1, 1, 100 ml, , , 1 cda, 1, 40 g]           40 min   \n",
       "16225  [4 rebanadas, 50 g, 4 lonchas, 10 ml, 4, , 15 ...           15 min   \n",
       "16232  [100 g, 100 ml, 500 g, 1, 1, 4, 50 g, 2, , 5, , ]           25 min   \n",
       "16242         [1 l, , 200 g, 50 g, 1, 90 g, 2, , , , , ]           60 min   \n",
       "17715            [4, 4, 4 lonchas, 4 lonchas, 4, , , , ]           25 min   \n",
       "\n",
       "      calories intolerances  \\\n",
       "0      252 Cal           []   \n",
       "1      386 Cal           []   \n",
       "2          NaN           []   \n",
       "3      176 Cal           []   \n",
       "4      203 Cal           []   \n",
       "...        ...          ...   \n",
       "16071  236 Cal           []   \n",
       "16225  225 Cal           []   \n",
       "16232      NaN           []   \n",
       "16242  680 Cal           []   \n",
       "17715  138 Cal           []   \n",
       "\n",
       "                                              recipe_url  \\\n",
       "0      https://www.lecturas.com/recetas/ensalada-nico...   \n",
       "1      https://www.lecturas.com/recetas/ensalada-peri...   \n",
       "2      https://www.lecturas.com/recetas/xato-salsa-ro...   \n",
       "3      https://www.lecturas.com/recetas/ensalada-cevi...   \n",
       "4      https://www.lecturas.com/recetas/ensalada-poll...   \n",
       "...                                                  ...   \n",
       "16071  https://www.lecturas.com/recetas/pizza-cerrada...   \n",
       "16225  https://www.lecturas.com/recetas/tostas-sobras...   \n",
       "16232  https://www.lecturas.com/recetas/hamburguesa-t...   \n",
       "16242  https://www.lecturas.com/recetas/croquetas-jam...   \n",
       "17715  https://www.lecturas.com/recetas/tosta-huevo-y...   \n",
       "\n",
       "                                        recipe_image_url  \\\n",
       "0      https://content-recetas.lecturas.com/medio/201...   \n",
       "1      https://content-recetas.lecturas.com/medio/201...   \n",
       "2      https://content-recetas.lecturas.com/medio/202...   \n",
       "3      https://content-recetas.lecturas.com/medio/201...   \n",
       "4      https://content-recetas.lecturas.com/medio/201...   \n",
       "...                                                  ...   \n",
       "16071  https://content-recetas.lecturas.com/medio/201...   \n",
       "16225  https://content-recetas.lecturas.com/medio/201...   \n",
       "16232  https://content-recetas.lecturas.com/medio/201...   \n",
       "16242  https://content-recetas.lecturas.com/medio/201...   \n",
       "17715  https://content-recetas.lecturas.com/medio/201...   \n",
       "\n",
       "                   category  \\\n",
       "0                 ensaladas   \n",
       "1                 ensaladas   \n",
       "2                 ensaladas   \n",
       "3                 ensaladas   \n",
       "4                 ensaladas   \n",
       "...                     ...   \n",
       "16071    pizzas y empanadas   \n",
       "16225  bocadillos y canapés   \n",
       "16232  bocadillos y canapés   \n",
       "16242  bocadillos y canapés   \n",
       "17715    huevos y tortillas   \n",
       "\n",
       "                                               more_info recipe_steps  \\\n",
       "0      [Dieta:, Baja en calorías, Mediterránea, Tempo...           []   \n",
       "1      [Dieta:, Mediterránea, Temporada:, Todo el año...           []   \n",
       "2      [Dieta:, Mediterránea, Temporada:, Todo el año...           []   \n",
       "3      [Dieta:, Mediterránea, Temporada:, Todo el año...           []   \n",
       "4      [Dieta:, Mediterránea, Técnica:, Técnica mixta...           []   \n",
       "...                                                  ...          ...   \n",
       "16071  [Dieta:, Mediterránea, Vegetariana, Temporada:...           []   \n",
       "16225  [Dieta:, Mediterránea, Temporada:, Todo el año...           []   \n",
       "16232  [Temporada:, Todo el año, Técnica:, Asado (par...           []   \n",
       "16242  [Temporada:, Todo el año, Técnica:, Fritura, T...           []   \n",
       "17715  [Dieta:, Mediterránea, Temporada:, Todo el año...           []   \n",
       "\n",
       "                                              tipo_plato variable  \\\n",
       "0                          [Primeros platos y entrantes]        0   \n",
       "1                          [Primeros platos y entrantes]        0   \n",
       "2                          [Primeros platos y entrantes]        0   \n",
       "3                          [Primeros platos y entrantes]        0   \n",
       "4                          [Primeros platos y entrantes]        0   \n",
       "...                                                  ...      ...   \n",
       "16071  [Plato único, Primeros platos y entrantes, Seg...        2   \n",
       "16225  [Primeros platos y entrantes, Aperitivos y tap...        2   \n",
       "16232  [Plato único, Aperitivos y tapas, Segundos pla...        2   \n",
       "16242  [Aperitivos y tapas, Primeros platos y entrant...        2   \n",
       "17715  [Primeros platos y entrantes, Segundos platos ...        3   \n",
       "\n",
       "                            tipo_plato_list  \n",
       "0               Primeros platos y entrantes  \n",
       "1               Primeros platos y entrantes  \n",
       "2               Primeros platos y entrantes  \n",
       "3               Primeros platos y entrantes  \n",
       "4               Primeros platos y entrantes  \n",
       "...                                     ...  \n",
       "16071  Segundos platos y platos principales  \n",
       "16225                           Plato único  \n",
       "16232  Segundos platos y platos principales  \n",
       "16242  Segundos platos y platos principales  \n",
       "17715                    Aperitivos y tapas  \n",
       "\n",
       "[6030 rows x 14 columns]"
      ]
     },
     "execution_count": 21,
     "metadata": {},
     "output_type": "execute_result"
    }
   ],
   "source": [
    "category_df"
   ]
  },
  {
   "cell_type": "code",
   "execution_count": 22,
   "metadata": {},
   "outputs": [
    {
     "data": {
      "text/plain": [
       "Postres                                 2118\n",
       "Primeros platos y entrantes             1579\n",
       "Segundos platos y platos principales    1487\n",
       "Aperitivos y tapas                       472\n",
       "Plato único                              311\n",
       "Acompañamientos                           63\n",
       "Name: tipo_plato_list, dtype: int64"
      ]
     },
     "execution_count": 22,
     "metadata": {},
     "output_type": "execute_result"
    }
   ],
   "source": [
    "category_df[\"tipo_plato_list\"].value_counts()"
   ]
  },
  {
   "cell_type": "code",
   "execution_count": 24,
   "metadata": {},
   "outputs": [],
   "source": [
    "def main_category_clasification(cat_column, dish_column):\n",
    "    dish_str = str(dish_column)\n",
    "    if re.search(\"Postres\", dish_str) != None:\n",
    "        return \"postre\"\n",
    "    elif cat_column == \"postres y dulces\":\n",
    "        return \"postre\"\n",
    "    else:\n",
    "        return \"principal\"\n",
    "\n",
    "recipe_df[\"main_category\"] = recipe_df.apply(lambda x: main_category_clasification(x[\"category\"], x[\"tipo_plato\"]), axis=1)"
   ]
  },
  {
   "cell_type": "code",
   "execution_count": 25,
   "metadata": {},
   "outputs": [
    {
     "data": {
      "text/plain": [
       "principal    3296\n",
       "postre       2126\n",
       "Name: main_category, dtype: int64"
      ]
     },
     "execution_count": 25,
     "metadata": {},
     "output_type": "execute_result"
    }
   ],
   "source": [
    "recipe_df[\"main_category\"].value_counts()"
   ]
  },
  {
   "cell_type": "code",
   "execution_count": null,
   "metadata": {},
   "outputs": [],
   "source": []
  },
  {
   "cell_type": "code",
   "execution_count": null,
   "metadata": {},
   "outputs": [],
   "source": []
  },
  {
   "cell_type": "code",
   "execution_count": null,
   "metadata": {},
   "outputs": [],
   "source": []
  },
  {
   "cell_type": "code",
   "execution_count": null,
   "metadata": {},
   "outputs": [],
   "source": [
    "# Change data type of numeric columns from object to number"
   ]
  },
  {
   "cell_type": "code",
   "execution_count": null,
   "metadata": {},
   "outputs": [],
   "source": [
    "recipe_df[\"time_preparation\"].unique()"
   ]
  },
  {
   "cell_type": "code",
   "execution_count": null,
   "metadata": {},
   "outputs": [],
   "source": [
    "recipe_df['time_preparation'].fillna('missing', inplace=True)\n",
    "recipe_df['calories'].fillna('missing', inplace=True)"
   ]
  },
  {
   "cell_type": "code",
   "execution_count": null,
   "metadata": {},
   "outputs": [],
   "source": [
    "pd.options.display.max_colwidth = 1000"
   ]
  },
  {
   "cell_type": "code",
   "execution_count": null,
   "metadata": {},
   "outputs": [],
   "source": [
    "recipe_df[recipe_df['time_preparation'].str.contains(\"Cal\")]"
   ]
  },
  {
   "cell_type": "code",
   "execution_count": null,
   "metadata": {},
   "outputs": [],
   "source": [
    "def change_time_cal(time, cal):\n",
    "    if re.search(\"Cal\", time) is not None:\n",
    "        return time\n",
    "    else:\n",
    "        return cal"
   ]
  },
  {
   "cell_type": "code",
   "execution_count": null,
   "metadata": {},
   "outputs": [],
   "source": [
    "recipe_df[\"calories\"] = recipe_df.apply(lambda x: change_time_cal(x[\"time_preparation\"], x[\"calories\"]), axis=1)"
   ]
  },
  {
   "cell_type": "code",
   "execution_count": null,
   "metadata": {},
   "outputs": [],
   "source": [
    "recipe_df[recipe_df['time_preparation'].str.contains(\"Cal\")]"
   ]
  },
  {
   "cell_type": "code",
   "execution_count": null,
   "metadata": {},
   "outputs": [],
   "source": [
    "def remove_cal_time(time,cal):\n",
    "    if re.search(\"Cal\", time) is not None:\n",
    "        return \"missing\"\n",
    "    else:\n",
    "        return time"
   ]
  },
  {
   "cell_type": "code",
   "execution_count": null,
   "metadata": {},
   "outputs": [],
   "source": [
    "recipe_df[\"time_preparation\"] = recipe_df.apply(lambda x: remove_cal_time(x[\"time_preparation\"], x[\"calories\"]), axis=1)"
   ]
  },
  {
   "cell_type": "code",
   "execution_count": null,
   "metadata": {},
   "outputs": [],
   "source": [
    "recipe_df[recipe_df['time_preparation'].str.contains(\"Cal\")]"
   ]
  },
  {
   "cell_type": "code",
   "execution_count": null,
   "metadata": {},
   "outputs": [],
   "source": [
    "recipe_df[\"time_preparation\"].unique()"
   ]
  },
  {
   "cell_type": "code",
   "execution_count": null,
   "metadata": {},
   "outputs": [],
   "source": [
    "def object_tonumber(column):\n",
    "    if column == \"missing\":\n",
    "        return None\n",
    "    else:\n",
    "        object_split = column.split(\" \")\n",
    "        result = int(object_split[0])\n",
    "        return result"
   ]
  },
  {
   "cell_type": "code",
   "execution_count": null,
   "metadata": {},
   "outputs": [],
   "source": [
    "recipe_df[\"time_preparation(min)\"] = recipe_df.apply(lambda x: object_tonumber(x[\"time_preparation\"]), axis=1)\n",
    "recipe_df[\"calories(kcal)\"] = recipe_df.apply(lambda x: object_tonumber(x[\"calories\"]), axis=1)"
   ]
  },
  {
   "cell_type": "code",
   "execution_count": null,
   "metadata": {},
   "outputs": [],
   "source": [
    "recipe_df.head()"
   ]
  },
  {
   "cell_type": "code",
   "execution_count": null,
   "metadata": {},
   "outputs": [],
   "source": [
    "# Change Intolerances column"
   ]
  },
  {
   "cell_type": "code",
   "execution_count": null,
   "metadata": {},
   "outputs": [],
   "source": [
    "# 1. I'm going to change the empty lists to None values"
   ]
  },
  {
   "cell_type": "code",
   "execution_count": null,
   "metadata": {},
   "outputs": [],
   "source": [
    "def empty_lists(column):\n",
    "    if len(column) == 0:\n",
    "        column.append(\"no notes\")\n",
    "        return column\n",
    "    else:\n",
    "        return column"
   ]
  },
  {
   "cell_type": "code",
   "execution_count": null,
   "metadata": {},
   "outputs": [],
   "source": [
    "recipe_df[\"intolerances\"] = recipe_df.apply(lambda x: empty_lists(x[\"intolerances\"]), axis=1)"
   ]
  },
  {
   "cell_type": "code",
   "execution_count": null,
   "metadata": {},
   "outputs": [],
   "source": [
    "# 2. I'm going to check all the possible values in intolerances"
   ]
  },
  {
   "cell_type": "code",
   "execution_count": null,
   "metadata": {},
   "outputs": [],
   "source": [
    "def check_intolerances_values(column, df):\n",
    "    intolerances_list = []\n",
    "    for x in df[column]:\n",
    "        intolerances_list.append(x)\n",
    "    all_intolerances = [val for sublist in intolerances_list for val in sublist]\n",
    "    return list(set(all_intolerances))"
   ]
  },
  {
   "cell_type": "code",
   "execution_count": null,
   "metadata": {},
   "outputs": [],
   "source": [
    "unique_intolerances = check_intolerances_values(\"intolerances\", recipe_df)\n",
    "\n",
    "unique_intolerances"
   ]
  },
  {
   "cell_type": "code",
   "execution_count": null,
   "metadata": {},
   "outputs": [],
   "source": [
    "intolerances_cols = [\"gluten_free\", \"egg_free\", \"sucrose_fructose_free\", \"low_sodium\", \"lactose_free\"]"
   ]
  },
  {
   "cell_type": "code",
   "execution_count": null,
   "metadata": {},
   "outputs": [],
   "source": [
    "def gluten_free(intolerances):\n",
    "    if 'Sin gluten' in intolerances:\n",
    "        return 1\n",
    "    else:\n",
    "        return 0"
   ]
  },
  {
   "cell_type": "code",
   "execution_count": null,
   "metadata": {},
   "outputs": [],
   "source": [
    "recipe_df[\"gluten_free\"] = recipe_df.apply(lambda x: gluten_free(x[\"intolerances\"]), axis=1)"
   ]
  },
  {
   "cell_type": "code",
   "execution_count": null,
   "metadata": {},
   "outputs": [],
   "source": [
    "def egg_free(intolerances):\n",
    "    if 'Sin huevo' in intolerances:\n",
    "        return 1\n",
    "    else:\n",
    "        return 0"
   ]
  },
  {
   "cell_type": "code",
   "execution_count": null,
   "metadata": {},
   "outputs": [],
   "source": [
    "recipe_df[\"egg_free\"] = recipe_df.apply(lambda x: egg_free(x[\"intolerances\"]), axis=1)"
   ]
  },
  {
   "cell_type": "code",
   "execution_count": null,
   "metadata": {},
   "outputs": [],
   "source": [
    "def sucrose_fructose_free(intolerances):\n",
    "    if 'Sin sacarosa o fructosa' in intolerances:\n",
    "        return 1\n",
    "    else:\n",
    "        return 0"
   ]
  },
  {
   "cell_type": "code",
   "execution_count": null,
   "metadata": {},
   "outputs": [],
   "source": [
    "recipe_df[\"sucrose_fructose_free\"] = recipe_df.apply(lambda x: sucrose_fructose_free(x[\"intolerances\"]), axis=1)"
   ]
  },
  {
   "cell_type": "code",
   "execution_count": null,
   "metadata": {},
   "outputs": [],
   "source": [
    "def low_sodium(intolerances):\n",
    "    if 'Baja en sodio' in intolerances:\n",
    "        return 1\n",
    "    else:\n",
    "        return 0"
   ]
  },
  {
   "cell_type": "code",
   "execution_count": null,
   "metadata": {},
   "outputs": [],
   "source": [
    "recipe_df[\"low_sodium\"] = recipe_df.apply(lambda x: low_sodium(x[\"intolerances\"]), axis=1)"
   ]
  },
  {
   "cell_type": "code",
   "execution_count": null,
   "metadata": {},
   "outputs": [],
   "source": [
    "def lactose_free(intolerances):\n",
    "    if 'Sin lactosa' in intolerances:\n",
    "        return 1\n",
    "    else:\n",
    "        return 0"
   ]
  },
  {
   "cell_type": "code",
   "execution_count": null,
   "metadata": {},
   "outputs": [],
   "source": [
    "recipe_df[\"lactose_free\"] = recipe_df.apply(lambda x: lactose_free(x[\"intolerances\"]), axis=1)"
   ]
  },
  {
   "cell_type": "code",
   "execution_count": null,
   "metadata": {},
   "outputs": [],
   "source": [
    "filter_1 = recipe_df[\"lactose_free\"] == 1\n",
    "\n",
    "recipe_df[filter_1].head()"
   ]
  },
  {
   "cell_type": "code",
   "execution_count": null,
   "metadata": {},
   "outputs": [],
   "source": [
    "def clean_ingredients(ingred_column):\n",
    "    ingred = ast.literal_eval(ingred_column)\n",
    "    ingredients_list = []\n",
    "    for ing in ingred:\n",
    "        clean_ingred = re.sub(\" para.*$\", \"\", ing)\n",
    "        ingredients_list.append(clean_ingred)\n",
    "    return (ingredients_list)\n",
    "\n",
    "recipe_df[\"ingredients_list\"] = recipe_df.apply(lambda x: clean_ingredients(x['ingredients_clean']), axis=1)"
   ]
  },
  {
   "cell_type": "code",
   "execution_count": null,
   "metadata": {},
   "outputs": [],
   "source": [
    "recipe_df.head(3)"
   ]
  },
  {
   "cell_type": "code",
   "execution_count": null,
   "metadata": {},
   "outputs": [],
   "source": [
    "#Split the ingredient list inside cells into rows in Pandas"
   ]
  },
  {
   "cell_type": "code",
   "execution_count": null,
   "metadata": {},
   "outputs": [],
   "source": [
    "recipe_df.columns"
   ]
  },
  {
   "cell_type": "code",
   "execution_count": null,
   "metadata": {},
   "outputs": [],
   "source": [
    "ingredients_df = recipe_df.ingredients_list.apply(pd.Series) \\\n",
    "    .merge(recipe_df, right_index = True, left_index = True) \\\n",
    "    .melt(id_vars = ['recipe_name', 'ingredients', 'time_preparation', 'calories',\n",
    "       'intolerances', 'recipe_url', 'recipe_image_url', 'category',\n",
    "       'ingredients_clean', 'main_category', 'time_preparation(min)',\n",
    "       'calories(kcal)', 'gluten_free', 'egg_free', 'sucrose_fructose_free',\n",
    "       'low_sodium', 'lactose_free', 'ingredients_list'], value_name = \"ingredient\")"
   ]
  },
  {
   "cell_type": "code",
   "execution_count": null,
   "metadata": {},
   "outputs": [],
   "source": [
    "ingredients_df"
   ]
  },
  {
   "cell_type": "code",
   "execution_count": null,
   "metadata": {},
   "outputs": [],
   "source": [
    "recipe_df_ingredients = ingredients_df[ingredients_df['ingredient'].notna()]"
   ]
  },
  {
   "cell_type": "code",
   "execution_count": null,
   "metadata": {},
   "outputs": [],
   "source": [
    "recipe_df_clean = recipe_df_ingredients[['recipe_name', 'time_preparation(min)', 'calories(kcal)',\n",
    "        \"ingredients_list\", 'ingredient', 'category', 'main_category', 'gluten_free', 'egg_free','sucrose_fructose_free', \n",
    "        'low_sodium', 'lactose_free','recipe_url','recipe_image_url']]"
   ]
  },
  {
   "cell_type": "code",
   "execution_count": null,
   "metadata": {},
   "outputs": [],
   "source": [
    "recipe_df_clean.reset_index(drop=True, inplace = True)"
   ]
  },
  {
   "cell_type": "code",
   "execution_count": null,
   "metadata": {},
   "outputs": [],
   "source": [
    "recipe_df_clean"
   ]
  },
  {
   "cell_type": "raw",
   "metadata": {},
   "source": [
    "all_ingredients_list= recipe_df_clean.ingredient.unique()\n",
    "\n",
    "len(all_ingredients_list)"
   ]
  },
  {
   "cell_type": "code",
   "execution_count": null,
   "metadata": {},
   "outputs": [],
   "source": [
    "filter_postre = recipe_df_clean[\"main_category\"] == \"postre\"\n",
    "\n",
    "\n",
    "recipe_df_clean[filter_postre][\"ingredient\"].value_counts()"
   ]
  },
  {
   "cell_type": "raw",
   "metadata": {},
   "source": [
    "filter_main = recipe_df_clean[\"main_category\"] == \"principal\"\n",
    "\n",
    "filter_azucar = recipe_df_clean[\"ingredient\"] == \"azucar\"\n",
    "\n",
    "filter_category = recipe_df_clean[\"category\"] == \"quiche, creps y pasteles salados\"\n",
    "\n",
    "recipe_df_clean[filter_main][filter_azucar][\"category\"].value_counts()"
   ]
  },
  {
   "cell_type": "raw",
   "metadata": {},
   "source": [
    "recipe_df_clean[filter_main][filter_azucar][filter_category]"
   ]
  },
  {
   "cell_type": "code",
   "execution_count": null,
   "metadata": {},
   "outputs": [],
   "source": [
    "def num_ingred(column):\n",
    "    return len(column)"
   ]
  },
  {
   "cell_type": "code",
   "execution_count": null,
   "metadata": {},
   "outputs": [],
   "source": [
    "recipe_df[\"num_ingredients\"] = recipe_df.apply(lambda x: num_ingred(x[\"ingredients_list\"]), axis=1)"
   ]
  },
  {
   "cell_type": "code",
   "execution_count": null,
   "metadata": {},
   "outputs": [],
   "source": [
    "recipe_df"
   ]
  },
  {
   "cell_type": "code",
   "execution_count": null,
   "metadata": {},
   "outputs": [],
   "source": [
    "def ingredients_list_str(column):\n",
    "    return str(column)"
   ]
  },
  {
   "cell_type": "code",
   "execution_count": null,
   "metadata": {},
   "outputs": [],
   "source": [
    "recipe_df[\"ingredients_list_str\"] = recipe_df.apply(lambda x: ingredients_list_str(x[\"ingredients_list\"]), axis=1)"
   ]
  },
  {
   "cell_type": "code",
   "execution_count": null,
   "metadata": {},
   "outputs": [],
   "source": []
  },
  {
   "cell_type": "code",
   "execution_count": null,
   "metadata": {},
   "outputs": [],
   "source": []
  },
  {
   "cell_type": "code",
   "execution_count": null,
   "metadata": {},
   "outputs": [],
   "source": []
  },
  {
   "cell_type": "raw",
   "metadata": {},
   "source": [
    "recipe_df[recipe_df.recipe_image_url.str.contains(\"content\")]\n",
    "\n",
    "#recipe_import_data[recipe_import_data.recipe_image_url.str.contains(\"data\")]\n",
    "#recipe_image_url"
   ]
  },
  {
   "cell_type": "raw",
   "metadata": {},
   "source": [
    "recipe_df = recipe_df[['recipe_name', 'time_preparation(min)', 'calories(kcal)',\n",
    "        \"ingredients_list\", 'gluten_free', 'egg_free','sucrose_fructose_free', \n",
    "        'low_sodium', 'lactose_free','recipe_url','recipe_image_url']]"
   ]
  },
  {
   "cell_type": "raw",
   "metadata": {},
   "source": [
    "recipe_df.to_csv (f'../data/processed/recipe_dataset.csv', index=False)"
   ]
  }
 ],
 "metadata": {
  "kernelspec": {
   "display_name": "Python [conda env:recipe_env]",
   "language": "python",
   "name": "conda-env-recipe_env-py"
  },
  "language_info": {
   "codemirror_mode": {
    "name": "ipython",
    "version": 3
   },
   "file_extension": ".py",
   "mimetype": "text/x-python",
   "name": "python",
   "nbconvert_exporter": "python",
   "pygments_lexer": "ipython3",
   "version": "3.7.7"
  }
 },
 "nbformat": 4,
 "nbformat_minor": 4
}
