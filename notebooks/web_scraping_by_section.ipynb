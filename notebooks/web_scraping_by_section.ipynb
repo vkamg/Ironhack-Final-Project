{
 "cells": [
  {
   "cell_type": "code",
   "execution_count": 1,
   "metadata": {},
   "outputs": [],
   "source": [
    "from selenium import webdriver\n",
    "import time\n",
    "import numpy as np\n",
    "import pandas as pd\n",
    "from itertools import count"
   ]
  },
  {
   "cell_type": "code",
   "execution_count": 2,
   "metadata": {},
   "outputs": [],
   "source": [
    "# Opening the Chrome and going to the Web\n",
    "\n",
    "recipe_link = 'https://www.lecturas.com/recetas/'\n",
    "chromedriver = \"/home/veronica/Ironhack/Final Project/Chrome Driver/chromedriver\"\n",
    "driver = webdriver.Chrome(chromedriver)\n",
    "driver.get(recipe_link)"
   ]
  },
  {
   "cell_type": "code",
   "execution_count": 3,
   "metadata": {},
   "outputs": [],
   "source": [
    "# Enabling cookies\n",
    "\n",
    "time.sleep(3)\n",
    "element = driver.find_elements_by_class_name('qc-cmp-button')\n",
    "element[1].click()"
   ]
  },
  {
   "cell_type": "code",
   "execution_count": 4,
   "metadata": {},
   "outputs": [],
   "source": [
    "# Selecting cat\n",
    "\n",
    "time.sleep(3)\n",
    "categories = driver.find_elements_by_tag_name('h4')\n",
    "categories[0].click()\n"
   ]
  },
  {
   "cell_type": "raw",
   "metadata": {},
   "source": [
    "categories_list = []\n",
    "for x in np.arange(len(categories)-1):\n",
    "    categories_list.append(categories[x].text)\n",
    "\n",
    "print(len(categories_list))\n",
    "categories_list"
   ]
  },
  {
   "cell_type": "raw",
   "metadata": {},
   "source": [
    "# Taking recipes (first_page)\n",
    "\n",
    "time.sleep(3)\n",
    "\n",
    "recipe_sumup_scrap = driver.find_elements_by_class_name(\"element-header\")\n",
    "\n",
    "time.sleep(3)"
   ]
  },
  {
   "cell_type": "raw",
   "metadata": {},
   "source": [
    "first_page_recipes = []\n",
    "\n",
    "for x in np.arange(len(recipe_sumup_scrap)-1):\n",
    "    recipe_dict = {}\n",
    "    time.sleep(3)\n",
    "    recipe_sumup_scrap = driver.find_elements_by_class_name(\"element-header\")\n",
    "    driver.execute_script(\"arguments[0].click()\", recipe_sumup_scrap[x])\n",
    "    #recipe_sumup_scrap[x].click()\n",
    "    time.sleep(3)\n",
    "    recipe_dict[\"recipe_name\"] = driver.find_element_by_tag_name('h1').text\n",
    "    time_scrap = driver.find_elements_by_class_name(\"metaheader-value\")\n",
    "    ingredients_list = []\n",
    "    recipe_ingred = driver.find_elements_by_tag_name('td')\n",
    "    for x in np.arange(len(recipe_ingred)-1):\n",
    "        if x % 2 != 0:\n",
    "            ingredients_list.append(recipe_ingred[x].text)\n",
    "        else:\n",
    "            pass\n",
    "    recipe_dict[\"ingredients\"] = ingredients_list\n",
    "    recipe_dict[\"time_preparation\"] = time_scrap[1].text\n",
    "    recipe_dict[\"recipe_url\"] = driver.current_url\n",
    "    first_page_recipes.append(recipe_dict)\n",
    "    driver.back()\n",
    "    time.sleep(3)"
   ]
  },
  {
   "cell_type": "code",
   "execution_count": 5,
   "metadata": {},
   "outputs": [],
   "source": [
    "#pd.DataFrame(first_page_recipes)"
   ]
  },
  {
   "cell_type": "code",
   "execution_count": 6,
   "metadata": {},
   "outputs": [],
   "source": [
    "# click to second page"
   ]
  },
  {
   "cell_type": "raw",
   "metadata": {},
   "source": [
    "time.sleep(3)\n",
    "next_button = driver.find_elements_by_class_name('next')\n",
    "next_button[0].click()"
   ]
  },
  {
   "cell_type": "raw",
   "metadata": {},
   "source": [
    "recipe_list = []\n",
    "recipe_dict = {}\n",
    "counter = count()\n",
    "n_page = 0\n",
    "\n",
    "while True:\n",
    "    next_page_btn = driver.find_elements_by_class_name('next')\n",
    "    recipe_sumup_scrap = driver.find_elements_by_class_name(\"element-header\")\n",
    "    n_page += 1\n",
    "    recipe_dict[f\"page_{n_page}\"] = {}\n",
    "    for x in np.arange(len(recipe_sumup_scrap)-1):\n",
    "        recipe_id = next(counter)\n",
    "        recipe_dict[f\"page_{n_page}\"][str(recipe_id)] = {}\n",
    "        time.sleep(2)\n",
    "        recipe_sumup_scrap = driver.find_elements_by_class_name(\"element-header\")\n",
    "        driver.execute_script(\"arguments[0].click()\", recipe_sumup_scrap[x])\n",
    "        time.sleep(2)\n",
    "        recipe_dict[f\"page_{n_page}\"][str(recipe_id)][\"recipe_name\"] = driver.find_element_by_tag_name('h1').text\n",
    "        time_scrap = driver.find_elements_by_class_name(\"metaheader-value\")\n",
    "        ingredients_list = []\n",
    "        recipe_ingred = driver.find_elements_by_tag_name('td')\n",
    "        for x in np.arange(len(recipe_ingred)-1):\n",
    "            if x % 2 != 0:\n",
    "                ingredients_list.append(recipe_ingred[x].text)\n",
    "            else:\n",
    "                pass\n",
    "        recipe_dict[f\"page_{n_page}\"][str(recipe_id)][\"ingredients\"] = ingredients_list\n",
    "        try:\n",
    "            recipe_dict[f\"page_{n_page}\"][str(recipe_id)][\"time_preparation\"] = time_scrap[1].text\n",
    "        except:\n",
    "            pass\n",
    "    recipe_dict[f\"page_{n_page}\"][str(recipe_id)][\"recipe_url\"] = driver.current_url\n",
    "    driver.back()\n",
    "    time.sleep(2)\n",
    "    recipe_list.append(recipe_dict[f\"page_{n_page}\"])\n",
    "    \n",
    "    if len(next_page_btn) < 1:\n",
    "        print(\"No more pages left\")\n",
    "        break\n",
    "        \n",
    "    else:\n",
    "        next_page_btn = driver.find_elements_by_class_name('next')\n",
    "        next_page_btn[0].click()\n",
    "        time.sleep(2)"
   ]
  },
  {
   "cell_type": "raw",
   "metadata": {},
   "source": [
    "recipe_list = []\n",
    "recipe_dict = {}\n",
    "counter = count()\n",
    "n_page = 0\n",
    "\n",
    "first_page_recipes = []\n",
    "\n",
    "for x in np.arange(len(recipe_sumup_scrap)-1):\n",
    "    recipe_dict = {}\n",
    "    time.sleep(3)\n",
    "    recipe_sumup_scrap = driver.find_elements_by_class_name(\"element-header\")\n",
    "    driver.execute_script(\"arguments[0].click()\", recipe_sumup_scrap[x])\n",
    "    #recipe_sumup_scrap[x].click()\n",
    "    time.sleep(3)\n",
    "    recipe_dict[\"recipe_name\"] = driver.find_element_by_tag_name('h1').text\n",
    "    time_scrap = driver.find_elements_by_class_name(\"metaheader-value\")\n",
    "    ingredients_list = []\n",
    "    recipe_ingred = driver.find_elements_by_tag_name('td')\n",
    "    for x in np.arange(len(recipe_ingred)-1):\n",
    "        if x % 2 != 0:\n",
    "            ingredients_list.append(recipe_ingred[x].text)\n",
    "        else:\n",
    "            pass\n",
    "    recipe_dict[\"ingredients\"] = ingredients_list\n",
    "    recipe_dict[\"time_preparation\"] = time_scrap[1].text\n",
    "    recipe_dict[\"recipe_url\"] = driver.current_url\n",
    "    first_page_recipes.append(recipe_dict)\n",
    "    driver.back()\n",
    "    time.sleep(3)"
   ]
  },
  {
   "cell_type": "code",
   "execution_count": 7,
   "metadata": {},
   "outputs": [
    {
     "name": "stdout",
     "output_type": "stream",
     "text": [
      "No more pages left\n"
     ]
    }
   ],
   "source": [
    "recipes_list = []\n",
    "while True:\n",
    "    next_page_btn = driver.find_elements_by_class_name('next')\n",
    "    if len(next_page_btn) < 1:\n",
    "        recipe_sumup_scrap = driver.find_elements_by_class_name(\"element-header\")\n",
    "        for x in np.arange(len(recipe_sumup_scrap)-1):\n",
    "            recipe_dict = {}\n",
    "            time.sleep(2)\n",
    "            recipe_sumup_scrap = driver.find_elements_by_class_name(\"element-header\")\n",
    "            driver.execute_script(\"arguments[0].click()\", recipe_sumup_scrap[x])\n",
    "            #recipe_sumup_scrap[x].click()\n",
    "            time.sleep(2)\n",
    "            recipe_dict[\"recipe_name\"] = driver.find_element_by_tag_name('h1').text\n",
    "            time_scrap = driver.find_elements_by_class_name(\"metaheader-value\")\n",
    "            ingredients_list = []\n",
    "            recipe_ingred = driver.find_elements_by_tag_name('td')\n",
    "            for x in np.arange(len(recipe_ingred)-1):\n",
    "                if x % 2 != 0:\n",
    "                    ingredients_list.append(recipe_ingred[x].text)\n",
    "                else:\n",
    "                    pass\n",
    "            recipe_dict[\"ingredients\"] = ingredients_list\n",
    "            try:\n",
    "                recipe_dict[\"time_preparation\"] = time_scrap[1].text\n",
    "            except:\n",
    "                pass\n",
    "            recipe_dict[\"recipe_url\"] = driver.current_url\n",
    "            recipes_list.append(recipe_dict)\n",
    "            driver.back()\n",
    "            time.sleep(2)\n",
    "        print(\"No more pages left\")\n",
    "        break\n",
    "    else:\n",
    "        recipe_sumup_scrap = driver.find_elements_by_class_name(\"element-header\")\n",
    "        for x in np.arange(len(recipe_sumup_scrap)-1):\n",
    "            recipe_dict = {}\n",
    "            time.sleep(2)\n",
    "            recipe_sumup_scrap = driver.find_elements_by_class_name(\"element-header\")\n",
    "            driver.execute_script(\"arguments[0].click()\", recipe_sumup_scrap[x])\n",
    "            #recipe_sumup_scrap[x].click()\n",
    "            time.sleep(3)\n",
    "            recipe_dict[\"recipe_name\"] = driver.find_element_by_tag_name('h1').text\n",
    "            time_scrap = driver.find_elements_by_class_name(\"metaheader-value\")\n",
    "            ingredients_list = []\n",
    "            recipe_ingred = driver.find_elements_by_tag_name('td')\n",
    "            for x in np.arange(len(recipe_ingred)-1):\n",
    "                if x % 2 != 0:\n",
    "                    ingredients_list.append(recipe_ingred[x].text)\n",
    "                else:\n",
    "                    pass\n",
    "            recipe_dict[\"ingredients\"] = ingredients_list\n",
    "            try:\n",
    "                recipe_dict[\"time_preparation\"] = time_scrap[1].text\n",
    "            except:\n",
    "                pass\n",
    "            recipe_dict[\"recipe_url\"] = driver.current_url\n",
    "            recipes_list.append(recipe_dict)\n",
    "            driver.back()\n",
    "            time.sleep(2)\n",
    "        next_page_btn = driver.find_elements_by_css_selector(\".next [href]\")\n",
    "        driver.execute_script(\"arguments[0].click()\", next_page_btn[0])\n",
    "        time.sleep(2)"
   ]
  },
  {
   "cell_type": "raw",
   "metadata": {},
   "source": [
    "next_page_btn = driver.find_elements_by_css_selector(\".next [href]\")\n",
    "driver.execute_script(\"arguments[0].click()\", next_page_btn[0])\n"
   ]
  },
  {
   "cell_type": "raw",
   "metadata": {},
   "source": [
    "next_button = driver.find_elements_by_class_name('next')\n",
    "\n",
    "while element:\n",
    "    driver.execute_script(\"arguments[0].click()\", next_button[0])\n",
    "    time.sleep(2)\n",
    "    next_button = driver.find_elements_by_class_name('next')"
   ]
  },
  {
   "cell_type": "code",
   "execution_count": 8,
   "metadata": {},
   "outputs": [],
   "source": [
    "df = pd.DataFrame(recipes_list)"
   ]
  },
  {
   "cell_type": "code",
   "execution_count": 9,
   "metadata": {},
   "outputs": [],
   "source": [
    "#pd.DataFrame(first_page_recipes)"
   ]
  },
  {
   "cell_type": "code",
   "execution_count": 10,
   "metadata": {},
   "outputs": [
    {
     "data": {
      "text/plain": [
       "Cestitos con ensalada de manzana y queso           13\n",
       "Ensalada de berros con manzana y salsa de yogur    13\n",
       "Ensalada de tomate con miel y romero               13\n",
       "Ensaladilla rusa                                    2\n",
       "Ensalada de arroz a la marinera                     2\n",
       "                                                   ..\n",
       "Endivias con ensaladilla rusa                       1\n",
       "Cóctel de langostinos                               1\n",
       "Ensalada de arroz con aceitunas y pepino            1\n",
       "Ensalada especial de mejillones y berberechos       1\n",
       "Tabulé fresco de coliflor                           1\n",
       "Name: recipe_name, Length: 278, dtype: int64"
      ]
     },
     "execution_count": 10,
     "metadata": {},
     "output_type": "execute_result"
    }
   ],
   "source": [
    "df[\"recipe_name\"].value_counts()"
   ]
  },
  {
   "cell_type": "code",
   "execution_count": 11,
   "metadata": {},
   "outputs": [
    {
     "data": {
      "text/html": [
       "<div>\n",
       "<style scoped>\n",
       "    .dataframe tbody tr th:only-of-type {\n",
       "        vertical-align: middle;\n",
       "    }\n",
       "\n",
       "    .dataframe tbody tr th {\n",
       "        vertical-align: top;\n",
       "    }\n",
       "\n",
       "    .dataframe thead th {\n",
       "        text-align: right;\n",
       "    }\n",
       "</style>\n",
       "<table border=\"1\" class=\"dataframe\">\n",
       "  <thead>\n",
       "    <tr style=\"text-align: right;\">\n",
       "      <th></th>\n",
       "      <th>recipe_name</th>\n",
       "      <th>ingredients</th>\n",
       "      <th>time_preparation</th>\n",
       "      <th>recipe_url</th>\n",
       "    </tr>\n",
       "  </thead>\n",
       "  <tbody>\n",
       "    <tr>\n",
       "      <th>0</th>\n",
       "      <td>Ensalada niçoise</td>\n",
       "      <td>[patatas pequeñas rojas, huevos, judías verdes...</td>\n",
       "      <td>60 min</td>\n",
       "      <td>https://www.lecturas.com/recetas/ensalada-nico...</td>\n",
       "    </tr>\n",
       "    <tr>\n",
       "      <th>1</th>\n",
       "      <td>Ensalada del périgord</td>\n",
       "      <td>[foie micuit, beicon gruesas, champiñones, ber...</td>\n",
       "      <td>25 min</td>\n",
       "      <td>https://www.lecturas.com/recetas/ensalada-peri...</td>\n",
       "    </tr>\n",
       "    <tr>\n",
       "      <th>2</th>\n",
       "      <td>Xató con salsa romesco</td>\n",
       "      <td>[bacalao desalado, cebolleta, escarolas, aceit...</td>\n",
       "      <td>35 min</td>\n",
       "      <td>https://www.lecturas.com/recetas/xato-salsa-ro...</td>\n",
       "    </tr>\n",
       "    <tr>\n",
       "      <th>3</th>\n",
       "      <td>Ensalada de ceviche de langostinos y cebolla</td>\n",
       "      <td>[langostinos, pimienta, limas, tomates, ceboll...</td>\n",
       "      <td>25 min</td>\n",
       "      <td>https://www.lecturas.com/recetas/ensalada-cevi...</td>\n",
       "    </tr>\n",
       "    <tr>\n",
       "      <th>4</th>\n",
       "      <td>Ensalada de pollo, remolacha y manzana</td>\n",
       "      <td>[pechugas de pollo, manzanas ácida, col lombar...</td>\n",
       "      <td>40 min</td>\n",
       "      <td>https://www.lecturas.com/recetas/ensalada-poll...</td>\n",
       "    </tr>\n",
       "    <tr>\n",
       "      <th>...</th>\n",
       "      <td>...</td>\n",
       "      <td>...</td>\n",
       "      <td>...</td>\n",
       "      <td>...</td>\n",
       "    </tr>\n",
       "    <tr>\n",
       "      <th>311</th>\n",
       "      <td>Patatas con mejillones con salsa de yogur y menta</td>\n",
       "      <td>[patatas, mejillones, yogures, pimienta negra,...</td>\n",
       "      <td>30 min</td>\n",
       "      <td>https://www.lecturas.com/recetas/patatas-mejil...</td>\n",
       "    </tr>\n",
       "    <tr>\n",
       "      <th>312</th>\n",
       "      <td>Ensalada de arroz con vinagreta de mostaza</td>\n",
       "      <td>[arroz, maíz cocido, tomate, jamón cocido, ceb...</td>\n",
       "      <td>25 min</td>\n",
       "      <td>https://www.lecturas.com/recetas/ensalada-arro...</td>\n",
       "    </tr>\n",
       "    <tr>\n",
       "      <th>313</th>\n",
       "      <td>Cestitos con ensalada de manzana y queso</td>\n",
       "      <td>[pasta brick, lechugas, canónigos, escarolas, ...</td>\n",
       "      <td>35 min</td>\n",
       "      <td>https://www.lecturas.com/recetas/cestitos-ensa...</td>\n",
       "    </tr>\n",
       "    <tr>\n",
       "      <th>314</th>\n",
       "      <td>Ensalada de berros con manzana y salsa de yogur</td>\n",
       "      <td>[berros, manzana, nueces, uvas pasas, apio, pe...</td>\n",
       "      <td>25 min</td>\n",
       "      <td>https://www.lecturas.com/recetas/ensalada-berr...</td>\n",
       "    </tr>\n",
       "    <tr>\n",
       "      <th>315</th>\n",
       "      <td>Ensalada de tomate con miel y romero</td>\n",
       "      <td>[tomates, rúcula, queso curado, nueces, romero...</td>\n",
       "      <td>15 min</td>\n",
       "      <td>https://www.lecturas.com/recetas/ensalada-toma...</td>\n",
       "    </tr>\n",
       "  </tbody>\n",
       "</table>\n",
       "<p>316 rows × 4 columns</p>\n",
       "</div>"
      ],
      "text/plain": [
       "                                           recipe_name  \\\n",
       "0                                     Ensalada niçoise   \n",
       "1                                Ensalada del périgord   \n",
       "2                               Xató con salsa romesco   \n",
       "3         Ensalada de ceviche de langostinos y cebolla   \n",
       "4               Ensalada de pollo, remolacha y manzana   \n",
       "..                                                 ...   \n",
       "311  Patatas con mejillones con salsa de yogur y menta   \n",
       "312         Ensalada de arroz con vinagreta de mostaza   \n",
       "313           Cestitos con ensalada de manzana y queso   \n",
       "314    Ensalada de berros con manzana y salsa de yogur   \n",
       "315               Ensalada de tomate con miel y romero   \n",
       "\n",
       "                                           ingredients time_preparation  \\\n",
       "0    [patatas pequeñas rojas, huevos, judías verdes...           60 min   \n",
       "1    [foie micuit, beicon gruesas, champiñones, ber...           25 min   \n",
       "2    [bacalao desalado, cebolleta, escarolas, aceit...           35 min   \n",
       "3    [langostinos, pimienta, limas, tomates, ceboll...           25 min   \n",
       "4    [pechugas de pollo, manzanas ácida, col lombar...           40 min   \n",
       "..                                                 ...              ...   \n",
       "311  [patatas, mejillones, yogures, pimienta negra,...           30 min   \n",
       "312  [arroz, maíz cocido, tomate, jamón cocido, ceb...           25 min   \n",
       "313  [pasta brick, lechugas, canónigos, escarolas, ...           35 min   \n",
       "314  [berros, manzana, nueces, uvas pasas, apio, pe...           25 min   \n",
       "315  [tomates, rúcula, queso curado, nueces, romero...           15 min   \n",
       "\n",
       "                                            recipe_url  \n",
       "0    https://www.lecturas.com/recetas/ensalada-nico...  \n",
       "1    https://www.lecturas.com/recetas/ensalada-peri...  \n",
       "2    https://www.lecturas.com/recetas/xato-salsa-ro...  \n",
       "3    https://www.lecturas.com/recetas/ensalada-cevi...  \n",
       "4    https://www.lecturas.com/recetas/ensalada-poll...  \n",
       "..                                                 ...  \n",
       "311  https://www.lecturas.com/recetas/patatas-mejil...  \n",
       "312  https://www.lecturas.com/recetas/ensalada-arro...  \n",
       "313  https://www.lecturas.com/recetas/cestitos-ensa...  \n",
       "314  https://www.lecturas.com/recetas/ensalada-berr...  \n",
       "315  https://www.lecturas.com/recetas/ensalada-toma...  \n",
       "\n",
       "[316 rows x 4 columns]"
      ]
     },
     "execution_count": 11,
     "metadata": {},
     "output_type": "execute_result"
    }
   ],
   "source": [
    "df"
   ]
  },
  {
   "cell_type": "code",
   "execution_count": null,
   "metadata": {},
   "outputs": [],
   "source": []
  }
 ],
 "metadata": {
  "kernelspec": {
   "display_name": "Python [conda env:recipe_env]",
   "language": "python",
   "name": "conda-env-recipe_env-py"
  },
  "language_info": {
   "codemirror_mode": {
    "name": "ipython",
    "version": 3
   },
   "file_extension": ".py",
   "mimetype": "text/x-python",
   "name": "python",
   "nbconvert_exporter": "python",
   "pygments_lexer": "ipython3",
   "version": "3.7.7"
  }
 },
 "nbformat": 4,
 "nbformat_minor": 4
}
