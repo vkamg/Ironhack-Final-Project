{
 "cells": [
  {
   "cell_type": "code",
   "execution_count": 1,
   "metadata": {},
   "outputs": [],
   "source": [
    "import pandas as pd\n",
    "import re"
   ]
  },
  {
   "cell_type": "code",
   "execution_count": 6,
   "metadata": {},
   "outputs": [],
   "source": [
    "recipe_df = pd.read_csv('../data/processed/recipe_dataset.csv')"
   ]
  },
  {
   "cell_type": "code",
   "execution_count": 7,
   "metadata": {},
   "outputs": [
    {
     "data": {
      "text/html": [
       "<div>\n",
       "<style scoped>\n",
       "    .dataframe tbody tr th:only-of-type {\n",
       "        vertical-align: middle;\n",
       "    }\n",
       "\n",
       "    .dataframe tbody tr th {\n",
       "        vertical-align: top;\n",
       "    }\n",
       "\n",
       "    .dataframe thead th {\n",
       "        text-align: right;\n",
       "    }\n",
       "</style>\n",
       "<table border=\"1\" class=\"dataframe\">\n",
       "  <thead>\n",
       "    <tr style=\"text-align: right;\">\n",
       "      <th></th>\n",
       "      <th>recipe_name</th>\n",
       "      <th>time_preparation(min)</th>\n",
       "      <th>calories(kcal)</th>\n",
       "      <th>ingredient</th>\n",
       "      <th>gluten_free</th>\n",
       "      <th>egg_free</th>\n",
       "      <th>sucrose_fructose_free</th>\n",
       "      <th>low_sodium</th>\n",
       "      <th>lactose_free</th>\n",
       "      <th>recipe_url</th>\n",
       "      <th>recipe_image_url</th>\n",
       "    </tr>\n",
       "  </thead>\n",
       "  <tbody>\n",
       "    <tr>\n",
       "      <th>0</th>\n",
       "      <td>Ensalada niçoise</td>\n",
       "      <td>60.0</td>\n",
       "      <td>252.0</td>\n",
       "      <td>patatas pequeñas rojas</td>\n",
       "      <td>0</td>\n",
       "      <td>0</td>\n",
       "      <td>0</td>\n",
       "      <td>0</td>\n",
       "      <td>0</td>\n",
       "      <td>https://www.lecturas.com/recetas/ensalada-nico...</td>\n",
       "      <td>https://content-recetas.lecturas.com/medio/201...</td>\n",
       "    </tr>\n",
       "    <tr>\n",
       "      <th>1</th>\n",
       "      <td>Ensalada del périgord</td>\n",
       "      <td>25.0</td>\n",
       "      <td>386.0</td>\n",
       "      <td>foie micuit</td>\n",
       "      <td>0</td>\n",
       "      <td>0</td>\n",
       "      <td>0</td>\n",
       "      <td>0</td>\n",
       "      <td>0</td>\n",
       "      <td>https://www.lecturas.com/recetas/ensalada-peri...</td>\n",
       "      <td>https://content-recetas.lecturas.com/medio/201...</td>\n",
       "    </tr>\n",
       "    <tr>\n",
       "      <th>2</th>\n",
       "      <td>Xató con salsa romesco</td>\n",
       "      <td>35.0</td>\n",
       "      <td>NaN</td>\n",
       "      <td>bacalao desalado</td>\n",
       "      <td>0</td>\n",
       "      <td>0</td>\n",
       "      <td>0</td>\n",
       "      <td>0</td>\n",
       "      <td>0</td>\n",
       "      <td>https://www.lecturas.com/recetas/xato-salsa-ro...</td>\n",
       "      <td>https://content-recetas.lecturas.com/medio/202...</td>\n",
       "    </tr>\n",
       "    <tr>\n",
       "      <th>3</th>\n",
       "      <td>Ensalada de ceviche de langostinos y cebolla</td>\n",
       "      <td>25.0</td>\n",
       "      <td>176.0</td>\n",
       "      <td>langostinos</td>\n",
       "      <td>0</td>\n",
       "      <td>0</td>\n",
       "      <td>0</td>\n",
       "      <td>0</td>\n",
       "      <td>0</td>\n",
       "      <td>https://www.lecturas.com/recetas/ensalada-cevi...</td>\n",
       "      <td>https://content-recetas.lecturas.com/medio/201...</td>\n",
       "    </tr>\n",
       "    <tr>\n",
       "      <th>4</th>\n",
       "      <td>Ensalada de pollo, remolacha y manzana</td>\n",
       "      <td>40.0</td>\n",
       "      <td>203.0</td>\n",
       "      <td>pechugas de pollo</td>\n",
       "      <td>0</td>\n",
       "      <td>0</td>\n",
       "      <td>0</td>\n",
       "      <td>0</td>\n",
       "      <td>0</td>\n",
       "      <td>https://www.lecturas.com/recetas/ensalada-poll...</td>\n",
       "      <td>https://content-recetas.lecturas.com/medio/201...</td>\n",
       "    </tr>\n",
       "  </tbody>\n",
       "</table>\n",
       "</div>"
      ],
      "text/plain": [
       "                                    recipe_name  time_preparation(min)  \\\n",
       "0                              Ensalada niçoise                   60.0   \n",
       "1                         Ensalada del périgord                   25.0   \n",
       "2                        Xató con salsa romesco                   35.0   \n",
       "3  Ensalada de ceviche de langostinos y cebolla                   25.0   \n",
       "4        Ensalada de pollo, remolacha y manzana                   40.0   \n",
       "\n",
       "   calories(kcal)              ingredient  gluten_free  egg_free  \\\n",
       "0           252.0  patatas pequeñas rojas            0         0   \n",
       "1           386.0             foie micuit            0         0   \n",
       "2             NaN        bacalao desalado            0         0   \n",
       "3           176.0             langostinos            0         0   \n",
       "4           203.0       pechugas de pollo            0         0   \n",
       "\n",
       "   sucrose_fructose_free  low_sodium  lactose_free  \\\n",
       "0                      0           0             0   \n",
       "1                      0           0             0   \n",
       "2                      0           0             0   \n",
       "3                      0           0             0   \n",
       "4                      0           0             0   \n",
       "\n",
       "                                          recipe_url  \\\n",
       "0  https://www.lecturas.com/recetas/ensalada-nico...   \n",
       "1  https://www.lecturas.com/recetas/ensalada-peri...   \n",
       "2  https://www.lecturas.com/recetas/xato-salsa-ro...   \n",
       "3  https://www.lecturas.com/recetas/ensalada-cevi...   \n",
       "4  https://www.lecturas.com/recetas/ensalada-poll...   \n",
       "\n",
       "                                    recipe_image_url  \n",
       "0  https://content-recetas.lecturas.com/medio/201...  \n",
       "1  https://content-recetas.lecturas.com/medio/201...  \n",
       "2  https://content-recetas.lecturas.com/medio/202...  \n",
       "3  https://content-recetas.lecturas.com/medio/201...  \n",
       "4  https://content-recetas.lecturas.com/medio/201...  "
      ]
     },
     "execution_count": 7,
     "metadata": {},
     "output_type": "execute_result"
    }
   ],
   "source": [
    "recipe_df.head()"
   ]
  },
  {
   "cell_type": "code",
   "execution_count": 2,
   "metadata": {},
   "outputs": [
    {
     "name": "stdin",
     "output_type": "stream",
     "text": [
      "¿Qué tienes hoy en la nevera? pollo\n"
     ]
    }
   ],
   "source": [
    "# Introduce an input\n",
    "\n",
    "ingredient = input('¿Qué tienes hoy en la nevera?')"
   ]
  },
  {
   "cell_type": "code",
   "execution_count": 3,
   "metadata": {},
   "outputs": [
    {
     "data": {
      "text/plain": [
       "'pollo'"
      ]
     },
     "execution_count": 3,
     "metadata": {},
     "output_type": "execute_result"
    }
   ],
   "source": [
    "ingredient"
   ]
  },
  {
   "cell_type": "code",
   "execution_count": null,
   "metadata": {},
   "outputs": [],
   "source": []
  },
  {
   "cell_type": "code",
   "execution_count": null,
   "metadata": {},
   "outputs": [],
   "source": []
  },
  {
   "cell_type": "code",
   "execution_count": null,
   "metadata": {},
   "outputs": [],
   "source": []
  },
  {
   "cell_type": "code",
   "execution_count": null,
   "metadata": {},
   "outputs": [],
   "source": []
  },
  {
   "cell_type": "code",
   "execution_count": null,
   "metadata": {},
   "outputs": [],
   "source": []
  }
 ],
 "metadata": {
  "kernelspec": {
   "display_name": "Python [conda env:recipe_env]",
   "language": "python",
   "name": "conda-env-recipe_env-py"
  },
  "language_info": {
   "codemirror_mode": {
    "name": "ipython",
    "version": 3
   },
   "file_extension": ".py",
   "mimetype": "text/x-python",
   "name": "python",
   "nbconvert_exporter": "python",
   "pygments_lexer": "ipython3",
   "version": "3.7.7"
  }
 },
 "nbformat": 4,
 "nbformat_minor": 4
}
