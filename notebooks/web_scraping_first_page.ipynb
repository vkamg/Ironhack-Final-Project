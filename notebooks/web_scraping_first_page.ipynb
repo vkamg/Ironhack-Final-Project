{
 "cells": [
  {
   "cell_type": "code",
   "execution_count": 1,
   "metadata": {},
   "outputs": [],
   "source": [
    "from selenium import webdriver\n",
    "import time\n",
    "import numpy as np\n",
    "import pandas as pd"
   ]
  },
  {
   "cell_type": "code",
   "execution_count": 2,
   "metadata": {},
   "outputs": [],
   "source": [
    "# Opening the Chrome and going to the Web\n",
    "\n",
    "recipe_link = 'https://www.lecturas.com/recetas/faciles/'\n",
    "chromedriver = \"/home/veronica/Ironhack/Final Project/Chrome Driver/chromedriver\"\n",
    "driver = webdriver.Chrome(chromedriver)\n",
    "driver.get(recipe_link)"
   ]
  },
  {
   "cell_type": "code",
   "execution_count": 3,
   "metadata": {},
   "outputs": [],
   "source": [
    "# Enabling cookies\n",
    "\n",
    "time.sleep(3)\n",
    "element = driver.find_elements_by_class_name('qc-cmp-button')\n",
    "element[1].click()"
   ]
  },
  {
   "cell_type": "raw",
   "metadata": {},
   "source": [
    "# Function:\n",
    "\n",
    "time.sleep(3)\n",
    "recipe_sumup_scrap = driver.find_elements_by_tag_name('h3')\n",
    "\n",
    "recipe_sumup = recipe_sumup_scrap[9:]\n",
    "\n",
    "first_page_recipes = []\n",
    "\n",
    "for x in np.arange(len(recipe_sumup)-1):\n",
    "    try:\n",
    "        recipe_dict = {}\n",
    "        recipe_sumup[x].click()\n",
    "        time.sleep(3)\n",
    "        recipe_dict[\"recipe_name\"] = driver.find_element_by_tag_name('h1').text\n",
    "        time_scrap = driver.find_elements_by_class_name(\"metaheader-value\")\n",
    "        ingredients_list = []\n",
    "        recipe_ingred = driver.find_elements_by_tag_name('td')\n",
    "        for x in np.arange(len(recipe_ingred)-1):\n",
    "            if x % 2 != 0:\n",
    "                ingredients_list.append(recipe_ingred[x].text)\n",
    "            else:\n",
    "                pass\n",
    "        recipe_dict[\"ingredients\"] = ingredients_list\n",
    "        recipe_dict[\"time_preparation\"] = time_scrap[1].text\n",
    "        recipe_dict[\"recipe_url\"] = driver.current_url\n",
    "        first_page_recipes.append(recipe_dict)\n",
    "        driver.back()\n",
    "        time.sleep(3)\n",
    "        recipe_sumup_scrap = driver.find_elements_by_tag_name('h3')\n",
    "        recipe_sumup = recipe_sumup_scrap[9:]\n",
    "        \n",
    "    except:\n",
    "        pass"
   ]
  },
  {
   "cell_type": "raw",
   "metadata": {},
   "source": [
    "# Dataframe\n",
    "\n",
    "pd.DataFrame(first_page_recipes)"
   ]
  },
  {
   "cell_type": "code",
   "execution_count": 5,
   "metadata": {},
   "outputs": [
    {
     "ename": "KeyboardInterrupt",
     "evalue": "",
     "output_type": "error",
     "traceback": [
      "\u001b[0;31m---------------------------------------------------------------------------\u001b[0m",
      "\u001b[0;31mKeyboardInterrupt\u001b[0m                         Traceback (most recent call last)",
      "\u001b[0;32m<ipython-input-5-94d17b11cf88>\u001b[0m in \u001b[0;36m<module>\u001b[0;34m\u001b[0m\n\u001b[1;32m      6\u001b[0m \u001b[0;32mwhile\u001b[0m \u001b[0melement\u001b[0m\u001b[0;34m:\u001b[0m\u001b[0;34m\u001b[0m\u001b[0;34m\u001b[0m\u001b[0m\n\u001b[1;32m      7\u001b[0m     \u001b[0mdriver\u001b[0m\u001b[0;34m.\u001b[0m\u001b[0mexecute_script\u001b[0m\u001b[0;34m(\u001b[0m\u001b[0;34m\"arguments[0].click()\"\u001b[0m\u001b[0;34m,\u001b[0m \u001b[0melement\u001b[0m\u001b[0;34m[\u001b[0m\u001b[0;36m0\u001b[0m\u001b[0;34m]\u001b[0m\u001b[0;34m)\u001b[0m\u001b[0;34m\u001b[0m\u001b[0;34m\u001b[0m\u001b[0m\n\u001b[0;32m----> 8\u001b[0;31m     \u001b[0mtime\u001b[0m\u001b[0;34m.\u001b[0m\u001b[0msleep\u001b[0m\u001b[0;34m(\u001b[0m\u001b[0;36m2\u001b[0m\u001b[0;34m)\u001b[0m\u001b[0;34m\u001b[0m\u001b[0;34m\u001b[0m\u001b[0m\n\u001b[0m\u001b[1;32m      9\u001b[0m     \u001b[0melement\u001b[0m \u001b[0;34m=\u001b[0m \u001b[0mdriver\u001b[0m\u001b[0;34m.\u001b[0m\u001b[0mfind_elements_by_class_name\u001b[0m\u001b[0;34m(\u001b[0m\u001b[0;34m'btn-more'\u001b[0m\u001b[0;34m)\u001b[0m\u001b[0;34m\u001b[0m\u001b[0;34m\u001b[0m\u001b[0m\n",
      "\u001b[0;31mKeyboardInterrupt\u001b[0m: "
     ]
    }
   ],
   "source": [
    "# Second page\n",
    "\n",
    "time.sleep(2)\n",
    "element = driver.find_elements_by_class_name('btn-more')\n",
    "\n",
    "while element:\n",
    "    driver.execute_script(\"arguments[0].click()\", element[0])\n",
    "    time.sleep(2)\n",
    "    element = driver.find_elements_by_class_name('btn-more')"
   ]
  },
  {
   "cell_type": "code",
   "execution_count": null,
   "metadata": {},
   "outputs": [],
   "source": [
    "# Function_2:\n",
    "\n",
    "time.sleep(3)\n",
    "\n",
    "#recipe_sumup_scrap = driver.find_elements_by_tag_name('h3')\n",
    "\n",
    "recipe_sumup_scrap = driver.find_elements_by_class_name(\"element-header\")\n",
    "\n",
    "time.sleep(3)"
   ]
  },
  {
   "cell_type": "code",
   "execution_count": null,
   "metadata": {},
   "outputs": [],
   "source": [
    "len(recipe_sumup_scrap)"
   ]
  },
  {
   "cell_type": "code",
   "execution_count": null,
   "metadata": {},
   "outputs": [],
   "source": [
    "recipes_list_dirty = []\n",
    "for x in np.arange(len(recipe_sumup_scrap)-1):\n",
    "    recipes_list_dirty.append(recipe_sumup_scrap[x].text)\n",
    "\n",
    "recipes_list_clean = recipes_list_dirty\n",
    "print(len(recipes_list_clean))\n",
    "recipes_list_clean"
   ]
  },
  {
   "cell_type": "raw",
   "metadata": {},
   "source": [
    "second_page_recipes = []\n",
    "\n",
    "for x in np.arange(len(recipe_sumup_scrap)-1):\n",
    "    try:\n",
    "        recipe_dict = {}\n",
    "        time.sleep(5)\n",
    "        recipe_sumup_scrap = driver.find_elements_by_class_name(\"element-header\")\n",
    "        recipe_sumup_scrap[x].click()\n",
    "        time.sleep(3)\n",
    "        recipe_dict[\"recipe_name\"] = driver.find_element_by_tag_name('h1').text\n",
    "        time_scrap = driver.find_elements_by_class_name(\"metaheader-value\")\n",
    "        ingredients_list = []\n",
    "        recipe_ingred = driver.find_elements_by_tag_name('td')\n",
    "        for x in np.arange(len(recipe_ingred)-1):\n",
    "            if x % 2 != 0:\n",
    "                ingredients_list.append(recipe_ingred[x].text)\n",
    "            else:\n",
    "                pass\n",
    "        recipe_dict[\"ingredients\"] = ingredients_list\n",
    "        recipe_dict[\"time_preparation\"] = time_scrap[1].text\n",
    "        recipe_dict[\"recipe_url\"] = driver.current_url\n",
    "        second_page_recipes.append(recipe_dict)\n",
    "        driver.back()\n",
    "        time.sleep(3)\n",
    "        element = driver.find_elements_by_class_name('btn-more')\n",
    "        element[0].click()\n",
    "    except:\n",
    "        driver.execute_script(\"arguments[x].click();\", recipe_sumup_scrap)"
   ]
  },
  {
   "cell_type": "raw",
   "metadata": {},
   "source": [
    "second_page_recipes = []\n",
    "\n",
    "for x in np.arange(len(recipe_sumup_scrap)-1):\n",
    "    recipe_dict = {}\n",
    "    time.sleep(3)\n",
    "    recipe_sumup_scrap = driver.find_elements_by_class_name(\"element-header\")\n",
    "    driver.execute_script(\"arguments[0].click()\", recipe_sumup_scrap[x])\n",
    "    #recipe_sumup_scrap[x].click()\n",
    "    time.sleep(3)\n",
    "    recipe_dict[\"recipe_name\"] = driver.find_element_by_tag_name('h1').text\n",
    "    time_scrap = driver.find_elements_by_class_name(\"metaheader-value\")\n",
    "    ingredients_list = []\n",
    "    recipe_ingred = driver.find_elements_by_tag_name('td')\n",
    "    for x in np.arange(len(recipe_ingred)-1):\n",
    "        if x % 2 != 0:\n",
    "            ingredients_list.append(recipe_ingred[x].text)\n",
    "        else:\n",
    "            pass\n",
    "    recipe_dict[\"ingredients\"] = ingredients_list\n",
    "    recipe_dict[\"time_preparation\"] = time_scrap[1].text\n",
    "    recipe_dict[\"recipe_url\"] = driver.current_url\n",
    "    second_page_recipes.append(recipe_dict)\n",
    "    driver.back()\n",
    "    time.sleep(3)\n",
    "    element = driver.find_elements_by_class_name('btn-more')\n",
    "    driver.execute_script(\"arguments[0].click()\", element[0])"
   ]
  },
  {
   "cell_type": "code",
   "execution_count": null,
   "metadata": {},
   "outputs": [],
   "source": [
    "#pd.DataFrame(second_page_recipes)"
   ]
  },
  {
   "cell_type": "code",
   "execution_count": null,
   "metadata": {},
   "outputs": [],
   "source": []
  }
 ],
 "metadata": {
  "kernelspec": {
   "display_name": "Python [conda env:data_env]",
   "language": "python",
   "name": "conda-env-data_env-py"
  },
  "language_info": {
   "codemirror_mode": {
    "name": "ipython",
    "version": 3
   },
   "file_extension": ".py",
   "mimetype": "text/x-python",
   "name": "python",
   "nbconvert_exporter": "python",
   "pygments_lexer": "ipython3",
   "version": "3.7.5"
  }
 },
 "nbformat": 4,
 "nbformat_minor": 4
}
