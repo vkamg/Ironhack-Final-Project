{
 "cells": [
  {
   "cell_type": "code",
   "execution_count": 1,
   "metadata": {},
   "outputs": [],
   "source": [
    "from selenium import webdriver\n",
    "import time\n",
    "import numpy as np\n",
    "import pandas as pd"
   ]
  },
  {
   "cell_type": "code",
   "execution_count": 2,
   "metadata": {},
   "outputs": [],
   "source": [
    "# Opening the Chrome and going to the Web\n",
    "\n",
    "recipe_link = 'https://www.lecturas.com/recetas/faciles/'\n",
    "chromedriver = \"/home/veronica/Ironhack/Final Project/Chrome Driver/chromedriver\"\n",
    "driver = webdriver.Chrome(chromedriver)\n",
    "driver.get(recipe_link)"
   ]
  },
  {
   "cell_type": "code",
   "execution_count": 3,
   "metadata": {},
   "outputs": [],
   "source": [
    "# Enabling cookies\n",
    "\n",
    "time.sleep(3)\n",
    "element = driver.find_elements_by_class_name('qc-cmp-button')\n",
    "element[1].click()"
   ]
  },
  {
   "cell_type": "code",
   "execution_count": 4,
   "metadata": {},
   "outputs": [],
   "source": [
    "# Function:\n",
    "\n",
    "time.sleep(3)\n",
    "recipe_sumup_scrap = driver.find_elements_by_tag_name('h3')\n",
    "\n",
    "recipe_sumup = recipe_sumup_scrap[9:]\n",
    "\n",
    "first_page_recipes = []\n",
    "\n",
    "for x in np.arange(len(recipe_sumup)-1):\n",
    "    try:\n",
    "        recipe_dict = {}\n",
    "        recipe_sumup[x].click()\n",
    "        time.sleep(3)\n",
    "        recipe_dict[\"recipe_name\"] = driver.find_element_by_tag_name('h1').text\n",
    "        time_scrap = driver.find_elements_by_class_name(\"metaheader-value\")\n",
    "        ingredients_list = []\n",
    "        recipe_ingred = driver.find_elements_by_tag_name('td')\n",
    "        for x in np.arange(len(recipe_ingred)):\n",
    "            if x % 2 != 0:\n",
    "                ingredients_list.append(recipe_ingred[x].text)\n",
    "            else:\n",
    "                pass\n",
    "        recipe_dict[\"ingredients\"] = ingredients_list\n",
    "        recipe_dict[\"time_preparation\"] = time_scrap[1].text\n",
    "        recipe_dict[\"recipe_url\"] = driver.current_url\n",
    "        first_page_recipes.append(recipe_dict)\n",
    "        driver.back()\n",
    "        time.sleep(3)\n",
    "        recipe_sumup_scrap = driver.find_elements_by_tag_name('h3')\n",
    "        recipe_sumup = recipe_sumup_scrap[9:]\n",
    "        \n",
    "    except:\n",
    "        pass"
   ]
  },
  {
   "cell_type": "code",
   "execution_count": 7,
   "metadata": {},
   "outputs": [
    {
     "data": {
      "text/html": [
       "<div>\n",
       "<style scoped>\n",
       "    .dataframe tbody tr th:only-of-type {\n",
       "        vertical-align: middle;\n",
       "    }\n",
       "\n",
       "    .dataframe tbody tr th {\n",
       "        vertical-align: top;\n",
       "    }\n",
       "\n",
       "    .dataframe thead th {\n",
       "        text-align: right;\n",
       "    }\n",
       "</style>\n",
       "<table border=\"1\" class=\"dataframe\">\n",
       "  <thead>\n",
       "    <tr style=\"text-align: right;\">\n",
       "      <th></th>\n",
       "      <th>recipe_name</th>\n",
       "      <th>ingredients</th>\n",
       "      <th>time_preparation</th>\n",
       "      <th>recipe_url</th>\n",
       "    </tr>\n",
       "  </thead>\n",
       "  <tbody>\n",
       "    <tr>\n",
       "      <th>0</th>\n",
       "      <td>Huevos al plato con verduras</td>\n",
       "      <td>[huevo, pimiento rojo, judía verde, cebolla, diente de ajo, jamón serrano, caldo de verduras, aceite de oliva, pimentón, sal, pimienta]</td>\n",
       "      <td>75 min</td>\n",
       "      <td>https://www.lecturas.com/recetas/huevos-plato-verduras_3860.html</td>\n",
       "    </tr>\n",
       "    <tr>\n",
       "      <th>1</th>\n",
       "      <td>Crema de calabaza asada al curry</td>\n",
       "      <td>[calabaza, cebolleta, aceite de oliva, diente de ajo, caldo de verduras, semillas de sésamo, curry, sal, almendras fileteadas]</td>\n",
       "      <td>55 min</td>\n",
       "      <td>https://www.lecturas.com/recetas/crema-calabaza-asada-curry_3858.html</td>\n",
       "    </tr>\n",
       "    <tr>\n",
       "      <th>2</th>\n",
       "      <td>Lubina al vapor con patatas y mojo verde</td>\n",
       "      <td>[lubinas de ración en filetes, patatas pequeñas, dientes de ajo, pimienta, cilantro, perejil, aceite de oliva, pimentón, vinagre, semillas de comino, caldo de pescado sin sal, cebolla en polvo, ajo en polvo]</td>\n",
       "      <td>25 min</td>\n",
       "      <td>https://www.lecturas.com/recetas/lubina-vapor-patatas-y-mojo-verde_3849.html</td>\n",
       "    </tr>\n",
       "  </tbody>\n",
       "</table>\n",
       "</div>"
      ],
      "text/plain": [
       "                                recipe_name  \\\n",
       "0              Huevos al plato con verduras   \n",
       "1          Crema de calabaza asada al curry   \n",
       "2  Lubina al vapor con patatas y mojo verde   \n",
       "\n",
       "                                                                                                                                                                                                       ingredients  \\\n",
       "0                                                                          [huevo, pimiento rojo, judía verde, cebolla, diente de ajo, jamón serrano, caldo de verduras, aceite de oliva, pimentón, sal, pimienta]   \n",
       "1                                                                                   [calabaza, cebolleta, aceite de oliva, diente de ajo, caldo de verduras, semillas de sésamo, curry, sal, almendras fileteadas]   \n",
       "2  [lubinas de ración en filetes, patatas pequeñas, dientes de ajo, pimienta, cilantro, perejil, aceite de oliva, pimentón, vinagre, semillas de comino, caldo de pescado sin sal, cebolla en polvo, ajo en polvo]   \n",
       "\n",
       "  time_preparation  \\\n",
       "0           75 min   \n",
       "1           55 min   \n",
       "2           25 min   \n",
       "\n",
       "                                                                     recipe_url  \n",
       "0              https://www.lecturas.com/recetas/huevos-plato-verduras_3860.html  \n",
       "1         https://www.lecturas.com/recetas/crema-calabaza-asada-curry_3858.html  \n",
       "2  https://www.lecturas.com/recetas/lubina-vapor-patatas-y-mojo-verde_3849.html  "
      ]
     },
     "execution_count": 7,
     "metadata": {},
     "output_type": "execute_result"
    }
   ],
   "source": [
    "# Dataframe\n",
    "\n",
    "data = pd.DataFrame(first_page_recipes)\n",
    "\n",
    "pd.options.display.max_colwidth = 1000\n",
    "\n",
    "data"
   ]
  },
  {
   "cell_type": "code",
   "execution_count": 5,
   "metadata": {},
   "outputs": [
    {
     "ename": "KeyboardInterrupt",
     "evalue": "",
     "output_type": "error",
     "traceback": [
      "\u001b[0;31m---------------------------------------------------------------------------\u001b[0m",
      "\u001b[0;31mKeyboardInterrupt\u001b[0m                         Traceback (most recent call last)",
      "\u001b[0;32m<ipython-input-5-94d17b11cf88>\u001b[0m in \u001b[0;36m<module>\u001b[0;34m\u001b[0m\n\u001b[1;32m      6\u001b[0m \u001b[0;32mwhile\u001b[0m \u001b[0melement\u001b[0m\u001b[0;34m:\u001b[0m\u001b[0;34m\u001b[0m\u001b[0;34m\u001b[0m\u001b[0m\n\u001b[1;32m      7\u001b[0m     \u001b[0mdriver\u001b[0m\u001b[0;34m.\u001b[0m\u001b[0mexecute_script\u001b[0m\u001b[0;34m(\u001b[0m\u001b[0;34m\"arguments[0].click()\"\u001b[0m\u001b[0;34m,\u001b[0m \u001b[0melement\u001b[0m\u001b[0;34m[\u001b[0m\u001b[0;36m0\u001b[0m\u001b[0;34m]\u001b[0m\u001b[0;34m)\u001b[0m\u001b[0;34m\u001b[0m\u001b[0;34m\u001b[0m\u001b[0m\n\u001b[0;32m----> 8\u001b[0;31m     \u001b[0mtime\u001b[0m\u001b[0;34m.\u001b[0m\u001b[0msleep\u001b[0m\u001b[0;34m(\u001b[0m\u001b[0;36m2\u001b[0m\u001b[0;34m)\u001b[0m\u001b[0;34m\u001b[0m\u001b[0;34m\u001b[0m\u001b[0m\n\u001b[0m\u001b[1;32m      9\u001b[0m     \u001b[0melement\u001b[0m \u001b[0;34m=\u001b[0m \u001b[0mdriver\u001b[0m\u001b[0;34m.\u001b[0m\u001b[0mfind_elements_by_class_name\u001b[0m\u001b[0;34m(\u001b[0m\u001b[0;34m'btn-more'\u001b[0m\u001b[0;34m)\u001b[0m\u001b[0;34m\u001b[0m\u001b[0;34m\u001b[0m\u001b[0m\n",
      "\u001b[0;31mKeyboardInterrupt\u001b[0m: "
     ]
    }
   ],
   "source": [
    "# Second page\n",
    "\n",
    "time.sleep(2)\n",
    "element = driver.find_elements_by_class_name('btn-more')\n",
    "\n",
    "while element:\n",
    "    driver.execute_script(\"arguments[0].click()\", element[0])\n",
    "    time.sleep(2)\n",
    "    element = driver.find_elements_by_class_name('btn-more')"
   ]
  },
  {
   "cell_type": "code",
   "execution_count": null,
   "metadata": {},
   "outputs": [],
   "source": [
    "# Function_2:\n",
    "\n",
    "time.sleep(3)\n",
    "\n",
    "#recipe_sumup_scrap = driver.find_elements_by_tag_name('h3')\n",
    "\n",
    "recipe_sumup_scrap = driver.find_elements_by_class_name(\"element-header\")\n",
    "\n",
    "time.sleep(3)"
   ]
  },
  {
   "cell_type": "code",
   "execution_count": null,
   "metadata": {},
   "outputs": [],
   "source": [
    "len(recipe_sumup_scrap)"
   ]
  },
  {
   "cell_type": "code",
   "execution_count": null,
   "metadata": {},
   "outputs": [],
   "source": [
    "recipes_list_dirty = []\n",
    "for x in np.arange(len(recipe_sumup_scrap)-1):\n",
    "    recipes_list_dirty.append(recipe_sumup_scrap[x].text)\n",
    "\n",
    "recipes_list_clean = recipes_list_dirty\n",
    "print(len(recipes_list_clean))\n",
    "recipes_list_clean"
   ]
  },
  {
   "cell_type": "raw",
   "metadata": {},
   "source": [
    "second_page_recipes = []\n",
    "\n",
    "for x in np.arange(len(recipe_sumup_scrap)-1):\n",
    "    try:\n",
    "        recipe_dict = {}\n",
    "        time.sleep(5)\n",
    "        recipe_sumup_scrap = driver.find_elements_by_class_name(\"element-header\")\n",
    "        recipe_sumup_scrap[x].click()\n",
    "        time.sleep(3)\n",
    "        recipe_dict[\"recipe_name\"] = driver.find_element_by_tag_name('h1').text\n",
    "        time_scrap = driver.find_elements_by_class_name(\"metaheader-value\")\n",
    "        ingredients_list = []\n",
    "        recipe_ingred = driver.find_elements_by_tag_name('td')\n",
    "        for x in np.arange(len(recipe_ingred)-1):\n",
    "            if x % 2 != 0:\n",
    "                ingredients_list.append(recipe_ingred[x].text)\n",
    "            else:\n",
    "                pass\n",
    "        recipe_dict[\"ingredients\"] = ingredients_list\n",
    "        recipe_dict[\"time_preparation\"] = time_scrap[1].text\n",
    "        recipe_dict[\"recipe_url\"] = driver.current_url\n",
    "        second_page_recipes.append(recipe_dict)\n",
    "        driver.back()\n",
    "        time.sleep(3)\n",
    "        element = driver.find_elements_by_class_name('btn-more')\n",
    "        element[0].click()\n",
    "    except:\n",
    "        driver.execute_script(\"arguments[x].click();\", recipe_sumup_scrap)"
   ]
  },
  {
   "cell_type": "raw",
   "metadata": {},
   "source": [
    "second_page_recipes = []\n",
    "\n",
    "for x in np.arange(len(recipe_sumup_scrap)-1):\n",
    "    recipe_dict = {}\n",
    "    time.sleep(3)\n",
    "    recipe_sumup_scrap = driver.find_elements_by_class_name(\"element-header\")\n",
    "    driver.execute_script(\"arguments[0].click()\", recipe_sumup_scrap[x])\n",
    "    #recipe_sumup_scrap[x].click()\n",
    "    time.sleep(3)\n",
    "    recipe_dict[\"recipe_name\"] = driver.find_element_by_tag_name('h1').text\n",
    "    time_scrap = driver.find_elements_by_class_name(\"metaheader-value\")\n",
    "    ingredients_list = []\n",
    "    recipe_ingred = driver.find_elements_by_tag_name('td')\n",
    "    for x in np.arange(len(recipe_ingred)-1):\n",
    "        if x % 2 != 0:\n",
    "            ingredients_list.append(recipe_ingred[x].text)\n",
    "        else:\n",
    "            pass\n",
    "    recipe_dict[\"ingredients\"] = ingredients_list\n",
    "    recipe_dict[\"time_preparation\"] = time_scrap[1].text\n",
    "    recipe_dict[\"recipe_url\"] = driver.current_url\n",
    "    second_page_recipes.append(recipe_dict)\n",
    "    driver.back()\n",
    "    time.sleep(3)\n",
    "    element = driver.find_elements_by_class_name('btn-more')\n",
    "    driver.execute_script(\"arguments[0].click()\", element[0])"
   ]
  },
  {
   "cell_type": "code",
   "execution_count": null,
   "metadata": {},
   "outputs": [],
   "source": [
    "#pd.DataFrame(second_page_recipes)"
   ]
  },
  {
   "cell_type": "code",
   "execution_count": null,
   "metadata": {},
   "outputs": [],
   "source": []
  }
 ],
 "metadata": {
  "kernelspec": {
   "display_name": "Python [conda env:recipe_env]",
   "language": "python",
   "name": "conda-env-recipe_env-py"
  },
  "language_info": {
   "codemirror_mode": {
    "name": "ipython",
    "version": 3
   },
   "file_extension": ".py",
   "mimetype": "text/x-python",
   "name": "python",
   "nbconvert_exporter": "python",
   "pygments_lexer": "ipython3",
   "version": "3.7.7"
  }
 },
 "nbformat": 4,
 "nbformat_minor": 4
}
